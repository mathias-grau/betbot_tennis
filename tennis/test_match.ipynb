{
 "cells": [
  {
   "cell_type": "code",
   "execution_count": 1,
   "metadata": {},
   "outputs": [
    {
     "name": "stdout",
     "output_type": "stream",
     "text": [
      "/users/eleves-b/2021/mathias.grau/betbot_tennis/tennis\n",
      "/users/eleves-b/2021/mathias.grau/betbot_tennis/tennis\n",
      "Loading data for tournaments {'past-london-2023-atp-singles', 'past-dubai-atp-singles', 'past-newport-2023-atp-singles', 'past-acapulco-2023-atp-singles', 'past-basel-2023-atp-singles', 'past-cordoba-atp-singles', 'past-eastbourne-2023-atp-singles', 'past-australian-open-atp-singles', 'past-auckland-atp-singles', 'past-rio-de-janeiro-atp-singles', 'past-rome-atp-singles', 'past-halle-2023-atp-singles', 'past-monte-carlo-atp-singles', 'past-stuttgart-2023-atp-singles', 'past-adelaide-2023-atp-singles', 'past-geneva-atp-singles', 'past-indian-wells-2023-atp-singles', 'past-london-atp-singles', 'past-marrakech-2023-atp-singles', 'past-umag-2023-atp-singles', 'past-bucharest-atp-singles', 'past-houston-2023-atp-singles', 'past-lyon-atp-singles', 'past-mallorca-2023-atp-singles', 'past-santiago-atp-singles', 'past-dallas-atp-singles', 'past-marseille-atp-singles', 'past-metz-2023-atp-singles', 'past-brisbane-atp-singles', 'past-montpellier-atp-singles', 'past-houston-atp-singles', 'past-stuttgart-atp-singles', 'past-marrakech-atp-singles', 'past-miami-atp-singles', 'past-santiago-2023-atp-singles', 'past-gstaad-2023-atp-singles', 'past-hertogenbosch-atp-singles', 'past-atlanta-2023-atp-singles', 'past-zhuhai-2023-atp-singles', 'past-stockholm-2023-atp-singles', 'past-shanghai-2023-atp-singles', 'past-halle-atp-singles', 'past-finals-turin-2023-atp-singles', 'past-estoril-2023-atp-singles', 'past-dallas-2023-atp-singles', 'past-monte-carlo-2023-atp-singles', 'past-adelaide-atp-singles', 'past-bastad-2023-atp-singles', 'past-estoril-atp-singles', 'past-french-open-atp-singles', 'past-doha-atp-singles', 'past-winston-salem-2023-atp-singles', 'past-marseille-2023-atp-singles', 'past-antwerp-2023-atp-singles', 'past-munich-2023-atp-singles', 'past-hong-kong-atp-singles', 'past-barcelona-atp-singles', 'past-madrid-atp-singles', 'past-miami-2023-atp-singles', 'past-auckland-2023-atp-singles', 'past-beijing-2023-atp-singles', 'past-washington-2023-atp-singles', 'past-wimbledon-2023-atp-singles', 'past-paris-2023-atp-singles', 'past-acapulco-atp-singles', 'past-tokyo-2023-atp-singles', 'past-hamburg-2023-atp-singles', 'past-cincinnati-2023-atp-singles', 'past-rome-2023-atp-singles', 'past-australian-open-2023-atp-singles', 'past-cordoba-2023-atp-singles', 'past-madrid-2023-atp-singles', 'past-munich-atp-singles', 'past-chengdu-2023-atp-singles', 'past-geneva-2023-atp-singles', 'past-us-open-2023-atp-singles', 'past-indian-wells-atp-singles', 'past-doha-2023-atp-singles', 'past-dubai-2023-atp-singles', 'past-french-open-2023-atp-singles', 'past-montpellier-2023-atp-singles', 'past-barcelona-2023-atp-singles', 'past-lyon-2023-atp-singles', 'past-vienna-2023-atp-singles', 'past-rio-de-janeiro-2023-atp-singles', 'past-hertogenbosch-2023-atp-singles'} ...\n",
      "... loaded 5643 matches\n",
      "Updating id table ...\n",
      "... id table updated\n"
     ]
    }
   ],
   "source": [
    "import os \n",
    "print(os.getcwd())\n",
    "if os.getcwd().split('/')[-1] == 'betbot_tennis':\n",
    "    os.chdir(os.path.join(os.getcwd(), 'tennis'))\n",
    "elif os.getcwd().split('/')[-1] == 'tennis':\n",
    "    pass\n",
    "else:\n",
    "    raise ValueError('Not in root dir')\n",
    "print(os.getcwd())\n",
    "from utils.classes import TennisMatchDataset\n",
    "import numpy as np\n",
    "import pandas as pd\n",
    "import json\n",
    "import time\n",
    "\n",
    "\n",
    "tournaments = [   \n",
    "                                        'past-french-open-atp-singles', \n",
    "                                        'past-australian-open-atp-singles',\n",
    "                                        'past-rome-atp-singles', \n",
    "                                        'past-madrid-atp-singles',\n",
    "                                        'past-monte-carlo-atp-singles',\n",
    "                                        'past-lyon-atp-singles',\n",
    "                                        'past-barcelona-atp-singles',\n",
    "                                        'past-munich-atp-singles',\n",
    "                                        'past-geneva-atp-singles',\n",
    "                                        'past-estoril-atp-singles',\n",
    "                                        'past-houston-atp-singles',\n",
    "                                        'past-marrakech-atp-singles',\n",
    "                                        'past-bucharest-atp-singles',\n",
    "                                        'past-doha-atp-singles',\n",
    "                                        'past-dubai-atp-singles',\n",
    "                                        'past-indian-wells-atp-singles',\n",
    "                                        'past-miami-atp-singles',\n",
    "                                        'past-acapulco-atp-singles',\n",
    "                                        'past-rio-de-janeiro-atp-singles',\n",
    "                                        'past-santiago-atp-singles',\n",
    "                                        'past-brisbane-atp-singles',\n",
    "                                        'past-hong-kong-atp-singles',\n",
    "                                        'past-auckland-atp-singles',\n",
    "                                        'past-adelaide-atp-singles',\n",
    "                                        'past-montpellier-atp-singles',\n",
    "                                        'past-marseille-atp-singles',\n",
    "                                        'past-cordoba-atp-singles',\n",
    "                                        'past-dallas-atp-singles',\n",
    "                                        'past-french-open-2023-atp-singles',\n",
    "                                        'past-australian-open-2023-atp-singles',\n",
    "                                        'past-rome-2023-atp-singles',\n",
    "                                        'past-madrid-2023-atp-singles',\n",
    "                                        'past-monte-carlo-2023-atp-singles',\n",
    "                                        'past-lyon-2023-atp-singles',\n",
    "                                        'past-barcelona-2023-atp-singles',\n",
    "                                        'past-munich-2023-atp-singles',\n",
    "                                        'past-geneva-2023-atp-singles',\n",
    "                                        'past-estoril-2023-atp-singles',\n",
    "                                        'past-houston-2023-atp-singles',\n",
    "                                        'past-marrakech-2023-atp-singles', \n",
    "                                        'past-doha-2023-atp-singles',\n",
    "                                        'past-dubai-2023-atp-singles',\n",
    "                                        'past-indian-wells-2023-atp-singles',\n",
    "                                        'past-miami-2023-atp-singles',\n",
    "                                        'past-acapulco-2023-atp-singles',\n",
    "                                        'past-rio-de-janeiro-2023-atp-singles',\n",
    "                                        'past-santiago-2023-atp-singles',\n",
    "                                        'past-auckland-2023-atp-singles',\n",
    "                                        'past-adelaide-2023-atp-singles',\n",
    "                                        'past-montpellier-2023-atp-singles',\n",
    "                                        'past-marseille-2023-atp-singles',\n",
    "                                        'past-cordoba-2023-atp-singles',\n",
    "                                        'past-dallas-2023-atp-singles',\n",
    "                                        'past-stuttgart-2023-atp-singles',\n",
    "                                        'past-hertogenbosch-2023-atp-singles',\n",
    "                                        'past-halle-2023-atp-singles',\n",
    "                                        'past-london-2023-atp-singles',\n",
    "                                        'past-mallorca-2023-atp-singles',\n",
    "                                        'past-eastbourne-2023-atp-singles',\n",
    "                                        'past-wimbledon-2023-atp-singles',\n",
    "                                        'past-hamburg-2023-atp-singles',\n",
    "                                        'past-bastad-2023-atp-singles',\n",
    "                                        'past-gstaad-2023-atp-singles', ###\n",
    "                                        'past-newport-2023-atp-singles',\n",
    "                                        'past-umag-2023-atp-singles',\n",
    "                                        'past-atlanta-2023-atp-singles',\n",
    "                                        'past-washington-2023-atp-singles',\n",
    "                                        'past-cincinnati-2023-atp-singles',\n",
    "                                        'past-winston-salem-2023-atp-singles',\n",
    "                                        'past-us-open-2023-atp-singles', ###\n",
    "                                        'past-chengdu-2023-atp-singles',\n",
    "                                        'past-zhuhai-2023-atp-singles', ###\n",
    "                                        'past-tokyo-2023-atp-singles',\n",
    "                                        'past-beijing-2023-atp-singles', ###\n",
    "                                        'past-shanghai-2023-atp-singles',\n",
    "                                        'past-stockholm-2023-atp-singles',\n",
    "                                        'past-antwerp-2023-atp-singles', ###\n",
    "                                        'past-vienna-2023-atp-singles',\n",
    "                                        'past-basel-2023-atp-singles',\n",
    "                                        'past-paris-2023-atp-singles',\n",
    "                                        'past-metz-2023-atp-singles',\n",
    "                                        'past-finals-turin-2023-atp-singles',\n",
    "                                        'past-stuttgart-atp-singles',\n",
    "                                        'past-hertogenbosch-atp-singles',\n",
    "                                        'past-halle-atp-singles',\n",
    "                                        'past-london-atp-singles',\n",
    "                                     ]\n",
    "\n",
    "\n",
    "\n",
    "tennis_dataset = TennisMatchDataset(tournaments)\n"
   ]
  },
  {
   "cell_type": "code",
   "execution_count": 2,
   "metadata": {},
   "outputs": [],
   "source": [
    "MATCH_ID = '0YmffNto'\n"
   ]
  },
  {
   "cell_type": "code",
   "execution_count": 3,
   "metadata": {},
   "outputs": [
    {
     "data": {
      "text/plain": [
       "('Eubanks C.', 'Shelton B.')"
      ]
     },
     "execution_count": 3,
     "metadata": {},
     "output_type": "execute_result"
    }
   ],
   "source": [
    "\n",
    "tennis_dataset.get_match(MATCH_ID).get_players()\n"
   ]
  },
  {
   "cell_type": "code",
   "execution_count": 4,
   "metadata": {},
   "outputs": [
    {
     "name": "stdout",
     "output_type": "stream",
     "text": [
      "[3.0, -1.0]\n",
      "---\n",
      "0\n",
      "[0.044, 0.56, 0.804, 0.5, 0.64, 0.84, 0.66, 0.34, 0.11, 0.3, 0.49, 0.61, 0.88, 0.69, 0.38, 0.12, 0.29, 0.5, 0.286, 0.383, 0.364, 0.485, 0.0, 0.111, 0.0, 1.0, 0.333, 0.406, 0.0, 0.5, 0.333, 0.591, 1.0, 0.73, 0.0, 0.158, 0.3, 0.345, 0.0, 0.7]\n",
      "---\n",
      "5\n",
      "[0.014, 0.42, 0.772, -0.3333333333333333, 0.68, 0.86, 0.68, 0.38, 0.15, 0.33, 0.5, 0.77, 0.9, 0.69, 0.3, 0.12, 0.32, 0.5, 0.605, 0.553, 0.481, 0.5, 0.0, 0.25, 1.0, 1.0, 0.632, 0.512, 0.75, 0.75, 0.5, 0.462, 0.813, 0.786, 0.455, 0.365, 0.588, 0.57, 0.75, 0.375]\n",
      "---\n",
      "1\n",
      "[-1, -1, 0, 0]\n",
      "---\n",
      "2\n",
      "[0, 0, 0, 0]\n",
      "---\n",
      "4\n",
      "[-1, 1, 1, -1, 1, 1, -1, 1, -1, -1, 1, -1, 1, 1, -1]\n",
      "---\n",
      "0\n",
      "[-1, 1, -1, -1, -1, -1, 1, 1, -1, -1, 1, -1, -1, 1, -1]\n",
      "---\n",
      "0\n",
      "12\n"
     ]
    }
   ],
   "source": [
    "num_zeros = 0\n",
    "for vec in tennis_dataset.get_match(MATCH_ID).get_feature_vector():\n",
    "    print(vec)\n",
    "    print('---')\n",
    "    zeros = np.sum(np.array(vec) == 0)\n",
    "    num_zeros += zeros\n",
    "    print(zeros)\n",
    "\n",
    "print(num_zeros)"
   ]
  },
  {
   "cell_type": "code",
   "execution_count": 5,
   "metadata": {},
   "outputs": [
    {
     "data": {
      "text/plain": [
       "[0.044,\n",
       " 0.56,\n",
       " 0.804,\n",
       " 1.0,\n",
       " 0.64,\n",
       " 0.84,\n",
       " 0.66,\n",
       " 0.34,\n",
       " 0.11,\n",
       " 0.3,\n",
       " 0.49,\n",
       " 0.0,\n",
       " 0.0,\n",
       " 0.0,\n",
       " 0.0,\n",
       " 0.0,\n",
       " 0.0,\n",
       " 0.0,\n",
       " 0.0,\n",
       " 0.0,\n",
       " 0.0,\n",
       " 0.0,\n",
       " 0.0,\n",
       " 0.0,\n",
       " 0.0,\n",
       " 0.0,\n",
       " 0.0,\n",
       " 0.0,\n",
       " 0.0,\n",
       " 0.0,\n",
       " 0.0,\n",
       " 0.0,\n",
       " 0.3,\n",
       " 0.387,\n",
       " 0.364,\n",
       " 0.485,\n",
       " 0.0,\n",
       " 0.111,\n",
       " 0.0,\n",
       " 1.0,\n",
       " 0.333,\n",
       " 0.406,\n",
       " 0.0,\n",
       " 0.5,\n",
       " 0.4,\n",
       " 0.619,\n",
       " 1.0,\n",
       " 0.73,\n",
       " 0.0,\n",
       " 0.161,\n",
       " 0.316,\n",
       " 0.349,\n",
       " 0.0,\n",
       " 0.7]"
      ]
     },
     "execution_count": 5,
     "metadata": {},
     "output_type": "execute_result"
    }
   ],
   "source": [
    "[0.044, 0.56, 0.804, 0.5, 0.64, 0.84, 0.66, 0.34, 0.11, 0.3, 0.49, 0.0, 0.0, 0.0, 0.0, 0.0, 0.0, 0.0, 0.3, 0.387, 0.364, 0.485, 0.0, 0.111, 0.0, 1.0, 0.333, 0.406, 0.0, 0.5, 0.4, 0.619, 1.0, 0.73, 0.0, 0.161, 0.316, 0.349, 0.0, 0.7]\n",
    "[0.044, 0.56, 0.804, 1.0, 0.64, 0.84, 0.66, 0.34, 0.11, 0.3, 0.49, 0.0, 0.0, 0.0, 0.0, 0.0, 0.0, 0.0, 0.0, 0.0, 0.0, 0.0, 0.0, 0.0, 0.0, 0.0, 0.0, 0.0, 0.0, 0.0, 0.0, 0.0, 0.3, 0.387, 0.364, 0.485, 0.0, 0.111, 0.0, 1.0, 0.333, 0.406, 0.0, 0.5, 0.4, 0.619, 1.0, 0.73, 0.0, 0.161, 0.316, 0.349, 0.0, 0.7]\n"
   ]
  },
  {
   "cell_type": "code",
   "execution_count": 6,
   "metadata": {},
   "outputs": [
    {
     "name": "stderr",
     "output_type": "stream",
     "text": [
      "100%|██████████| 86/86 [00:01<00:00, 73.28it/s] "
     ]
    },
    {
     "name": "stdout",
     "output_type": "stream",
     "text": [
      "[0.3333333333333333, -1.0]\n",
      "---\n",
      "0\n",
      "[0.044, 0.56, 0.804, 1.0, 0.64, 0.84, 0.66, 0.34, 0.11, 0.3, 0.49, 0.66, 0.84, 0.66, 0.33, 0.11, 0.3, 0.48, 0.52, 0.75, 0.62, 0.32, 0.11, 0.31, 0.47, 0.61, 0.88, 0.69, 0.38, 0.12, 0.29, 0.5, 0.286, 0.383, 0.364, 0.485, 0.0, 0.111, 0.0, 1.0, 0.333, 0.406, 0.0, 0.5, 0.333, 0.591, 1.0, 0.73, 0.0, 0.158, 0.3, 0.345, 0.0, 0.7]\n",
      "---\n",
      "5\n",
      "[0.014, 0.42, 0.772, -0.6666666666666666, 0.68, 0.86, 0.68, 0.38, 0.15, 0.33, 0.5, 0.67, 0.87, 0.68, 0.39, 0.16, 0.33, 0.51, 0.63, 0.81, 0.64, 0.39, 0.18, 0.34, 0.49, 0.77, 0.9, 0.69, 0.3, 0.12, 0.32, 0.5, 0.605, 0.553, 0.481, 0.5, 0.0, 0.25, 1.0, 1.0, 0.632, 0.512, 0.75, 0.75, 0.5, 0.462, 0.813, 0.786, 0.455, 0.365, 0.588, 0.57, 0.75, 0.375]\n",
      "---\n",
      "1\n",
      "[-1, -1, 0, 0]\n",
      "---\n",
      "2\n",
      "[0, 0, 0, 0]\n",
      "---\n",
      "4\n",
      "[-1, 1, 1, -1, 1, 1, -1, 1, -1, -1, 1, -1, 1, 1, -1]\n",
      "---\n",
      "0\n",
      "[-1, 1, -1, -1, -1, -1, 1, 1, -1, -1, 1, -1, -1, 1, -1]\n",
      "---\n",
      "0\n"
     ]
    },
    {
     "name": "stderr",
     "output_type": "stream",
     "text": [
      "\n"
     ]
    }
   ],
   "source": [
    "list_vectors, list_labels, lst_match_id, nb_errors = tennis_dataset.get_past_vectors(verbose=False)\n",
    "indice_match = np.where(np.array(lst_match_id) == MATCH_ID)[0][0]\n",
    "vectors = list_vectors[indice_match]\n",
    "for vec in vectors:\n",
    "    print(vec)\n",
    "    print('---')\n",
    "    zeros = np.sum(np.array(vec) == 0)\n",
    "    print(zeros)"
   ]
  },
  {
   "cell_type": "code",
   "execution_count": 7,
   "metadata": {},
   "outputs": [
    {
     "name": "stdout",
     "output_type": "stream",
     "text": [
      "Loading data for tournaments {'gstaad-atp-singles', 'bastad-atp-singles'} ...\n",
      "... loaded 3 matches\n",
      "Updating id table ...\n",
      "... id table updated\n"
     ]
    }
   ],
   "source": [
    "from utils.classes import FutureTennisMatchDataset\n",
    "tournaments = ['bastad-atp-singles',\n",
    "               'gstaad-atp-singles']\n",
    "future_tennis_dataset = FutureTennisMatchDataset(tournaments)"
   ]
  },
  {
   "cell_type": "code",
   "execution_count": 8,
   "metadata": {},
   "outputs": [
    {
     "name": "stdout",
     "output_type": "stream",
     "text": [
      "6k15UQ1N\n"
     ]
    },
    {
     "data": {
      "text/plain": [
       "('Nadal R.', 'Ajdukovic D.')"
      ]
     },
     "execution_count": 8,
     "metadata": {},
     "output_type": "execute_result"
    }
   ],
   "source": [
    "MATCH_ID = future_tennis_dataset.get_matches_ids()[0]\n",
    "print(MATCH_ID)\n",
    "future_tennis_dataset.get_match(MATCH_ID).get_players()"
   ]
  },
  {
   "cell_type": "code",
   "execution_count": 9,
   "metadata": {},
   "outputs": [
    {
     "name": "stderr",
     "output_type": "stream",
     "text": [
      "100%|██████████| 2/2 [00:00<00:00, 582.30it/s]"
     ]
    },
    {
     "name": "stdout",
     "output_type": "stream",
     "text": [
      "Error 'n409' for match 6k15UQ1N in tournament bastad-atp-singles\n",
      "Error 'm0tb' for match ABBua54U in tournament bastad-atp-singles\n"
     ]
    },
    {
     "name": "stderr",
     "output_type": "stream",
     "text": [
      "\n"
     ]
    },
    {
     "data": {
      "text/plain": [
       "([[[0.3333333333333333, 1.0],\n",
       "   [0.011,\n",
       "    0.5,\n",
       "    0.772,\n",
       "    1.0,\n",
       "    0.65,\n",
       "    0.87,\n",
       "    0.68,\n",
       "    0.4,\n",
       "    0.21,\n",
       "    0.36,\n",
       "    0.52,\n",
       "    0.66,\n",
       "    0.87,\n",
       "    0.69,\n",
       "    0.39,\n",
       "    0.19,\n",
       "    0.35,\n",
       "    0.52,\n",
       "    0.63,\n",
       "    0.85,\n",
       "    0.67,\n",
       "    0.43,\n",
       "    0.28,\n",
       "    0.4,\n",
       "    0.53,\n",
       "    0.66,\n",
       "    0.88,\n",
       "    0.7,\n",
       "    0.31,\n",
       "    0.14,\n",
       "    0.33,\n",
       "    0.51,\n",
       "    0.714,\n",
       "    0.68,\n",
       "    0.632,\n",
       "    0.579,\n",
       "    0.429,\n",
       "    0.402,\n",
       "    0.5,\n",
       "    0.379,\n",
       "    0.667,\n",
       "    0.582,\n",
       "    0.0,\n",
       "    0.579,\n",
       "    0.81,\n",
       "    0.766,\n",
       "    0.923,\n",
       "    0.896,\n",
       "    0.375,\n",
       "    0.309,\n",
       "    0.737,\n",
       "    0.692,\n",
       "    0.5,\n",
       "    0.556],\n",
       "   [0.065,\n",
       "    0.56,\n",
       "    0.784,\n",
       "    0.6666666666666666,\n",
       "    0.69,\n",
       "    0.88,\n",
       "    0.69,\n",
       "    0.37,\n",
       "    0.18,\n",
       "    0.35,\n",
       "    0.52,\n",
       "    0.68,\n",
       "    0.87,\n",
       "    0.68,\n",
       "    0.37,\n",
       "    0.16,\n",
       "    0.34,\n",
       "    0.51,\n",
       "    0.67,\n",
       "    0.86,\n",
       "    0.68,\n",
       "    0.37,\n",
       "    0.22,\n",
       "    0.37,\n",
       "    0.52,\n",
       "    0.73,\n",
       "    0.91,\n",
       "    0.71,\n",
       "    0.35,\n",
       "    0.18,\n",
       "    0.34,\n",
       "    0.52,\n",
       "    0.688,\n",
       "    0.647,\n",
       "    0.444,\n",
       "    0.547,\n",
       "    0.0,\n",
       "    0.265,\n",
       "    0.5,\n",
       "    0.571,\n",
       "    0.5,\n",
       "    0.566,\n",
       "    0.0,\n",
       "    0.778,\n",
       "    0.833,\n",
       "    0.712,\n",
       "    0.769,\n",
       "    0.865,\n",
       "    0.333,\n",
       "    0.314,\n",
       "    0.714,\n",
       "    0.638,\n",
       "    0.5,\n",
       "    0.739],\n",
       "   [1, 1, -1, 0],\n",
       "   [1, 0, 0, 0],\n",
       "   [-1, 1, -1, 1, -1, 1, 1, 1, 1, -1, 1, 1, 1, -1, -1],\n",
       "   [-1, 1, -1, 1, -1, 1, 1, 1, 1, -1, 1, 1, 1, 1, 1]]],\n",
       " ['lIIEcgJH'],\n",
       " 2)"
      ]
     },
     "execution_count": 9,
     "metadata": {},
     "output_type": "execute_result"
    }
   ],
   "source": [
    "future_tennis_dataset.get_vectors()"
   ]
  }
 ],
 "metadata": {
  "kernelspec": {
   "display_name": "Python 3",
   "language": "python",
   "name": "python3"
  },
  "language_info": {
   "codemirror_mode": {
    "name": "ipython",
    "version": 3
   },
   "file_extension": ".py",
   "mimetype": "text/x-python",
   "name": "python",
   "nbconvert_exporter": "python",
   "pygments_lexer": "ipython3",
   "version": "3.9.18"
  }
 },
 "nbformat": 4,
 "nbformat_minor": 2
}
