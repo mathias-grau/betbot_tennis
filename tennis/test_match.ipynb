{
 "cells": [
  {
   "cell_type": "code",
   "execution_count": 2,
   "metadata": {},
   "outputs": [
    {
     "name": "stdout",
     "output_type": "stream",
     "text": [
      "/users/eleves-b/2021/mathias.grau/betbot_tennis/tennis\n",
      "/users/eleves-b/2021/mathias.grau/betbot_tennis/tennis\n",
      "Loading data for tournaments {'past-santiago-2023-atp-singles', 'past-tokyo-2023-atp-singles', 'past-london-2023-atp-singles', 'past-french-open-2023-atp-singles', 'past-cordoba-atp-singles', 'past-finals-turin-2023-atp-singles', 'past-barcelona-2023-atp-singles', 'past-miami-2023-atp-singles', 'past-stuttgart-atp-singles', 'past-australian-open-2023-atp-singles', 'past-geneva-2023-atp-singles', 'past-dallas-atp-singles', 'past-monte-carlo-2023-atp-singles', 'past-dubai-2023-atp-singles', 'past-umag-2023-atp-singles', 'past-doha-atp-singles', 'past-metz-2023-atp-singles', 'past-lyon-atp-singles', 'past-stockholm-2023-atp-singles', 'past-acapulco-atp-singles', 'past-adelaide-atp-singles', 'past-marseille-2023-atp-singles', 'past-shanghai-2023-atp-singles', 'past-vienna-2023-atp-singles', 'past-cordoba-2023-atp-singles', 'past-eastbourne-2023-atp-singles', 'past-monte-carlo-atp-singles', 'past-halle-2023-atp-singles', 'past-hertogenbosch-atp-singles', 'past-hong-kong-atp-singles', 'past-madrid-atp-singles', 'past-bucharest-atp-singles', 'past-rome-2023-atp-singles', 'past-barcelona-atp-singles', 'past-houston-2023-atp-singles', 'past-munich-atp-singles', 'past-mallorca-2023-atp-singles', 'past-rome-atp-singles', 'past-rio-de-janeiro-2023-atp-singles', 'past-acapulco-2023-atp-singles', 'past-gstaad-2023-atp-singles', 'past-adelaide-2023-atp-singles', 'past-cincinnati-2023-atp-singles', 'past-brisbane-atp-singles', 'past-chengdu-2023-atp-singles', 'past-rio-de-janeiro-atp-singles', 'past-montpellier-atp-singles', 'past-indian-wells-2023-atp-singles', 'past-australian-open-atp-singles', 'past-halle-atp-singles', 'past-beijing-2023-atp-singles', 'past-marrakech-atp-singles', 'past-doha-2023-atp-singles', 'past-basel-2023-atp-singles', 'past-miami-atp-singles', 'past-stuttgart-2023-atp-singles', 'past-newport-2023-atp-singles', 'past-wimbledon-2023-atp-singles', 'past-antwerp-2023-atp-singles', 'past-houston-atp-singles', 'past-estoril-atp-singles', 'past-london-atp-singles', 'past-french-open-atp-singles', 'past-paris-2023-atp-singles', 'past-atlanta-2023-atp-singles', 'past-hamburg-2023-atp-singles', 'past-geneva-atp-singles', 'past-indian-wells-atp-singles', 'past-hertogenbosch-2023-atp-singles', 'past-marseille-atp-singles', 'past-winston-salem-2023-atp-singles', 'past-dubai-atp-singles', 'past-bastad-2023-atp-singles', 'past-madrid-2023-atp-singles', 'past-washington-2023-atp-singles', 'past-us-open-2023-atp-singles', 'past-dallas-2023-atp-singles', 'past-santiago-atp-singles', 'past-munich-2023-atp-singles', 'past-montpellier-2023-atp-singles', 'past-auckland-2023-atp-singles', 'past-auckland-atp-singles', 'past-lyon-2023-atp-singles', 'past-estoril-2023-atp-singles', 'past-marrakech-2023-atp-singles', 'past-zhuhai-2023-atp-singles'} ...\n",
      "... loaded 5643 matches\n",
      "Updating id table ...\n",
      "... id table updated\n"
     ]
    }
   ],
   "source": [
    "import os \n",
    "print(os.getcwd())\n",
    "if os.getcwd().split('/')[-1] == 'betbot_tennis':\n",
    "    os.chdir(os.path.join(os.getcwd(), 'tennis'))\n",
    "elif os.getcwd().split('/')[-1] == 'tennis':\n",
    "    pass\n",
    "else:\n",
    "    raise ValueError('Not in root dir')\n",
    "print(os.getcwd())\n",
    "from utils.classes import TennisMatchDataset\n",
    "import numpy as np\n",
    "import pandas as pd\n",
    "import json\n",
    "import time\n",
    "\n",
    "\n",
    "tournaments = [   \n",
    "                                        'past-french-open-atp-singles', \n",
    "                                        'past-australian-open-atp-singles',\n",
    "                                        'past-rome-atp-singles', \n",
    "                                        'past-madrid-atp-singles',\n",
    "                                        'past-monte-carlo-atp-singles',\n",
    "                                        'past-lyon-atp-singles',\n",
    "                                        'past-barcelona-atp-singles',\n",
    "                                        'past-munich-atp-singles',\n",
    "                                        'past-geneva-atp-singles',\n",
    "                                        'past-estoril-atp-singles',\n",
    "                                        'past-houston-atp-singles',\n",
    "                                        'past-marrakech-atp-singles',\n",
    "                                        'past-bucharest-atp-singles',\n",
    "                                        'past-doha-atp-singles',\n",
    "                                        'past-dubai-atp-singles',\n",
    "                                        'past-indian-wells-atp-singles',\n",
    "                                        'past-miami-atp-singles',\n",
    "                                        'past-acapulco-atp-singles',\n",
    "                                        'past-rio-de-janeiro-atp-singles',\n",
    "                                        'past-santiago-atp-singles',\n",
    "                                        'past-brisbane-atp-singles',\n",
    "                                        'past-hong-kong-atp-singles',\n",
    "                                        'past-auckland-atp-singles',\n",
    "                                        'past-adelaide-atp-singles',\n",
    "                                        'past-montpellier-atp-singles',\n",
    "                                        'past-marseille-atp-singles',\n",
    "                                        'past-cordoba-atp-singles',\n",
    "                                        'past-dallas-atp-singles',\n",
    "                                        'past-french-open-2023-atp-singles',\n",
    "                                        'past-australian-open-2023-atp-singles',\n",
    "                                        'past-rome-2023-atp-singles',\n",
    "                                        'past-madrid-2023-atp-singles',\n",
    "                                        'past-monte-carlo-2023-atp-singles',\n",
    "                                        'past-lyon-2023-atp-singles',\n",
    "                                        'past-barcelona-2023-atp-singles',\n",
    "                                        'past-munich-2023-atp-singles',\n",
    "                                        'past-geneva-2023-atp-singles',\n",
    "                                        'past-estoril-2023-atp-singles',\n",
    "                                        'past-houston-2023-atp-singles',\n",
    "                                        'past-marrakech-2023-atp-singles', \n",
    "                                        'past-doha-2023-atp-singles',\n",
    "                                        'past-dubai-2023-atp-singles',\n",
    "                                        'past-indian-wells-2023-atp-singles',\n",
    "                                        'past-miami-2023-atp-singles',\n",
    "                                        'past-acapulco-2023-atp-singles',\n",
    "                                        'past-rio-de-janeiro-2023-atp-singles',\n",
    "                                        'past-santiago-2023-atp-singles',\n",
    "                                        'past-auckland-2023-atp-singles',\n",
    "                                        'past-adelaide-2023-atp-singles',\n",
    "                                        'past-montpellier-2023-atp-singles',\n",
    "                                        'past-marseille-2023-atp-singles',\n",
    "                                        'past-cordoba-2023-atp-singles',\n",
    "                                        'past-dallas-2023-atp-singles',\n",
    "                                        'past-stuttgart-2023-atp-singles',\n",
    "                                        'past-hertogenbosch-2023-atp-singles',\n",
    "                                        'past-halle-2023-atp-singles',\n",
    "                                        'past-london-2023-atp-singles',\n",
    "                                        'past-mallorca-2023-atp-singles',\n",
    "                                        'past-eastbourne-2023-atp-singles',\n",
    "                                        'past-wimbledon-2023-atp-singles',\n",
    "                                        'past-hamburg-2023-atp-singles',\n",
    "                                          'past-bastad-2023-atp-singles',\n",
    "                                          'past-gstaad-2023-atp-singles', ###\n",
    "                                          'past-newport-2023-atp-singles',\n",
    "                                          'past-umag-2023-atp-singles',\n",
    "                                          'past-atlanta-2023-atp-singles',\n",
    "                                          'past-washington-2023-atp-singles',\n",
    "                                          'past-cincinnati-2023-atp-singles',\n",
    "                                          'past-winston-salem-2023-atp-singles',\n",
    "                                          'past-us-open-2023-atp-singles', ###\n",
    "                                          'past-chengdu-2023-atp-singles',\n",
    "                                          'past-zhuhai-2023-atp-singles', ###\n",
    "                                          'past-tokyo-2023-atp-singles',\n",
    "                                          'past-beijing-2023-atp-singles', ###\n",
    "                                          'past-shanghai-2023-atp-singles',\n",
    "                                          'past-stockholm-2023-atp-singles',\n",
    "                                          'past-antwerp-2023-atp-singles', ###\n",
    "                                          'past-vienna-2023-atp-singles',\n",
    "                                          'past-basel-2023-atp-singles',\n",
    "                                          'past-paris-2023-atp-singles',\n",
    "                                          'past-metz-2023-atp-singles',\n",
    "                                          'past-finals-turin-2023-atp-singles',\n",
    "                                          'past-stuttgart-atp-singles',\n",
    "                                          'past-hertogenbosch-atp-singles',\n",
    "                                          'past-halle-atp-singles',\n",
    "                                          'past-london-atp-singles',\n",
    "                                     ]\n",
    "\n",
    "\n",
    "\n",
    "tennis_dataset = TennisMatchDataset(tournaments)\n"
   ]
  },
  {
   "cell_type": "code",
   "execution_count": 3,
   "metadata": {},
   "outputs": [],
   "source": [
    "MATCH_ID = 'xQwqr8Fj'\n"
   ]
  },
  {
   "cell_type": "code",
   "execution_count": 4,
   "metadata": {},
   "outputs": [
    {
     "data": {
      "text/plain": [
       "('Alcaraz C.', 'Medvedev D.')"
      ]
     },
     "execution_count": 4,
     "metadata": {},
     "output_type": "execute_result"
    }
   ],
   "source": [
    "\n",
    "tennis_dataset.get_match(MATCH_ID).get_players()\n"
   ]
  },
  {
   "cell_type": "code",
   "execution_count": 5,
   "metadata": {},
   "outputs": [
    {
     "data": {
      "text/plain": [
       "[[3.3333333333333335, 0.6666666666666666],\n",
       " [0.002,\n",
       "  0.42,\n",
       "  0.732,\n",
       "  0.3333333333333333,\n",
       "  0.63,\n",
       "  0.83,\n",
       "  0.66,\n",
       "  0.41,\n",
       "  0.32,\n",
       "  0.42,\n",
       "  0.53,\n",
       "  0.64,\n",
       "  0.84,\n",
       "  0.66,\n",
       "  0.4,\n",
       "  0.29,\n",
       "  0.41,\n",
       "  0.53,\n",
       "  0.813,\n",
       "  0.787,\n",
       "  0.615,\n",
       "  0.618,\n",
       "  0.75,\n",
       "  0.63,\n",
       "  1.0,\n",
       "  0.778,\n",
       "  0.833,\n",
       "  0.692,\n",
       "  1.0,\n",
       "  0.917,\n",
       "  0.867,\n",
       "  0.752,\n",
       "  0.92,\n",
       "  0.929,\n",
       "  0.429,\n",
       "  0.403,\n",
       "  0.862,\n",
       "  0.792,\n",
       "  0.333,\n",
       "  0.758],\n",
       " [0.005,\n",
       "  0.56,\n",
       "  0.792,\n",
       "  0.3333333333333333,\n",
       "  0.63,\n",
       "  0.83,\n",
       "  0.66,\n",
       "  0.43,\n",
       "  0.27,\n",
       "  0.4,\n",
       "  0.53,\n",
       "  0.65,\n",
       "  0.85,\n",
       "  0.67,\n",
       "  0.43,\n",
       "  0.28,\n",
       "  0.4,\n",
       "  0.53,\n",
       "  0.757,\n",
       "  0.713,\n",
       "  0.813,\n",
       "  0.593,\n",
       "  0.5,\n",
       "  0.5,\n",
       "  0.0,\n",
       "  0.526,\n",
       "  0.818,\n",
       "  0.606,\n",
       "  0.75,\n",
       "  0.412,\n",
       "  0.818,\n",
       "  0.751,\n",
       "  0.913,\n",
       "  0.91,\n",
       "  0.5,\n",
       "  0.335,\n",
       "  0.742,\n",
       "  0.72,\n",
       "  0.833,\n",
       "  0.661],\n",
       " [0, 0, 0, 0],\n",
       " [0, 0, 0, 0],\n",
       " [1, 1, 1, 1, 1, 1, -1, 1, 1, 1, 1, 1, 1, 1, 1],\n",
       " [-1, 1, 1, 1, 1, 1, 1, 1, 1, 1, 1, 1, 1, 1, 1]]"
      ]
     },
     "execution_count": 5,
     "metadata": {},
     "output_type": "execute_result"
    }
   ],
   "source": [
    "tennis_dataset.get_match(MATCH_ID).get_feature_vector()"
   ]
  },
  {
   "cell_type": "code",
   "execution_count": 8,
   "metadata": {},
   "outputs": [
    {
     "name": "stdout",
     "output_type": "stream",
     "text": [
      "Loading data for tournaments {'bastad-atp-singles', 'gstaad-atp-singles'} ...\n",
      "... loaded 24 matches\n",
      "Updating id table ...\n",
      "... id table updated\n"
     ]
    }
   ],
   "source": [
    "from utils.classes import FutureTennisMatchDataset\n",
    "tournaments = ['bastad-atp-singles',\n",
    "               'gstaad-atp-singles']\n",
    "future_tennis_dataset = FutureTennisMatchDataset(tournaments)"
   ]
  },
  {
   "cell_type": "code",
   "execution_count": 11,
   "metadata": {},
   "outputs": [
    {
     "data": {
      "text/plain": [
       "('Skatov T.', 'Pellegrino A.')"
      ]
     },
     "execution_count": 11,
     "metadata": {},
     "output_type": "execute_result"
    }
   ],
   "source": [
    "MATCH_ID = future_tennis_dataset.get_matches_ids()[0]\n",
    "future_tennis_dataset.get_match(MATCH_ID).get_players()"
   ]
  },
  {
   "cell_type": "code",
   "execution_count": 12,
   "metadata": {},
   "outputs": [
    {
     "ename": "AttributeError",
     "evalue": "'FutureTennisMatch' object has no attribute 'get_feature_vector'",
     "output_type": "error",
     "traceback": [
      "\u001b[0;31m---------------------------------------------------------------------------\u001b[0m",
      "\u001b[0;31mAttributeError\u001b[0m                            Traceback (most recent call last)",
      "Cell \u001b[0;32mIn[12], line 1\u001b[0m\n\u001b[0;32m----> 1\u001b[0m \u001b[43mfuture_tennis_dataset\u001b[49m\u001b[38;5;241;43m.\u001b[39;49m\u001b[43mget_match\u001b[49m\u001b[43m(\u001b[49m\u001b[43mMATCH_ID\u001b[49m\u001b[43m)\u001b[49m\u001b[38;5;241;43m.\u001b[39;49m\u001b[43mget_feature_vector\u001b[49m()\n",
      "\u001b[0;31mAttributeError\u001b[0m: 'FutureTennisMatch' object has no attribute 'get_feature_vector'"
     ]
    }
   ],
   "source": [
    "future_tennis_dataset.get_vectors()"
   ]
  }
 ],
 "metadata": {
  "kernelspec": {
   "display_name": "Python 3",
   "language": "python",
   "name": "python3"
  },
  "language_info": {
   "codemirror_mode": {
    "name": "ipython",
    "version": 3
   },
   "file_extension": ".py",
   "mimetype": "text/x-python",
   "name": "python",
   "nbconvert_exporter": "python",
   "pygments_lexer": "ipython3",
   "version": "3.9.18"
  }
 },
 "nbformat": 4,
 "nbformat_minor": 2
}
