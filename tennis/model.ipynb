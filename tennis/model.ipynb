{
 "cells": [
  {
   "cell_type": "code",
   "execution_count": 1,
   "metadata": {},
   "outputs": [],
   "source": [
    "from utils.classes import TennisMatchDataset\n",
    "import numpy as np\n",
    "import pandas as pd\n",
    "import json\n",
    "import os \n",
    "import torch.nn as nn\n",
    "import torch.nn.functional as F\n",
    "from torch.utils.data import DataLoader, Subset, TensorDataset\n",
    "import torch.optim as optim\n",
    "from tqdm.notebook import tqdm\n",
    "import torch \n",
    "from torch.utils.data import random_split\n",
    "import utils.constants as c\n",
    "import data.utils.constants as c2\n",
    "from sklearn.model_selection import KFold\n",
    "import matplotlib.pyplot as plt\n",
    "\n",
    "\n",
    "MAX_PADDED = 45\n"
   ]
  },
  {
   "cell_type": "code",
   "execution_count": 2,
   "metadata": {},
   "outputs": [
    {
     "name": "stdout",
     "output_type": "stream",
     "text": [
      "Loading data for tournaments {'past-winston-salem-2023-atp-singles', 'past-estoril-atp-singles', 'past-lyon-atp-singles', 'past-stockholm-2023-atp-singles', 'past-eastbourne-2023-atp-singles', 'past-santiago-atp-singles', 'past-cordoba-atp-singles', 'past-rome-2023-atp-singles', 'past-acapulco-2023-atp-singles', 'past-wimbledon-2023-atp-singles', 'past-atlanta-2023-atp-singles', 'past-houston-2023-atp-singles', 'past-auckland-2023-atp-singles', 'past-adelaide-atp-singles', 'past-bastad-2023-atp-singles', 'past-marseille-2023-atp-singles', 'past-rio-de-janeiro-atp-singles', 'past-brisbane-atp-singles', 'past-chengdu-2023-atp-singles', 'past-barcelona-2023-atp-singles', 'past-munich-atp-singles', 'past-madrid-2023-atp-singles', 'past-miami-atp-singles', 'past-barcelona-atp-singles', 'past-paris-2023-atp-singles', 'past-dallas-2023-atp-singles', 'past-marrakech-atp-singles', 'past-cincinnati-2023-atp-singles', 'past-bucharest-atp-singles', 'past-london-2023-atp-singles', 'past-mallorca-2023-atp-singles', 'past-madrid-atp-singles', 'past-dallas-atp-singles', 'past-adelaide-2023-atp-singles', 'past-antwerp-2023-atp-singles', 'past-stuttgart-2023-atp-singles', 'past-doha-atp-singles', 'past-french-open-atp-singles', 'past-houston-atp-singles', 'past-indian-wells-2023-atp-singles', 'past-geneva-2023-atp-singles', 'past-montpellier-atp-singles', 'past-auckland-atp-singles', 'past-zhuhai-2023-atp-singles', 'past-monte-carlo-2023-atp-singles', 'past-lyon-2023-atp-singles', 'past-hertogenbosch-2023-atp-singles', 'past-acapulco-atp-singles', 'past-indian-wells-atp-singles', 'past-australian-open-atp-singles', 'past-rome-atp-singles', 'past-washington-2023-atp-singles', 'past-hamburg-2023-atp-singles', 'past-doha-2023-atp-singles', 'past-gstaad-2023-atp-singles', 'past-umag-2023-atp-singles', 'past-marrakech-2023-atp-singles', 'past-basel-2023-atp-singles', 'past-geneva-atp-singles', 'past-estoril-2023-atp-singles', 'past-beijing-2023-atp-singles', 'past-dubai-2023-atp-singles', 'past-finals-turin-2023-atp-singles', 'past-miami-2023-atp-singles', 'past-montpellier-2023-atp-singles', 'past-us-open-2023-atp-singles', 'past-newport-2023-atp-singles', 'past-rio-de-janeiro-2023-atp-singles', 'past-hong-kong-atp-singles', 'past-vienna-2023-atp-singles', 'past-santiago-2023-atp-singles', 'past-cordoba-2023-atp-singles', 'past-dubai-atp-singles', 'past-shanghai-2023-atp-singles', 'past-halle-2023-atp-singles', 'past-tokyo-2023-atp-singles', 'past-marseille-atp-singles', 'past-australian-open-2023-atp-singles', 'past-munich-2023-atp-singles', 'past-monte-carlo-atp-singles', 'past-metz-2023-atp-singles', 'past-french-open-2023-atp-singles'} ...\n",
      "... loaded 5451 matches\n",
      "Updating id table ...\n",
      "... id table updated\n"
     ]
    }
   ],
   "source": [
    "\n",
    "\n",
    "tennis_dataset = TennisMatchDataset([   \n",
    "                                        'past-french-open-atp-singles', \n",
    "                                        'past-australian-open-atp-singles',\n",
    "                                        'past-rome-atp-singles', \n",
    "                                        'past-madrid-atp-singles',\n",
    "                                        'past-monte-carlo-atp-singles',\n",
    "                                        'past-lyon-atp-singles',\n",
    "                                        'past-barcelona-atp-singles',\n",
    "                                        'past-munich-atp-singles',\n",
    "                                        'past-geneva-atp-singles',\n",
    "                                        'past-estoril-atp-singles',\n",
    "                                        'past-houston-atp-singles',\n",
    "                                        'past-marrakech-atp-singles',\n",
    "                                        'past-bucharest-atp-singles',\n",
    "                                        'past-doha-atp-singles',\n",
    "                                        'past-dubai-atp-singles',\n",
    "                                        'past-indian-wells-atp-singles',\n",
    "                                        'past-miami-atp-singles',\n",
    "                                        'past-acapulco-atp-singles',\n",
    "                                        'past-rio-de-janeiro-atp-singles',\n",
    "                                        'past-santiago-atp-singles',\n",
    "                                        'past-brisbane-atp-singles',\n",
    "                                        'past-hong-kong-atp-singles',\n",
    "                                        'past-auckland-atp-singles',\n",
    "                                        'past-adelaide-atp-singles',\n",
    "                                        'past-montpellier-atp-singles',\n",
    "                                        'past-marseille-atp-singles',\n",
    "                                        'past-cordoba-atp-singles',\n",
    "                                        'past-dallas-atp-singles',\n",
    "                                        'past-french-open-2023-atp-singles',\n",
    "                                        'past-australian-open-2023-atp-singles',\n",
    "                                        'past-rome-2023-atp-singles',\n",
    "                                        'past-madrid-2023-atp-singles',\n",
    "                                        'past-monte-carlo-2023-atp-singles',\n",
    "                                        'past-lyon-2023-atp-singles',\n",
    "                                        'past-barcelona-2023-atp-singles',\n",
    "                                        'past-munich-2023-atp-singles',\n",
    "                                        'past-geneva-2023-atp-singles',\n",
    "                                        'past-estoril-2023-atp-singles',\n",
    "                                        'past-houston-2023-atp-singles',\n",
    "                                        'past-marrakech-2023-atp-singles', \n",
    "                                        # 'past-bucharest-2023-atp-singles', ###\n",
    "                                        'past-doha-2023-atp-singles',\n",
    "                                        'past-dubai-2023-atp-singles',\n",
    "                                        'past-indian-wells-2023-atp-singles',\n",
    "                                        'past-miami-2023-atp-singles',\n",
    "                                        'past-acapulco-2023-atp-singles',\n",
    "                                        'past-rio-de-janeiro-2023-atp-singles',\n",
    "                                        'past-santiago-2023-atp-singles',\n",
    "                                        'past-auckland-2023-atp-singles',\n",
    "                                        'past-adelaide-2023-atp-singles',\n",
    "                                        'past-montpellier-2023-atp-singles',\n",
    "                                        'past-marseille-2023-atp-singles',\n",
    "                                        'past-cordoba-2023-atp-singles',\n",
    "                                        'past-dallas-2023-atp-singles',\n",
    "                                        'past-stuttgart-2023-atp-singles',\n",
    "                                        'past-hertogenbosch-2023-atp-singles',\n",
    "                                        'past-halle-2023-atp-singles',\n",
    "                                        'past-london-2023-atp-singles',\n",
    "                                        'past-mallorca-2023-atp-singles',\n",
    "                                        'past-eastbourne-2023-atp-singles',\n",
    "                                        'past-wimbledon-2023-atp-singles',\n",
    "                                        'past-hamburg-2023-atp-singles',\n",
    "                                          'past-bastad-2023-atp-singles',\n",
    "                                          'past-gstaad-2023-atp-singles', ###\n",
    "                                          'past-newport-2023-atp-singles',\n",
    "                                          'past-umag-2023-atp-singles',\n",
    "                                          'past-atlanta-2023-atp-singles',\n",
    "                                          'past-washington-2023-atp-singles',\n",
    "                                          # 'past-montreal-2023-atp-singles', ###\n",
    "                                          'past-cincinnati-2023-atp-singles',\n",
    "                                          'past-winston-salem-2023-atp-singles',\n",
    "                                          'past-us-open-2023-atp-singles', ###\n",
    "                                          'past-chengdu-2023-atp-singles',\n",
    "                                          'past-zhuhai-2023-atp-singles', ###\n",
    "                                          'past-tokyo-2023-atp-singles',\n",
    "                                          'past-beijing-2023-atp-singles', ###\n",
    "                                          'past-shanghai-2023-atp-singles',\n",
    "                                          'past-stockholm-2023-atp-singles',\n",
    "                                          'past-antwerp-2023-atp-singles', ###\n",
    "                                          # 'past-almaty-2023-atp-singles', ###\n",
    "                                          'past-vienna-2023-atp-singles',\n",
    "                                          'past-basel-2023-atp-singles',\n",
    "                                          'past-paris-2023-atp-singles',\n",
    "                                          'past-metz-2023-atp-singles',\n",
    "                                          'past-finals-turin-2023-atp-singles',\n",
    "                                     ])"
   ]
  },
  {
   "cell_type": "code",
   "execution_count": 3,
   "metadata": {},
   "outputs": [
    {
     "name": "stderr",
     "output_type": "stream",
     "text": [
      "                                      \r"
     ]
    },
    {
     "name": "stderr",
     "output_type": "stream",
     "text": [
      "                                      \r"
     ]
    },
    {
     "name": "stdout",
     "output_type": "stream",
     "text": [
      "Error 'j0dg' for match zyWg468I in tournament past-winston-salem-2023-atp-singles\n",
      "Error 'j0dg' for match 4tRKU3fl in tournament past-winston-salem-2023-atp-singles\n",
      "Error 'j0dg' for match 0xzjGhN6 in tournament past-winston-salem-2023-atp-singles\n",
      "Error 'kb54' for match xjBPMt0m in tournament past-winston-salem-2023-atp-singles\n",
      "Error 'g0a0' for match vmVSGVCO in tournament past-winston-salem-2023-atp-singles\n",
      "Error 'kc86' for match 6s3hGq4N in tournament past-winston-salem-2023-atp-singles\n",
      "Error 'j0dg' for match 0xIWdnSi in tournament past-winston-salem-2023-atp-singles\n",
      "Error 'g0a0' for match MoJScSCo in tournament past-winston-salem-2023-atp-singles\n",
      "Error 'kc86' for match 82Xh5ytG in tournament past-winston-salem-2023-atp-singles\n",
      "Error 'kb54' for match YJosjImI in tournament past-winston-salem-2023-atp-singles\n",
      "Error 'kb54' for match G8d1s7S4 in tournament past-winston-salem-2023-atp-singles\n",
      "Error 'kc86' for match AgEuQ5cU in tournament past-winston-salem-2023-atp-singles\n",
      "Error 'c0jt' for match QJ3lp9rn in tournament past-winston-salem-2023-atp-singles\n",
      "Error 'm0gp' for match MoccrmDb in tournament past-winston-salem-2023-atp-singles\n",
      "Error 'va15' for match xMJrhbNH in tournament past-estoril-atp-singles\n",
      "Error 'r0f6' for match rDLWwOsH in tournament past-estoril-atp-singles\n",
      "Error 'j09f' for match veVJjfDN in tournament past-estoril-atp-singles\n",
      "Error 'a0es' for match 4MMSv4SA in tournament past-estoril-atp-singles\n",
      "Error 'm0tb' for match YH8SYOuH in tournament past-lyon-atp-singles\n",
      "Error 'mm78' for match 6urV4K7H in tournament past-stockholm-2023-atp-singles\n",
      "Error 'e0ci' for match GjkI7MNb in tournament past-stockholm-2023-atp-singles\n",
      "Error 'g0a0' for match 4lVKIbiM in tournament past-eastbourne-2023-atp-singles\n",
      "Error 'g0a0' for match xhSj0euA in tournament past-eastbourne-2023-atp-singles\n",
      "Error 'l0cf' for match WERfaFfG in tournament past-eastbourne-2023-atp-singles\n",
      "Error 'g0a0' for match bD3ZIio9 in tournament past-eastbourne-2023-atp-singles\n"
     ]
    },
    {
     "name": "stderr",
     "output_type": "stream",
     "text": [
      "                                              "
     ]
    },
    {
     "name": "stdout",
     "output_type": "stream",
     "text": [
      "Error 'l0ee' for match rBjlQXzO in tournament past-eastbourne-2023-atp-singles\n",
      "Error 'g0a0' for match hMcyTZj5 in tournament past-eastbourne-2023-atp-singles\n",
      "Error 'j0dg' for match Me2uSg6B in tournament past-eastbourne-2023-atp-singles\n",
      "Error 'j0dg' for match 0xh6ulma in tournament past-santiago-atp-singles\n",
      "Error 'm0tb' for match 8GEs4cjC in tournament past-santiago-atp-singles\n",
      "Error 'm0tb' for match t8cUabps in tournament past-santiago-atp-singles\n",
      "Error 'j0dg' for match ALp2rs7O in tournament past-santiago-atp-singles\n",
      "Error 'j0dg' for match W08dk8WL in tournament past-santiago-atp-singles\n",
      "Error 'm0tu' for match 8lUkVXMa in tournament past-santiago-atp-singles\n",
      "Error 'j0dg' for match 0bNYMEjs in tournament past-santiago-atp-singles\n",
      "Error 'm0tu' for match Iw2r2ZsR in tournament past-santiago-atp-singles\n",
      "Error 'm0tb' for match EX1Eujsq in tournament past-cordoba-atp-singles\n",
      "Error 'm0tb' for match fPAYvim3 in tournament past-cordoba-atp-singles\n",
      "Error 'g0dl' for match nZD6zZDR in tournament past-cordoba-atp-singles\n",
      "Error 'j0dg' for match 4AO1yFbL in tournament past-cordoba-atp-singles\n",
      "Error 'm0tb' for match ravgCiCA in tournament past-cordoba-atp-singles\n",
      "Error 'g0dl' for match YBZOKIa6 in tournament past-cordoba-atp-singles\n",
      "Error 'm0tb' for match U5sWHNcO in tournament past-cordoba-atp-singles\n",
      "Error 'g0dl' for match h0n7NRTn in tournament past-cordoba-atp-singles\n",
      "Error 'kc29' for match 0QkFL5ba in tournament past-cordoba-atp-singles\n",
      "Error 'ca12' for match 8ngpoloB in tournament past-rome-2023-atp-singles\n"
     ]
    },
    {
     "name": "stderr",
     "output_type": "stream",
     "text": [
      "  6%|▌         | 5/82 [00:00<00:01, 41.63it/s]"
     ]
    },
    {
     "name": "stdout",
     "output_type": "stream",
     "text": [
      "Error 'g0a0' for match tGuGb7FA in tournament past-rome-2023-atp-singles\n",
      "Error 'j0dg' for match W6eQu5A4 in tournament past-rome-2023-atp-singles\n",
      "Error 'kb05' for match IuTRWcQ0 in tournament past-rome-2023-atp-singles\n",
      "Error 'j0dg' for match 46A3qjSd in tournament past-rome-2023-atp-singles\n",
      "Error 'j0dg' for match 4flni9f2 in tournament past-rome-2023-atp-singles\n",
      "Error 'o507' for match Shu31gI9 in tournament past-rome-2023-atp-singles\n",
      "Error 'f0cj' for match EkFTnf3G in tournament past-rome-2023-atp-singles\n",
      "Error 'l397' for match hSIM2woc in tournament past-acapulco-2023-atp-singles\n",
      "Error 'ga36' for match WhYr5FG7 in tournament past-acapulco-2023-atp-singles\n",
      "Error 'l397' for match KEEwRdwR in tournament past-acapulco-2023-atp-singles\n",
      "Error 'sf89' for match fN3Y1Wio in tournament past-acapulco-2023-atp-singles\n",
      "Error 'sf89' for match EPqaA3BF in tournament past-acapulco-2023-atp-singles\n",
      "Error 'j0dg' for match tCoiCPt3 in tournament past-acapulco-2023-atp-singles\n",
      "Error 'ka98' for match 8Q1Xieel in tournament past-acapulco-2023-atp-singles\n",
      "Error 'g0a0' for match McyRP3w4 in tournament past-wimbledon-2023-atp-singles\n",
      "Error 'l0cf' for match C8cJAXXa in tournament past-wimbledon-2023-atp-singles\n",
      "Error 'ca12' for match fXnO9im6 in tournament past-wimbledon-2023-atp-singles\n",
      "Error 'j0dg' for match hnF9Huop in tournament past-wimbledon-2023-atp-singles\n"
     ]
    },
    {
     "name": "stderr",
     "output_type": "stream",
     "text": [
      " 12%|█▏        | 10/82 [00:00<00:02, 24.82it/s]"
     ]
    },
    {
     "name": "stdout",
     "output_type": "stream",
     "text": [
      "Error 't0hs' for match jRO4Mthc in tournament past-wimbledon-2023-atp-singles\n",
      "Error 'ch27' for match CdFyKYD8 in tournament past-wimbledon-2023-atp-singles\n",
      "Error 'm0on' for match Cb8YkzLe in tournament past-wimbledon-2023-atp-singles\n",
      "Error 'c882' for match IeTgg9Rm in tournament past-wimbledon-2023-atp-singles\n",
      "Error 'gb93' for match Cj8EhjG2 in tournament past-wimbledon-2023-atp-singles\n",
      "Error 'ga36' for match UDoKVq3i in tournament past-wimbledon-2023-atp-singles\n",
      "Error 'g0kv' for match OCIcErYG in tournament past-wimbledon-2023-atp-singles\n",
      "Error 'n663' for match UelddO22 in tournament past-wimbledon-2023-atp-singles\n",
      "Error 't0hs' for match plthvVPJ in tournament past-wimbledon-2023-atp-singles\n",
      "Error 'p0me' for match SlFmbPGh in tournament past-wimbledon-2023-atp-singles\n",
      "Error 'ch27' for match rk5J6j4l in tournament past-wimbledon-2023-atp-singles\n",
      "Error 'ga36' for match tbtVur1O in tournament past-wimbledon-2023-atp-singles\n",
      "Error 'cb14' for match YDEuVQn6 in tournament past-wimbledon-2023-atp-singles\n",
      "Error 'g0kv' for match INTexHjd in tournament past-wimbledon-2023-atp-singles\n",
      "Error 'gb93' for match jko6onXn in tournament past-wimbledon-2023-atp-singles\n",
      "Error 'ch90' for match viXuygFd in tournament past-wimbledon-2023-atp-singles\n",
      "Error 'm0tb' for match 2kdAYKAe in tournament past-wimbledon-2023-atp-singles\n",
      "Error 'c882' for match QRZdK9Ym in tournament past-wimbledon-2023-atp-singles\n",
      "Error 'p0bk' for match WOGZ283D in tournament past-wimbledon-2023-atp-singles\n",
      "Error 'pd07' for match bavrQv59 in tournament past-wimbledon-2023-atp-singles\n",
      "Error 'w0ah' for match bZjQtOoI in tournament past-wimbledon-2023-atp-singles\n",
      "Error 'l949' for match WphAFomJ in tournament past-wimbledon-2023-atp-singles\n",
      "Error 'p0gq' for match hfg6GRXC in tournament past-wimbledon-2023-atp-singles\n",
      "Error 'd0c3' for match f164fsGH in tournament past-wimbledon-2023-atp-singles\n",
      "Error 'y124' for match pj9CZNlD in tournament past-atlanta-2023-atp-singles\n",
      "Error 'c0gg' for match 2uiKuaBn in tournament past-atlanta-2023-atp-singles\n",
      "Error 'kc86' for match zJKNtudt in tournament past-atlanta-2023-atp-singles\n",
      "Error 'ka98' for match zgkSwwta in tournament past-atlanta-2023-atp-singles\n"
     ]
    },
    {
     "name": "stderr",
     "output_type": "stream",
     "text": [
      " 12%|█▏        | 10/82 [00:00<00:02, 24.82it/s]"
     ]
    },
    {
     "name": "stdout",
     "output_type": "stream",
     "text": [
      "Error 'l0id' for match v5v6nXff in tournament past-houston-2023-atp-singles\n",
      "Error 'ga36' for match M3SkhWoA in tournament past-houston-2023-atp-singles\n",
      "Error 'j0dg' for match WbTQq8gj in tournament past-houston-2023-atp-singles\n",
      "Error 'v306' for match n7BD7Boc in tournament past-houston-2023-atp-singles\n",
      "Error 'd0c3' for match 4QSxCQxq in tournament past-houston-2023-atp-singles\n",
      "Error 'b0lx' for match ARw8SvcU in tournament past-auckland-2023-atp-singles\n",
      "Error 'b0lx' for match 4hBAhYri in tournament past-auckland-2023-atp-singles\n",
      "Error 'b0lx' for match tnMsO9Gg in tournament past-auckland-2023-atp-singles\n",
      "Error 'b0lx' for match KzOtBzYq in tournament past-auckland-2023-atp-singles\n",
      "Error 'r0dc' for match EgJpyv5l in tournament past-auckland-2023-atp-singles\n",
      "Error 'r0dc' for match b9kUGqIT in tournament past-auckland-2023-atp-singles\n",
      "Error 'p0j3' for match ELPwym3o in tournament past-auckland-2023-atp-singles\n",
      "Error 'ch90' for match d4HfX42A in tournament past-auckland-2023-atp-singles\n",
      "Error 'r0cg' for match AmJnZQXc in tournament past-auckland-2023-atp-singles\n",
      "Error 'b0ot' for match MeEf1K6s in tournament past-adelaide-atp-singles\n"
     ]
    },
    {
     "name": "stderr",
     "output_type": "stream",
     "text": [
      " 18%|█▊        | 15/82 [00:00<00:02, 26.04it/s]"
     ]
    },
    {
     "name": "stdout",
     "output_type": "stream",
     "text": [
      "Error 'j0dg' for match 2LYXMqxT in tournament past-bastad-2023-atp-singles\n",
      "Error 'g0kv' for match 4UKaI3pp in tournament past-bastad-2023-atp-singles\n",
      "Error 'd0i5' for match KMhHAlqT in tournament past-bastad-2023-atp-singles\n",
      "Error 'c882' for match 8Ucheze1 in tournament past-marseille-2023-atp-singles\n",
      "Error 'g0a0' for match z7UCUcN1 in tournament past-marseille-2023-atp-singles\n",
      "Error 'kb05' for match EcTGTHx8 in tournament past-marseille-2023-atp-singles\n",
      "Error 'j0dg' for match KjEMxzH3 in tournament past-rio-de-janeiro-atp-singles\n",
      "Error 'j0dg' for match hCxWoCBg in tournament past-rio-de-janeiro-atp-singles\n",
      "Error 'v09t' for match SUUrqAeC in tournament past-rio-de-janeiro-atp-singles\n",
      "Error 'm0tb' for match ERQvpjt6 in tournament past-rio-de-janeiro-atp-singles\n"
     ]
    },
    {
     "name": "stderr",
     "output_type": "stream",
     "text": [
      " 24%|██▍       | 20/82 [00:00<00:02, 30.77it/s]"
     ]
    },
    {
     "name": "stdout",
     "output_type": "stream",
     "text": [
      "Error 'kb54' for match beGbbuUM in tournament past-brisbane-atp-singles\n",
      "Error 'b0ot' for match GWnPE0E3 in tournament past-brisbane-atp-singles\n",
      "Error 'sf89' for match tK9Iv5gB in tournament past-chengdu-2023-atp-singles\n",
      "Error 'x01a' for match W82Vy3wU in tournament past-chengdu-2023-atp-singles\n",
      "Error 'l0k2' for match dW76s79h in tournament past-chengdu-2023-atp-singles\n",
      "Error 'ga36' for match rLuOo5TP in tournament past-barcelona-2023-atp-singles\n",
      "Error 'l397' for match 2gbm9RZI in tournament past-barcelona-2023-atp-singles\n",
      "Error 'ga36' for match tvW9QS4g in tournament past-barcelona-2023-atp-singles\n",
      "Error 'v306' for match O2aqA7KC in tournament past-barcelona-2023-atp-singles\n",
      "Error 'c882' for match j9iVXACJ in tournament past-barcelona-2023-atp-singles\n",
      "Error 'bd80' for match UajZWURP in tournament past-barcelona-2023-atp-singles\n",
      "Error 'm0ey' for match xGWR1FiC in tournament past-barcelona-2023-atp-singles\n",
      "Error 'z246' for match WG6Ffv6C in tournament past-barcelona-2023-atp-singles\n",
      "Error 'a0ea' for match lYAfa2is in tournament past-barcelona-2023-atp-singles\n",
      "Error 'm0ey' for match EudKgbLI in tournament past-barcelona-2023-atp-singles\n",
      "Error 'g0a0' for match A3g6WOwI in tournament past-munich-atp-singles\n",
      "Error 'g0a0' for match 0xEJkR1M in tournament past-munich-atp-singles\n",
      "Error 'g0a0' for match 8U7EQIkT in tournament past-munich-atp-singles\n",
      "Error 'g0a0' for match AJVLbO2N in tournament past-munich-atp-singles\n",
      "Error 'g0a0' for match 44qARdQc in tournament past-munich-atp-singles\n",
      "Error 'k0j9' for match WKCcIhmp in tournament past-munich-atp-singles\n",
      "Error 'kb05' for match 2FDcZwyg in tournament past-madrid-2023-atp-singles\n",
      "Error 'g0a0' for match lWaJUFkO in tournament past-madrid-2023-atp-singles\n",
      "Error 'ca12' for match trhqK7Vl in tournament past-madrid-2023-atp-singles\n",
      "Error 'j0dg' for match AmsXXVl3 in tournament past-madrid-2023-atp-singles\n",
      "Error 'c882' for match WzefEQp8 in tournament past-madrid-2023-atp-singles\n",
      "Error 'ch90' for match jJrmkYDO in tournament past-madrid-2023-atp-singles\n"
     ]
    },
    {
     "name": "stderr",
     "output_type": "stream",
     "text": [
      " 24%|██▍       | 20/82 [00:00<00:02, 30.77it/s]"
     ]
    },
    {
     "name": "stdout",
     "output_type": "stream",
     "text": [
      "Error 'bd80' for match OAVG07G8 in tournament past-madrid-2023-atp-singles\n",
      "Error 'm0c2' for match ELRtTeAj in tournament past-miami-atp-singles\n",
      "Error 'm0c2' for match ELwp144T in tournament past-miami-atp-singles\n",
      "Error 'm0c2' for match AmHMYpQ3 in tournament past-miami-atp-singles\n",
      "Error 'b0no' for match O8W0ZHGE in tournament past-miami-atp-singles\n",
      "Error 's0ja' for match GpzmREzh in tournament past-miami-atp-singles\n"
     ]
    },
    {
     "name": "stderr",
     "output_type": "stream",
     "text": [
      "                                               \r"
     ]
    },
    {
     "name": "stdout",
     "output_type": "stream",
     "text": [
      "Error 's0uv' for match A9CnbG65 in tournament past-miami-atp-singles\n",
      "Error 'a09u' for match ILzioZ34 in tournament past-barcelona-atp-singles\n",
      "Error 'a0ea' for match ULVWyVQj in tournament past-barcelona-atp-singles\n",
      "Error 'ga36' for match lUCFdl5P in tournament past-dallas-2023-atp-singles\n",
      "Error 'l0id' for match 4bnhqx3c in tournament past-dallas-2023-atp-singles\n",
      "Error 'ga36' for match tW9RO6qI in tournament past-dallas-2023-atp-singles\n",
      "Error 'ga36' for match x2RNCsvA in tournament past-dallas-2023-atp-singles\n",
      "Error 'ch90' for match 4tkwndKD in tournament past-dallas-2023-atp-singles\n",
      "Error 'v306' for match pQLzVWdO in tournament past-dallas-2023-atp-singles\n",
      "Error 'rg42' for match OGKvUjCU in tournament past-dallas-2023-atp-singles\n",
      "Error 'l0id' for match hr3ndtrL in tournament past-dallas-2023-atp-singles\n",
      "Error 'v306' for match 2Revcp4T in tournament past-dallas-2023-atp-singles\n",
      "Error 'e811' for match SItjErvS in tournament past-dallas-2023-atp-singles\n",
      "Error 'ha71' for match hv3PDzCN in tournament past-dallas-2023-atp-singles\n",
      "Error 'p0ht' for match 63hsG49F in tournament past-dallas-2023-atp-singles\n",
      "Error 'v306' for match 4WosWHRi in tournament past-dallas-2023-atp-singles\n",
      "Error 'e811' for match lO3f8EZp in tournament past-dallas-2023-atp-singles\n",
      "Error 'rg42' for match jTswXcCo in tournament past-dallas-2023-atp-singles\n",
      "Error 'bt68' for match nLKD84k8 in tournament past-marrakech-atp-singles\n",
      "Error 'mo55' for match 2grE6fA7 in tournament past-marrakech-atp-singles\n",
      "Error 'm0gy' for match 0GMWK2FB in tournament past-marrakech-atp-singles\n",
      "Error 'i0b3' for match EazBPQ0t in tournament past-marrakech-atp-singles\n",
      "Error 'mo55' for match UilHvdTJ in tournament past-marrakech-atp-singles\n"
     ]
    },
    {
     "name": "stderr",
     "output_type": "stream",
     "text": [
      " 34%|███▍      | 28/82 [00:01<00:01, 29.96it/s]"
     ]
    },
    {
     "name": "stdout",
     "output_type": "stream",
     "text": [
      "Error 'g0a0' for match lWo8Qfpf in tournament past-cincinnati-2023-atp-singles\n",
      "Error 'g0a0' for match S6tDSfvh in tournament past-cincinnati-2023-atp-singles\n",
      "Error 'pl80' for match 6VCWfDCi in tournament past-bucharest-atp-singles\n",
      "Error 'ca12' for match 88E7hCT5 in tournament past-london-2023-atp-singles\n",
      "Error 'l397' for match ngQbfYbg in tournament past-london-2023-atp-singles\n",
      "Error 'l397' for match d24T6JUH in tournament past-mallorca-2023-atp-singles\n",
      "Error 'l397' for match YiNcHJVK in tournament past-mallorca-2023-atp-singles\n",
      "Error 'l397' for match nP6SGOQM in tournament past-mallorca-2023-atp-singles\n",
      "Error 'v306' for match ripAUDVn in tournament past-mallorca-2023-atp-singles\n"
     ]
    },
    {
     "name": "stderr",
     "output_type": "stream",
     "text": [
      " 39%|███▉      | 32/82 [00:01<00:01, 31.55it/s]"
     ]
    },
    {
     "name": "stdout",
     "output_type": "stream",
     "text": [
      "Error 'b0no' for match 02V9ZiLk in tournament past-madrid-atp-singles\n",
      "Error 'm0tb' for match GzFn1bFN in tournament past-madrid-atp-singles\n",
      "Error 'o09a' for match ImVCD7bf in tournament past-madrid-atp-singles\n",
      "Error 'm0tb' for match zogxwqq3 in tournament past-madrid-atp-singles\n",
      "Error 'n0be' for match vRB61kGr in tournament past-dallas-atp-singles\n",
      "Error 't0hs' for match ptG1ioBO in tournament past-dallas-atp-singles\n",
      "Error 's0vm' for match Qw00g7tC in tournament past-dallas-atp-singles\n",
      "Error 'c0jt' for match KjM7mxmJ in tournament past-adelaide-2023-atp-singles\n",
      "Error 'cd85' for match GI9RSKwB in tournament past-adelaide-2023-atp-singles\n",
      "Error 'g0a0' for match xUD2pVnN in tournament past-adelaide-2023-atp-singles\n",
      "Error 'mh30' for match dCyrgtJs in tournament past-adelaide-2023-atp-singles\n",
      "Error 'g0a0' for match 69mBFVsJ in tournament past-adelaide-2023-atp-singles\n",
      "Error 'c0jt' for match hrRzUjjT in tournament past-adelaide-2023-atp-singles\n",
      "Error 'mh30' for match GdxzkwL9 in tournament past-adelaide-2023-atp-singles\n",
      "Error 'mh30' for match 4j4SJRRi in tournament past-adelaide-2023-atp-singles\n",
      "Error 'c0jt' for match Qa5OK7Co in tournament past-adelaide-2023-atp-singles\n",
      "Error 'c0jt' for match 44mYpFYC in tournament past-adelaide-2023-atp-singles\n",
      "Error 'pd07' for match bg3EoR2Q in tournament past-adelaide-2023-atp-singles\n",
      "Error 'mh30' for match xvF5mmYD in tournament past-adelaide-2023-atp-singles\n",
      "Error 'l397' for match dvrgn9ye in tournament past-stuttgart-2023-atp-singles\n"
     ]
    },
    {
     "name": "stderr",
     "output_type": "stream",
     "text": [
      " 45%|████▌     | 37/82 [00:01<00:01, 36.06it/s]"
     ]
    },
    {
     "name": "stdout",
     "output_type": "stream",
     "text": [
      "Error 'o659' for match fBkyM5g4 in tournament past-stuttgart-2023-atp-singles\n",
      "Error 'pf36' for match 2iqJAo3i in tournament past-doha-atp-singles\n",
      "Error 'cd85' for match SM4YT5as in tournament past-french-open-atp-singles\n",
      "Error 'm0tb' for match p2JTgv1D in tournament past-french-open-atp-singles\n",
      "Error 'j0dg' for match 4tJwZg1k in tournament past-french-open-atp-singles\n"
     ]
    },
    {
     "name": "stderr",
     "output_type": "stream",
     "text": [
      " 50%|█████     | 41/82 [00:01<00:01, 31.12it/s]"
     ]
    },
    {
     "name": "stdout",
     "output_type": "stream",
     "text": [
      "Error 'kb05' for match dp3msuhI in tournament past-french-open-atp-singles\n",
      "Error 'm0tu' for match MkH6A105 in tournament past-french-open-atp-singles\n",
      "Error 'f0ho' for match K0mZFWeR in tournament past-french-open-atp-singles\n",
      "Error 'm0c2' for match KCqKfsbD in tournament past-houston-atp-singles\n",
      "Error 'rg42' for match dUS2JQzE in tournament past-houston-atp-singles\n",
      "Error 'l0id' for match juKrx2rH in tournament past-indian-wells-2023-atp-singles\n",
      "Error 'l0id' for match rydfWdCL in tournament past-indian-wells-2023-atp-singles\n",
      "Error 'g0a0' for match x4z0CyLk in tournament past-indian-wells-2023-atp-singles\n",
      "Error 'kb05' for match dKgrZbS2 in tournament past-indian-wells-2023-atp-singles\n",
      "Error 'c882' for match dfxBcO2b in tournament past-indian-wells-2023-atp-singles\n",
      "Error 'b0oy' for match MRvrzfVn in tournament past-indian-wells-2023-atp-singles\n",
      "Error 'c882' for match nk6BRFdC in tournament past-indian-wells-2023-atp-singles\n",
      "Error 'ga36' for match KxFfVccm in tournament past-indian-wells-2023-atp-singles\n",
      "Error 'b0oy' for match Kv6WQr61 in tournament past-indian-wells-2023-atp-singles\n",
      "Error 'ka98' for match YsAzQ2L7 in tournament past-indian-wells-2023-atp-singles\n",
      "Error 'g0a0' for match dxBefWX7 in tournament past-geneva-2023-atp-singles\n",
      "Error 'kb05' for match S05K2fQR in tournament past-geneva-2023-atp-singles\n",
      "Error 'e811' for match b1cwkjEI in tournament past-geneva-2023-atp-singles\n",
      "Error 'v306' for match Gx8YkWbC in tournament past-geneva-2023-atp-singles\n"
     ]
    },
    {
     "name": "stderr",
     "output_type": "stream",
     "text": [
      " 50%|█████     | 41/82 [00:01<00:01, 31.12it/s]"
     ]
    },
    {
     "name": "stdout",
     "output_type": "stream",
     "text": [
      "Error 'l0ip' for match A3JXyz3k in tournament past-auckland-atp-singles\n",
      "Error 's0w8' for match dxBBWvR9 in tournament past-auckland-atp-singles\n",
      "Error 'l0ip' for match hxGoE2z2 in tournament past-auckland-atp-singles\n",
      "Error 'kg53' for match GAVSpGTT in tournament past-auckland-atp-singles\n",
      "Error 'b0hy' for match Iwt2dxE7 in tournament past-auckland-atp-singles\n",
      "Error 'dc38' for match 8QDZKDiH in tournament past-auckland-atp-singles\n",
      "Error 'm0bw' for match lOs0AH0g in tournament past-zhuhai-2023-atp-singles\n",
      "Error 'z0cq' for match SEt49yGa in tournament past-zhuhai-2023-atp-singles\n",
      "Error 'l733' for match zH1PGJNP in tournament past-zhuhai-2023-atp-singles\n",
      "Error 'wb36' for match bZSHcvHm in tournament past-zhuhai-2023-atp-singles\n",
      "Error 'sq79' for match Sn6pGnXE in tournament past-zhuhai-2023-atp-singles\n",
      "Error 'kb05' for match ppbAEIJG in tournament past-monte-carlo-2023-atp-singles\n",
      "Error 'g0a0' for match xfJqkmIS in tournament past-monte-carlo-2023-atp-singles\n",
      "Error 'kb05' for match IovYq5Kn in tournament past-monte-carlo-2023-atp-singles\n",
      "Error 'cn78' for match zPmNPrNH in tournament past-monte-carlo-2023-atp-singles\n",
      "Error 'bd80' for match n3VzEoO5 in tournament past-monte-carlo-2023-atp-singles\n",
      "Error 'kb05' for match WWj6TQNh in tournament past-monte-carlo-2023-atp-singles\n",
      "Error 'm0cj' for match htWWER8a in tournament past-monte-carlo-2023-atp-singles\n"
     ]
    },
    {
     "name": "stderr",
     "output_type": "stream",
     "text": [
      " 56%|█████▌    | 46/82 [00:01<00:01, 29.22it/s]"
     ]
    },
    {
     "name": "stdout",
     "output_type": "stream",
     "text": [
      "Error 'lf29' for match OG8zcwph in tournament past-lyon-2023-atp-singles\n",
      "Error 'lf29' for match dKVJr8VI in tournament past-lyon-2023-atp-singles\n",
      "Error 'lf29' for match ADUBY9So in tournament past-lyon-2023-atp-singles\n",
      "Error 'g0a0' for match AVoR4TAs in tournament past-hertogenbosch-2023-atp-singles\n",
      "Error 'g0a0' for match dOHN0qx9 in tournament past-hertogenbosch-2023-atp-singles\n",
      "Error 'ld26' for match 0K0fBYfH in tournament past-hertogenbosch-2023-atp-singles\n",
      "Error 'c0jt' for match xhjypiPk in tournament past-hertogenbosch-2023-atp-singles\n",
      "Error 'ld26' for match QDWV5Yo9 in tournament past-hertogenbosch-2023-atp-singles\n",
      "Error 'dc83' for match KGutqBvd in tournament past-hertogenbosch-2023-atp-singles\n",
      "Error 'd0d2' for match nNXR6EW2 in tournament past-hertogenbosch-2023-atp-singles\n",
      "Error 'l0fv' for match nolBXzFh in tournament past-hertogenbosch-2023-atp-singles\n",
      "Error 'rh88' for match foC1GUZO in tournament past-acapulco-atp-singles\n"
     ]
    },
    {
     "name": "stderr",
     "output_type": "stream",
     "text": [
      " 56%|█████▌    | 46/82 [00:01<00:01, 29.22it/s]"
     ]
    },
    {
     "name": "stdout",
     "output_type": "stream",
     "text": [
      "Error 'd0c3' for match 48uC8Mw2 in tournament past-indian-wells-atp-singles\n",
      "Error 'd0c3' for match MR8lpva5 in tournament past-indian-wells-atp-singles\n",
      "Error 'w0dw' for match KvQx7AK1 in tournament past-indian-wells-atp-singles\n",
      "Error 'd0c3' for match xdSllRqe in tournament past-indian-wells-atp-singles\n",
      "Error 'd0d4' for match nVT0FYCL in tournament past-indian-wells-atp-singles\n",
      "Error 'c977' for match prLzS6cc in tournament past-australian-open-atp-singles\n",
      "Error 'mh30' for match zu4mFqQS in tournament past-australian-open-atp-singles\n",
      "Error 'g0a0' for match KrMuGvTC in tournament past-australian-open-atp-singles\n",
      "Error 'w0c4' for match C0eFA3Yq in tournament past-australian-open-atp-singles\n",
      "Error 'g0a0' for match 8ld0Azzr in tournament past-australian-open-atp-singles\n",
      "Error 'kc29' for match IqDiVGfA in tournament past-australian-open-atp-singles\n",
      "Error 'w0c4' for match Sh9PXUX5 in tournament past-australian-open-atp-singles\n",
      "Error 'mh30' for match WngktgQP in tournament past-australian-open-atp-singles\n",
      "Error 'j0d4' for match W2aH0K79 in tournament past-australian-open-atp-singles\n",
      "Error 'j0d5' for match GKrH6hZ6 in tournament past-australian-open-atp-singles\n",
      "Error 'm0te' for match 2kAwMCHd in tournament past-australian-open-atp-singles\n",
      "Error 'j0dg' for match ba4Nvwoj in tournament past-australian-open-atp-singles\n",
      "Error 'm0tb' for match AymobRoB in tournament past-australian-open-atp-singles\n"
     ]
    },
    {
     "name": "stderr",
     "output_type": "stream",
     "text": [
      " 61%|██████    | 50/82 [00:01<00:01, 26.02it/s]"
     ]
    },
    {
     "name": "stdout",
     "output_type": "stream",
     "text": [
      "Error 'c882' for match SIvLzXmm in tournament past-australian-open-atp-singles\n",
      "Error 'm0tb' for match b5BkvQFl in tournament past-rome-atp-singles\n",
      "Error 'a678' for match UaOyqDVr in tournament past-washington-2023-atp-singles\n",
      "Error 'f811' for match xWQUB7a1 in tournament past-washington-2023-atp-singles\n"
     ]
    },
    {
     "name": "stderr",
     "output_type": "stream",
     "text": [
      " 65%|██████▍   | 53/82 [00:01<00:01, 25.96it/s]"
     ]
    },
    {
     "name": "stdout",
     "output_type": "stream",
     "text": [
      "Error 'ka98' for match t4XLDTUl in tournament past-washington-2023-atp-singles\n",
      "Error 'ga36' for match KfWPCmpe in tournament past-washington-2023-atp-singles\n",
      "Error 'f811' for match 6y2PSBh7 in tournament past-washington-2023-atp-singles\n",
      "Error 'sz28' for match vPtyIHXc in tournament past-washington-2023-atp-singles\n",
      "Error 'ka98' for match hWYN7Ii0 in tournament past-washington-2023-atp-singles\n",
      "Error 'f811' for match 25f9WUMG in tournament past-washington-2023-atp-singles\n",
      "Error 'bp44' for match Myd7C9Vp in tournament past-washington-2023-atp-singles\n",
      "Error 'v0h9' for match YovTnj7c in tournament past-washington-2023-atp-singles\n",
      "Error 'f0ck' for match feuPmWii in tournament past-washington-2023-atp-singles\n",
      "Error 'v09t' for match OEe5XA7A in tournament past-washington-2023-atp-singles\n",
      "Error 'ka98' for match pUqEVlxN in tournament past-washington-2023-atp-singles\n",
      "Error 'y124' for match f3ZmPnFj in tournament past-washington-2023-atp-singles\n",
      "Error 'h940' for match zupkyg8o in tournament past-washington-2023-atp-singles\n",
      "Error 'm0tb' for match hnii6dFq in tournament past-hamburg-2023-atp-singles\n",
      "Error 'v306' for match 4UzkCnmb in tournament past-doha-2023-atp-singles\n",
      "Error 'pf36' for match x2avghec in tournament past-doha-2023-atp-singles\n",
      "Error 'g0a0' for match O6iDZvGS in tournament past-gstaad-2023-atp-singles\n",
      "Error 'n663' for match bXXSQx9b in tournament past-gstaad-2023-atp-singles\n",
      "Error 'm0tb' for match xdlObHh2 in tournament past-gstaad-2023-atp-singles\n",
      "Error 'n663' for match hOYMJIUR in tournament past-gstaad-2023-atp-singles\n",
      "Error 'b0lw' for match 2ZuAMKp9 in tournament past-gstaad-2023-atp-singles\n",
      "Error 'g0a0' for match 6wuRqtFd in tournament past-umag-2023-atp-singles\n",
      "Error 'j0dg' for match tI2tYrGp in tournament past-umag-2023-atp-singles\n",
      "Error 'c977' for match vF7nfjqG in tournament past-umag-2023-atp-singles\n",
      "Error 'c882' for match UqAeUN3I in tournament past-umag-2023-atp-singles\n",
      "Error 'b0lx' for match fRsIoPYh in tournament past-umag-2023-atp-singles\n",
      "Error 'mp94' for match CfGRKpug in tournament past-marrakech-2023-atp-singles\n",
      "Error 'l0ck' for match YNq1gu5J in tournament past-marrakech-2023-atp-singles\n",
      "Error 'bt68' for match IeLXmJSt in tournament past-marrakech-2023-atp-singles\n",
      "Error 'a0ey' for match U13pNgIm in tournament past-marrakech-2023-atp-singles\n",
      "Error 'p0j3' for match bse1JBHC in tournament past-marrakech-2023-atp-singles\n",
      "Error 'c882' for match GfN9TeuK in tournament past-marrakech-2023-atp-singles\n"
     ]
    },
    {
     "name": "stderr",
     "output_type": "stream",
     "text": [
      " 72%|███████▏  | 59/82 [00:02<00:00, 32.70it/s]"
     ]
    },
    {
     "name": "stdout",
     "output_type": "stream",
     "text": [
      "Error 'g0a0' for match 4ItqtMFo in tournament past-basel-2023-atp-singles\n",
      "Error 'b0lw' for match INyPzRw6 in tournament past-basel-2023-atp-singles\n",
      "Error 't0hs' for match rmhbGCmf in tournament past-geneva-atp-singles\n",
      "Error 'j09f' for match MiOtsy3e in tournament past-geneva-atp-singles\n",
      "Error 't0hs' for match Odtfjut9 in tournament past-geneva-atp-singles\n",
      "Error 's483' for match MVj0W5n6 in tournament past-estoril-2023-atp-singles\n",
      "Error 'ch90' for match zZdiOYmk in tournament past-estoril-2023-atp-singles\n",
      "Error 's483' for match 0dIpBJlC in tournament past-estoril-2023-atp-singles\n",
      "Error 's483' for match 4ISXadem in tournament past-estoril-2023-atp-singles\n",
      "Error 'c0jt' for match YquGsFuJ in tournament past-estoril-2023-atp-singles\n",
      "Error 'z0cq' for match MsJW9vvU in tournament past-beijing-2023-atp-singles\n",
      "Error 'l0fw' for match O4EGoCqH in tournament past-beijing-2023-atp-singles\n",
      "Error 'p0j3' for match KxVMiJLG in tournament past-dubai-2023-atp-singles\n"
     ]
    },
    {
     "name": "stderr",
     "output_type": "stream",
     "text": [
      " 78%|███████▊  | 64/82 [00:02<00:00, 35.14it/s]"
     ]
    },
    {
     "name": "stdout",
     "output_type": "stream",
     "text": [
      "Error 'kb05' for match 2gbBbFVn in tournament past-dubai-2023-atp-singles\n",
      "Error 'c0mv' for match pxIv4y8P in tournament past-dubai-2023-atp-singles\n",
      "Error 'g0a0' for match IkhvhVEU in tournament past-dubai-2023-atp-singles\n",
      "Error 'p0j3' for match CtFpP9F7 in tournament past-dubai-2023-atp-singles\n",
      "Error 'ag60' for match 8bexAzw0 in tournament past-dubai-2023-atp-singles\n",
      "Error 'p0j3' for match zTR6PFxm in tournament past-dubai-2023-atp-singles\n",
      "Error 's0ki' for match bmlk7YMI in tournament past-dubai-2023-atp-singles\n",
      "Error 'g0a0' for match AoIlpxCB in tournament past-miami-2023-atp-singles\n",
      "Error 'g0a0' for match 2icKoF8D in tournament past-miami-2023-atp-singles\n",
      "Error 'm0c2' for match juYFz3jq in tournament past-miami-2023-atp-singles\n",
      "Error 'ga36' for match xdWNYtLe in tournament past-miami-2023-atp-singles\n",
      "Error 'ka98' for match ATvDwW6N in tournament past-miami-2023-atp-singles\n",
      "Error 'g0a0' for match ClHJbEzs in tournament past-montpellier-2023-atp-singles\n",
      "Error 'kb05' for match xnoi3O26 in tournament past-montpellier-2023-atp-singles\n",
      "Error 'g0a0' for match Ek1DoUDH in tournament past-montpellier-2023-atp-singles\n",
      "Error 'kb05' for match vXYZ2Vrh in tournament past-montpellier-2023-atp-singles\n",
      "Error 'o411' for match 2yLEWIhq in tournament past-montpellier-2023-atp-singles\n",
      "Error 'j0dg' for match MX9dUItK in tournament past-us-open-2023-atp-singles\n",
      "Error 'g0a0' for match fmcHpDuA in tournament past-us-open-2023-atp-singles\n"
     ]
    },
    {
     "name": "stderr",
     "output_type": "stream",
     "text": [
      " 78%|███████▊  | 64/82 [00:02<00:00, 35.14it/s]"
     ]
    },
    {
     "name": "stdout",
     "output_type": "stream",
     "text": [
      "Error 'bd80' for match 2J3ZZeRi in tournament past-us-open-2023-atp-singles\n",
      "Error 'j0dg' for match Eg9M8Ypq in tournament past-us-open-2023-atp-singles\n",
      "Error 's0ja' for match CIMqBSLE in tournament past-us-open-2023-atp-singles\n",
      "Error 'm0tb' for match U3fY37FO in tournament past-us-open-2023-atp-singles\n",
      "Error 'pd07' for match Qig5qeoj in tournament past-us-open-2023-atp-singles\n",
      "Error 'a678' for match YFgVH5go in tournament past-us-open-2023-atp-singles\n",
      "Error 'mh30' for match nLWXvyNG in tournament past-us-open-2023-atp-singles\n",
      "Error 's0ja' for match pnws78Oa in tournament past-us-open-2023-atp-singles\n",
      "Error 'm0tb' for match p8Ajl6b7 in tournament past-us-open-2023-atp-singles\n",
      "Error 'd0c3' for match W0hFLNpU in tournament past-us-open-2023-atp-singles\n",
      "Error 'm0c2' for match tAzhhGx6 in tournament past-us-open-2023-atp-singles\n",
      "Error 'z0bz' for match tQCtBct1 in tournament past-us-open-2023-atp-singles\n",
      "Error 's0ja' for match vkQTsqA3 in tournament past-us-open-2023-atp-singles\n",
      "Error 'mh30' for match IwKPaHVl in tournament past-us-open-2023-atp-singles\n",
      "Error 'gb93' for match 4Wwk6JhL in tournament past-us-open-2023-atp-singles\n",
      "Error 'n663' for match OGKL0cGr in tournament past-us-open-2023-atp-singles\n",
      "Error 'pd07' for match Glvmbqwm in tournament past-us-open-2023-atp-singles\n",
      "Error 'a678' for match tfI5Gof7 in tournament past-us-open-2023-atp-singles\n",
      "Error 'ga36' for match v3T8pQ8m in tournament past-us-open-2023-atp-singles\n",
      "Error 'z0bz' for match MiU7gLiI in tournament past-us-open-2023-atp-singles\n",
      "Error 's0vm' for match SjduyDyi in tournament past-us-open-2023-atp-singles\n",
      "Error 'm0tb' for match Ym5ivknE in tournament past-us-open-2023-atp-singles\n",
      "Error 'm0c2' for match ERbdKTfr in tournament past-us-open-2023-atp-singles\n",
      "Error 'd0c3' for match ni9ew91K in tournament past-us-open-2023-atp-singles\n",
      "Error 'v0dg' for match l2xedN7a in tournament past-us-open-2023-atp-singles\n"
     ]
    },
    {
     "name": "stderr",
     "output_type": "stream",
     "text": [
      " 83%|████████▎ | 68/82 [00:02<00:00, 30.64it/s]"
     ]
    },
    {
     "name": "stdout",
     "output_type": "stream",
     "text": [
      "Error 'a678' for match p8hKyAra in tournament past-newport-2023-atp-singles\n",
      "Error 'a678' for match lGRmmWCj in tournament past-newport-2023-atp-singles\n",
      "Error 'ch90' for match MokCk17F in tournament past-newport-2023-atp-singles\n",
      "Error 'a678' for match f7Xm6rBQ in tournament past-newport-2023-atp-singles\n",
      "Error 's0ja' for match pxjcqL3D in tournament past-newport-2023-atp-singles\n",
      "Error 'ch90' for match lzp1NOqj in tournament past-newport-2023-atp-singles\n",
      "Error 'z09k' for match OCfu8YGf in tournament past-newport-2023-atp-singles\n",
      "Error 'bp44' for match fwjy9E1l in tournament past-newport-2023-atp-singles\n",
      "Error 'lh86' for match WziySg8Q in tournament past-newport-2023-atp-singles\n",
      "Error 'y124' for match 23gq7hW0 in tournament past-newport-2023-atp-singles\n",
      "Error 'v09t' for match t60fPLDt in tournament past-rio-de-janeiro-2023-atp-singles\n",
      "Error 'j0dg' for match beWL18hb in tournament past-rio-de-janeiro-2023-atp-singles\n",
      "Error 'j0dg' for match 6irdkFW9 in tournament past-rio-de-janeiro-2023-atp-singles\n",
      "Error 'r09v' for match MPFbjYNf in tournament past-rio-de-janeiro-2023-atp-singles\n",
      "Error 'r09v' for match Yqg39oAs in tournament past-rio-de-janeiro-2023-atp-singles\n",
      "Error 'j0dg' for match 2PpK5396 in tournament past-rio-de-janeiro-2023-atp-singles\n",
      "Error 'g0a0' for match lCcEjXsC in tournament past-hong-kong-atp-singles\n",
      "Error 'g0a0' for match bmpdQ982 in tournament past-hong-kong-atp-singles\n",
      "Error 'c977' for match Uk3rI2IB in tournament past-hong-kong-atp-singles\n",
      "Error 'g0a0' for match bPPFCHst in tournament past-hong-kong-atp-singles\n",
      "Error 'd0jw' for match tCHdQ34e in tournament past-hong-kong-atp-singles\n",
      "Error 'f0bn' for match rRbgRqkk in tournament past-hong-kong-atp-singles\n",
      "Error 'g0a0' for match GCrDoEz4 in tournament past-hong-kong-atp-singles\n",
      "Error 'o0cj' for match OzBY7V4e in tournament past-vienna-2023-atp-singles\n",
      "Error 'j0dg' for match 2XlocLv9 in tournament past-santiago-2023-atp-singles\n",
      "Error 'j0dg' for match xdWNSUb1 in tournament past-santiago-2023-atp-singles\n",
      "Error 'j0dg' for match z9esrzdS in tournament past-santiago-2023-atp-singles\n",
      "Error 'j0dg' for match WMPRVeL2 in tournament past-santiago-2023-atp-singles\n",
      "Error 'lb07' for match IwSwTg5L in tournament past-santiago-2023-atp-singles\n",
      "Error 'j0dg' for match 21rFprCU in tournament past-cordoba-2023-atp-singles\n",
      "Error 'j0dg' for match n10MVIYc in tournament past-cordoba-2023-atp-singles\n",
      "Error 'c882' for match t43Z4GPa in tournament past-cordoba-2023-atp-singles\n",
      "Error 't0hs' for match zVGe9Gbe in tournament past-cordoba-2023-atp-singles\n",
      "Error 'm0tb' for match zTg6O1Mk in tournament past-cordoba-2023-atp-singles\n",
      "Error 'kc29' for match 4jx7oGAJ in tournament past-cordoba-2023-atp-singles\n",
      "Error 't0hs' for match GOEax7Oj in tournament past-cordoba-2023-atp-singles\n",
      "Error 'm0tb' for match xd27kXVk in tournament past-cordoba-2023-atp-singles\n",
      "Error 'kc29' for match ImZOr9oN in tournament past-cordoba-2023-atp-singles\n"
     ]
    },
    {
     "name": "stderr",
     "output_type": "stream",
     "text": [
      " 90%|█████████ | 74/82 [00:02<00:00, 33.09it/s]"
     ]
    },
    {
     "name": "stdout",
     "output_type": "stream",
     "text": [
      "Error 'pd07' for match hlpsiC1T in tournament past-dubai-atp-singles\n",
      "Error 'ch90' for match ELRW4o8f in tournament past-shanghai-2023-atp-singles\n",
      "Error 'ch90' for match UaEfqD7o in tournament past-shanghai-2023-atp-singles\n",
      "Error 'ch90' for match CpJnTzJ2 in tournament past-shanghai-2023-atp-singles\n",
      "Error 'd0c3' for match GI1VKCQr in tournament past-shanghai-2023-atp-singles\n",
      "Error 'k0ci' for match h6uC6QWM in tournament past-shanghai-2023-atp-singles\n",
      "Error 'z246' for match dvn38n2A in tournament past-shanghai-2023-atp-singles\n",
      "Error 'z0cq' for match SbfnCU2o in tournament past-shanghai-2023-atp-singles\n",
      "Error 'sq79' for match SvW4aiJu in tournament past-shanghai-2023-atp-singles\n",
      "Error 'x01a' for match lEreA8Xc in tournament past-shanghai-2023-atp-singles\n",
      "Error 'l0fw' for match CSXGdk3b in tournament past-shanghai-2023-atp-singles\n",
      "Error 'd0c3' for match nNqo0O9j in tournament past-shanghai-2023-atp-singles\n",
      "Error 'ch90' for match zqQuM5W9 in tournament past-shanghai-2023-atp-singles\n"
     ]
    },
    {
     "name": "stderr",
     "output_type": "stream",
     "text": [
      " 90%|█████████ | 74/82 [00:02<00:00, 33.09it/s]"
     ]
    },
    {
     "name": "stdout",
     "output_type": "stream",
     "text": [
      "Error 'm0c2' for match Ea8H7vIs in tournament past-marseille-atp-singles\n",
      "Error 'm0c2' for match E5731zbh in tournament past-marseille-atp-singles\n"
     ]
    },
    {
     "name": "stderr",
     "output_type": "stream",
     "text": [
      " 95%|█████████▌| 78/82 [00:02<00:00, 25.83it/s]"
     ]
    },
    {
     "name": "stdout",
     "output_type": "stream",
     "text": [
      "Error 'b0lx' for match SxwKqO2c in tournament past-australian-open-2023-atp-singles\n",
      "Error 'cd85' for match 0v1XTN0D in tournament past-australian-open-2023-atp-singles\n",
      "Error 'b0lx' for match lEhbNBU5 in tournament past-australian-open-2023-atp-singles\n",
      "Error 'ca12' for match Mm2TU3o7 in tournament past-australian-open-2023-atp-singles\n",
      "Error 'mh30' for match 4IjcXngU in tournament past-australian-open-2023-atp-singles\n",
      "Error 'ch90' for match jVvR1pD9 in tournament past-australian-open-2023-atp-singles\n",
      "Error 'b0lx' for match zeMB9YAm in tournament past-australian-open-2023-atp-singles\n",
      "Error 'kb05' for match WKOimobG in tournament past-australian-open-2023-atp-singles\n",
      "Error 'cd85' for match 4YMaoPSS in tournament past-australian-open-2023-atp-singles\n",
      "Error 'ca12' for match d8cMX5bT in tournament past-australian-open-2023-atp-singles\n",
      "Error 'pd07' for match zLVpYEhC in tournament past-australian-open-2023-atp-singles\n",
      "Error 'mh30' for match zJdVIrm8 in tournament past-australian-open-2023-atp-singles\n",
      "Error 'g967' for match WQXTueao in tournament past-australian-open-2023-atp-singles\n",
      "Error 'v306' for match hviM6ams in tournament past-australian-open-2023-atp-singles\n",
      "Error 'ga36' for match rRS6djb8 in tournament past-australian-open-2023-atp-singles\n",
      "Error 'g967' for match KWXYPVos in tournament past-australian-open-2023-atp-singles\n",
      "Error 'ka98' for match hCKFvQyE in tournament past-australian-open-2023-atp-singles\n",
      "Error 'l949' for match W6ZknjNI in tournament past-australian-open-2023-atp-singles\n",
      "Error 'm0tb' for match UNShbHXA in tournament past-australian-open-2023-atp-singles\n",
      "Error 'kc29' for match hMPoNTVa in tournament past-australian-open-2023-atp-singles\n",
      "Error 'ga36' for match GYLgMjD9 in tournament past-australian-open-2023-atp-singles\n",
      "Error 'b0oy' for match phxz6VSS in tournament past-australian-open-2023-atp-singles\n",
      "Error 'v306' for match SYbFhzB2 in tournament past-australian-open-2023-atp-singles\n",
      "Error 'gb93' for match pA3OPpya in tournament past-australian-open-2023-atp-singles\n",
      "Error 'w0c4' for match 4bnRQQLh in tournament past-australian-open-2023-atp-singles\n",
      "Error 'z0c9' for match nHfilLJG in tournament past-australian-open-2023-atp-singles\n",
      "Error 'r685' for match EkeuM2zO in tournament past-australian-open-2023-atp-singles\n",
      "Error 'm0tb' for match rRS2QdAC in tournament past-australian-open-2023-atp-singles\n",
      "Error 'ka98' for match hfZHZL4N in tournament past-australian-open-2023-atp-singles\n",
      "Error 'l949' for match fPdiXSrP in tournament past-australian-open-2023-atp-singles\n",
      "Error 't0hs' for match Iys5xOK4 in tournament past-australian-open-2023-atp-singles\n",
      "Error 'mm66' for match 2kpyZTdF in tournament past-australian-open-2023-atp-singles\n",
      "Error 'kc29' for match AyyjTbQg in tournament past-australian-open-2023-atp-singles\n",
      "Error 'c882' for match htfqLMkU in tournament past-australian-open-2023-atp-singles\n",
      "Error 'p0kj' for match v92JifQ8 in tournament past-australian-open-2023-atp-singles\n",
      "Error 'fc26' for match 8W0YE85q in tournament past-australian-open-2023-atp-singles\n",
      "Error 'j0d4' for match QTOcvpjh in tournament past-australian-open-2023-atp-singles\n",
      "Error 'z246' for match Cb2viNZc in tournament past-australian-open-2023-atp-singles\n",
      "Error 'g0a0' for match UiS7Xxpk in tournament past-munich-2023-atp-singles\n",
      "Error 'g0a0' for match S6xwZJI1 in tournament past-munich-2023-atp-singles\n",
      "Error 'r685' for match v1Y45eKU in tournament past-munich-2023-atp-singles\n",
      "Error 'lf29' for match h8lL7o1b in tournament past-munich-2023-atp-singles\n",
      "Error 'f0ff' for match 6in9AmHu in tournament past-munich-2023-atp-singles\n",
      "Error 'c0jt' for match 6ZKc7HkI in tournament past-munich-2023-atp-singles\n",
      "Error 'cn78' for match t6WtxZHD in tournament past-monte-carlo-atp-singles\n",
      "Error 'm0cj' for match bs1RqoyK in tournament past-monte-carlo-atp-singles\n",
      "Error 'p0gn' for match KKmSO63Q in tournament past-metz-2023-atp-singles\n",
      "Error 'p0gn' for match IRPQPovm in tournament past-metz-2023-atp-singles\n",
      "Error 'g967' for match CQIZNP8a in tournament past-metz-2023-atp-singles\n",
      "Error 'm0cj' for match vJkF76T2 in tournament past-metz-2023-atp-singles\n"
     ]
    },
    {
     "name": "stderr",
     "output_type": "stream",
     "text": [
      " 95%|█████████▌| 78/82 [00:02<00:00, 25.83it/s]"
     ]
    },
    {
     "name": "stdout",
     "output_type": "stream",
     "text": [
      "Error 'm0tb' for match AiHXv46S in tournament past-french-open-2023-atp-singles\n"
     ]
    },
    {
     "name": "stderr",
     "output_type": "stream",
     "text": [
      "100%|██████████| 82/82 [00:02<00:00, 28.83it/s]\n"
     ]
    },
    {
     "name": "stdout",
     "output_type": "stream",
     "text": [
      "Error 'kb05' for match WlhFfhNp in tournament past-french-open-2023-atp-singles\n",
      "Error 'g0a0' for match hxCjTCT9 in tournament past-french-open-2023-atp-singles\n",
      "Error 'm0tb' for match G4nCAKp6 in tournament past-french-open-2023-atp-singles\n",
      "Error 'm0tb' for match 88WOtzz5 in tournament past-french-open-2023-atp-singles\n",
      "Error 't0hs' for match MFtGiABs in tournament past-french-open-2023-atp-singles\n",
      "Error 'ch90' for match 8rN3Pz5E in tournament past-french-open-2023-atp-singles\n",
      "Error 'gb93' for match dQOEtmVq in tournament past-french-open-2023-atp-singles\n",
      "Error 'j0dg' for match K4XnoTMS in tournament past-french-open-2023-atp-singles\n",
      "Error 'm0tb' for match Ui6Cygqd in tournament past-french-open-2023-atp-singles\n",
      "Error 'l949' for match 8Cbeonpm in tournament past-french-open-2023-atp-singles\n",
      "Error 't0hs' for match zPkCs4qC in tournament past-french-open-2023-atp-singles\n",
      "Error 'kc29' for match plt2DJVO in tournament past-french-open-2023-atp-singles\n",
      "Error 'n663' for match 6TudSCMA in tournament past-french-open-2023-atp-singles\n",
      "Error 'g0iw' for match Q9OQCXMN in tournament past-french-open-2023-atp-singles\n",
      "Error 'ch90' for match COaqQdFU in tournament past-french-open-2023-atp-singles\n",
      "Error 'j0dg' for match b3xlUYib in tournament past-french-open-2023-atp-singles\n",
      "Error 'ga36' for match bTJNtfiA in tournament past-french-open-2023-atp-singles\n",
      "Error 'c882' for match E913qQEa in tournament past-french-open-2023-atp-singles\n",
      "Error 'd0c3' for match 4YpsIsHg in tournament past-french-open-2023-atp-singles\n",
      "Error 'm0tb' for match ULainSUt in tournament past-french-open-2023-atp-singles\n",
      "Number of errors : 491\n"
     ]
    }
   ],
   "source": [
    "# nb_errors = 0\n",
    "# list_vectors = []\n",
    "# list_labels = []\n",
    "# for match_id in tqdm(tennis_dataset.get_matches_ids()):\n",
    "#     nb_try = 0\n",
    "#     while nb_try < 3:\n",
    "#         try :\n",
    "#             vector = tennis_dataset.get_match(match_id).get_feature_vector()\n",
    "#             list_vectors.append(vector)\n",
    "#             label = tennis_dataset.get_match(match_id).get_label()\n",
    "#             list_labels.append(label)\n",
    "#             break\n",
    "#         except Exception as e:\n",
    "#             nb_try += 1\n",
    "#             if nb_try == 3 :\n",
    "#                 tqdm.write(f\"error : {e} for match_id : {match_id} opposing {tennis_dataset.get_match(match_id).get_players()[0]} to {tennis_dataset.get_match(match_id).get_players()[1]}\")\n",
    "#                 nb_errors += 1\n",
    "    \n",
    "    \n",
    "# tqdm.write(f'Number of errors : {nb_errors} over {len(tennis_dataset.get_matches_ids())} matches')\n",
    "\n",
    "list_vectors, list_labels, lst_match_id, nb_errors = tennis_dataset.get_past_vectors()\n",
    "\n",
    "tqdm.write(f'Number of errors : {nb_errors}')\n"
   ]
  },
  {
   "cell_type": "code",
   "execution_count": 4,
   "metadata": {},
   "outputs": [
    {
     "name": "stdout",
     "output_type": "stream",
     "text": [
      "Number of vectors : 4960\n",
      "Input number 0 is shape : 2\n",
      "Input number 1 is shape : 40\n",
      "Input number 2 is shape : 40\n",
      "Input number 3 is shape : 4\n",
      "Input number 4 is shape : 4\n",
      "Input number 5 is shape : 15\n",
      "Input number 6 is shape : 15\n",
      "Input shapes : [2, 40, 40, 4, 4, 15, 15]\n"
     ]
    }
   ],
   "source": [
    "tqdm.write(f'Number of vectors : {len(list_vectors)}')\n",
    "input_shapes = []\n",
    "for i in range(len(list_vectors[0])):\n",
    "    tqdm.write(f'Input number {i} is shape : {len(list_vectors[0][i])}')\n",
    "    input_shapes.append(len(list_vectors[0][i]))\n",
    "tqdm.write(f'Input shapes : {input_shapes}')"
   ]
  },
  {
   "cell_type": "code",
   "execution_count": 5,
   "metadata": {},
   "outputs": [
    {
     "data": {
      "application/vnd.jupyter.widget-view+json": {
       "model_id": "26323b63de8f43dc9f7ea1c9c54ac8ee",
       "version_major": 2,
       "version_minor": 0
      },
      "text/plain": [
       "  0%|          | 0/4960 [00:00<?, ?it/s]"
      ]
     },
     "metadata": {},
     "output_type": "display_data"
    },
    {
     "name": "stdout",
     "output_type": "stream",
     "text": [
      "Number of vectors after removing vectors with too much missing values : 2566\n"
     ]
    }
   ],
   "source": [
    "# remove vectors where there is too much missing values ie too much c.PADDING values in all the vectors \n",
    "new_list_vectors = []\n",
    "new_list_labels = []\n",
    "for i in tqdm(range(len(list_vectors))) :\n",
    "    vector = list_vectors[i]\n",
    "    num_padding = 0\n",
    "    for spe_vec in vector :\n",
    "        num_padding += spe_vec.count(c.PADDING)\n",
    "    if num_padding < MAX_PADDED and list_labels[i] != c.PADDING:\n",
    "        new_list_vectors.append(vector)\n",
    "        new_list_labels.append(list_labels[i])\n",
    "tqdm.write(f'Number of vectors after removing vectors with too much missing values : {len(new_list_vectors)}')\n"
   ]
  },
  {
   "cell_type": "code",
   "execution_count": 6,
   "metadata": {},
   "outputs": [],
   "source": [
    "# create 7 tensors : [tournament_features_vector, player1_features_vector, player2_features_vector, h2h_overall_vector, h2h_surface_vector, shape_overall_player1, shape_overall_player2]\n",
    "tournament_features_vector = []\n",
    "player1_features_vector = []\n",
    "player2_features_vector = []\n",
    "h2h_overall_vector = []\n",
    "h2h_surface_vector = []\n",
    "shape_overall_player1_vector = []\n",
    "shape_overall_player2_vector = []\n",
    "\n",
    "for vector in new_list_vectors:\n",
    "    tournament_features_vector.append(vector[0])\n",
    "    player1_features_vector.append(vector[1])\n",
    "    player2_features_vector.append(vector[2])\n",
    "    h2h_overall_vector.append(vector[3])\n",
    "    h2h_surface_vector.append(vector[4])\n",
    "    shape_overall_player1_vector.append(vector[5])\n",
    "    shape_overall_player2_vector.append(vector[6])\n",
    "\n",
    "# convert to pytorch tensor\n",
    "tournament_features_tensor = torch.tensor(tournament_features_vector, dtype=torch.float)\n",
    "tournament_features_mask = torch.zeros_like(tournament_features_tensor)\n",
    "tournament_features_mask[tournament_features_tensor != c.PADDING] = 1.\n",
    "player1_features_tensor = torch.tensor(player1_features_vector, dtype=torch.float)\n",
    "player1_features_mask = torch.zeros_like(player1_features_tensor)\n",
    "player1_features_mask[player1_features_tensor != c.PADDING] = 1.\n",
    "player2_features_tensor = torch.tensor(player2_features_vector, dtype=torch.float)\n",
    "player2_features_mask = torch.zeros_like(player2_features_tensor)\n",
    "player2_features_mask[player2_features_tensor != c.PADDING] = 1.\n",
    "h2h_overall_tensor = torch.tensor(h2h_overall_vector, dtype=torch.float)\n",
    "h2h_overall_mask = torch.zeros_like(h2h_overall_tensor)\n",
    "h2h_overall_mask[h2h_overall_tensor != c.PADDING] = 1.\n",
    "h2h_surface_tensor = torch.tensor(h2h_surface_vector, dtype=torch.float)\n",
    "h2h_surface_mask = torch.zeros_like(h2h_surface_tensor)\n",
    "h2h_surface_mask[h2h_surface_tensor != c.PADDING] = 1.\n",
    "shape_overall_player1_tensor = torch.tensor(shape_overall_player1_vector, dtype=torch.float)\n",
    "shape_overall_player1_mask = torch.zeros_like(shape_overall_player1_tensor)\n",
    "shape_overall_player1_mask[shape_overall_player1_tensor != c.PADDING] = 1.\n",
    "shape_overall_player2_tensor = torch.tensor(shape_overall_player2_vector, dtype=torch.float)\n",
    "shape_overall_player2_mask = torch.zeros_like(shape_overall_player2_tensor)\n",
    "shape_overall_player2_mask[shape_overall_player2_tensor != c.PADDING] = 1.\n",
    "\n",
    "label_vector = []\n",
    "for label in new_list_labels:\n",
    "    label_vector.append(label)\n",
    "\n",
    "label_tensor = torch.tensor(label_vector)\n",
    "\n",
    "dataset = TensorDataset(tournament_features_tensor, \n",
    "                        tournament_features_mask, \n",
    "                        player1_features_tensor, \n",
    "                        player1_features_mask, \n",
    "                        player2_features_tensor, \n",
    "                        player2_features_mask,\n",
    "                        h2h_overall_tensor, \n",
    "                        h2h_overall_mask, \n",
    "                        h2h_surface_tensor, \n",
    "                        h2h_surface_mask, \n",
    "                        shape_overall_player1_tensor, \n",
    "                        shape_overall_player1_mask, \n",
    "                        shape_overall_player2_tensor, \n",
    "                        shape_overall_player2_mask, \n",
    "                        label_tensor)\n",
    "\n",
    "# split the dataset into train and validation \n",
    "# train_size = int(0.85 * len(dataset))\n",
    "# val_size = len(dataset) - train_size\n",
    "# train_dataset, val_dataset = random_split(dataset, [train_size, val_size])\n",
    "\n",
    "N_FOLDS = 5\n",
    "kf = KFold(n_splits=N_FOLDS, shuffle=True, random_state=42)\n"
   ]
  },
  {
   "cell_type": "markdown",
   "metadata": {},
   "source": [
    "## Model"
   ]
  },
  {
   "cell_type": "code",
   "execution_count": 41,
   "metadata": {},
   "outputs": [],
   "source": [
    "#  create a model with 1 dense layer for all parts of inputs, then concatenate them, 1 dense layer and eventually atanh activation function\n",
    "\n",
    "\n",
    "PATIENCE = 70\n",
    "N_EPOCHS = 2000\n",
    "LEARNING_RATE = 5e-4\n",
    "WEIGHT_DECAY = 1e-4\n",
    "DROPOUT = 0.6\n",
    "N_UNITS = 16\n",
    "N_UNITS_OVERALL = 4\n",
    "N_UNITS_SURFACE = 4\n",
    "STEP_SIZE = 30\n",
    "GAMMA = 0.8\n",
    "\n",
    "class TennisMatchPredictor(nn.Module):\n",
    "    def __init__(self, input_shapes):\n",
    "        super(TennisMatchPredictor, self).__init__()\n",
    "        self.fctournament = nn.Linear(input_shapes[0], 2)\n",
    "        self.fcplayer1 = nn.Linear(input_shapes[1], 20)\n",
    "        self.fcplayer2 = nn.Linear(input_shapes[2], 20)\n",
    "        self.gru_h2h_overall = nn.GRU(1, N_UNITS_OVERALL, batch_first=True, dropout=DROPOUT)\n",
    "        self.gru_h2h_surface = nn.GRU(1, N_UNITS_SURFACE, batch_first=True, dropout=DROPOUT)\n",
    "        \n",
    "        self.gru_shape_overall_player1 = nn.GRU(1, N_UNITS, batch_first=True, dropout=DROPOUT)\n",
    "        self.gru_shape_overall_player2 = nn.GRU(1, N_UNITS, batch_first=True, dropout=DROPOUT)\n",
    "\n",
    "        self.fc1 = nn.Linear(2+20+20+N_UNITS_OVERALL+N_UNITS_SURFACE+N_UNITS+N_UNITS, 32)\n",
    "        self.fc2 = nn.Linear(32, 1)\n",
    "\n",
    "    def forward(self, \n",
    "                tournament_features, \n",
    "                player1_features, \n",
    "                player2_features, \n",
    "                h2h_overall, \n",
    "                h2h_surface, \n",
    "                shape_overall_player1, \n",
    "                shape_overall_player2,\n",
    "                tournament_mask=None,\n",
    "                player1_mask=None, \n",
    "                player2_mask=None, \n",
    "                h2h_overall_mask=None, \n",
    "                h2h_surface_mask=None, \n",
    "                shape_overall_player1_mask=None, \n",
    "                shape_overall_player2_mask=None):\n",
    "        \n",
    "        x1 = F.tanh(self.fctournament(tournament_features))\n",
    "        x2 = F.tanh(self.fcplayer1(player1_features))\n",
    "        x3 = F.tanh(self.fcplayer2(player2_features))\n",
    "\n",
    "        # Reverse the sequence for GRU processing  flip to put last match at the end + current [batch, legth_shape] but need [batch, legth_shape, 1]\n",
    "        h2h_overall = torch.flip(h2h_overall, dims=[1]).unsqueeze(-1)\n",
    "        h2h_surface = torch.flip(h2h_surface, dims=[1]).unsqueeze(-1)\n",
    "        shape_overall_player1 = torch.flip(shape_overall_player1, dims=[1]).unsqueeze(-1)\n",
    "        shape_overall_player2 = torch.flip(shape_overall_player2, dims=[1]).unsqueeze(-1)\n",
    "        _, x4 = self.gru_h2h_overall(h2h_overall)\n",
    "        x4 = x4.squeeze(0)\n",
    "        x4 = F.tanh(x4)\n",
    "        _, x5 = self.gru_h2h_surface(h2h_surface)\n",
    "        x5 = x5.squeeze(0)\n",
    "        x5 = F.tanh(x5)\n",
    "        _, x6 = self.gru_shape_overall_player1(shape_overall_player1)\n",
    "        x6 = x6.squeeze(0)\n",
    "        x6 = F.tanh(x6)\n",
    "        _, x7 = self.gru_shape_overall_player2(shape_overall_player2)\n",
    "        x7 = x7.squeeze(0)\n",
    "        x7 = F.tanh(x7)\n",
    "\n",
    "        # Apply masks if provided\n",
    "        # if tournament_mask is not None:\n",
    "        #     x1 = x1 * tournament_mask\n",
    "        # if player1_mask is not None:\n",
    "        #     x2 = x2 * player1_mask\n",
    "        # if player2_mask is not None:\n",
    "        #     x3 = x3 * player2_mask\n",
    "        # if h2h_overall_mask is not None:\n",
    "        #     x4 = x4 * h2h_overall_mask\n",
    "        # if h2h_surface_mask is not None:\n",
    "        #     x5 = x5 * h2h_surface_mask\n",
    "        # if shape_overall_player1_mask is not None:\n",
    "        #     x6 = x6 * shape_overall_player1_mask\n",
    "        # if shape_overall_player2_mask is not None:\n",
    "        #     x7 = x7 * shape_overall_player2_mask\n",
    "\n",
    "        x = torch.cat((x1, x2, x3, x4, x5, x6, x7), 1)\n",
    "        # dropout\n",
    "        x = F.dropout(x, p=DROPOUT)\n",
    "        x = F.tanh(self.fc1(x))\n",
    "        x = torch.tanh(self.fc2(x))\n",
    "        return x\n"
   ]
  },
  {
   "cell_type": "markdown",
   "metadata": {},
   "source": [
    "## Training"
   ]
  },
  {
   "cell_type": "code",
   "execution_count": 46,
   "metadata": {},
   "outputs": [
    {
     "name": "stdout",
     "output_type": "stream",
     "text": [
      "Fold 1\n",
      "   - Train size: 2052\n",
      "   - Validation size: 514\n"
     ]
    },
    {
     "data": {
      "application/vnd.jupyter.widget-view+json": {
       "model_id": "2262dc9d3b204fffa13090170df29b34",
       "version_major": 2,
       "version_minor": 0
      },
      "text/plain": [
       "  0%|          | 0/2000 [00:00<?, ?it/s]"
      ]
     },
     "metadata": {},
     "output_type": "display_data"
    },
    {
     "name": "stdout",
     "output_type": "stream",
     "text": [
      "Fold 1, Epoch 1, Train Loss: 1.01, Validation Loss: 1.01, lr: 5.00e-04\n",
      "Fold 1, Epoch 11, Train Loss: 0.86, Validation Loss: 0.84, lr: 5.00e-04\n",
      "Fold 1, Epoch 21, Train Loss: 0.84, Validation Loss: 0.84, lr: 5.00e-04\n",
      "Fold 1, Epoch 31, Train Loss: 0.83, Validation Loss: 0.87, lr: 4.00e-04\n",
      "Fold 1, Epoch 41, Train Loss: 0.83, Validation Loss: 0.88, lr: 4.00e-04\n",
      "Fold 1, Epoch 51, Train Loss: 0.82, Validation Loss: 0.86, lr: 4.00e-04\n",
      "Fold 1, Epoch 61, Train Loss: 0.82, Validation Loss: 0.85, lr: 3.20e-04\n",
      "Fold 1, Epoch 71, Train Loss: 0.82, Validation Loss: 0.85, lr: 3.20e-04\n",
      "Fold 1, Epoch 81, Train Loss: 0.84, Validation Loss: 0.85, lr: 3.20e-04\n",
      "Fold 1, Epoch 91, Train Loss: 0.81, Validation Loss: 0.80, lr: 2.56e-04\n",
      "Fold 1, Epoch 101, Train Loss: 0.82, Validation Loss: 0.86, lr: 2.56e-04\n",
      "Fold 1, Epoch 111, Train Loss: 0.80, Validation Loss: 0.87, lr: 2.56e-04\n",
      "Fold 1, Epoch 121, Train Loss: 0.84, Validation Loss: 0.81, lr: 2.05e-04\n",
      "Fold 1, Epoch 131, Train Loss: 0.83, Validation Loss: 0.82, lr: 2.05e-04\n",
      "Fold 1, Epoch 141, Train Loss: 0.81, Validation Loss: 0.84, lr: 2.05e-04\n",
      "Fold 1, Epoch 151, Train Loss: 0.80, Validation Loss: 0.82, lr: 1.64e-04\n",
      "Fold 1, Epoch 161, Train Loss: 0.81, Validation Loss: 0.82, lr: 1.64e-04\n",
      "Fold 1, Epoch 171, Train Loss: 0.80, Validation Loss: 0.81, lr: 1.64e-04\n",
      "Fold 1, Epoch 181, Train Loss: 0.81, Validation Loss: 0.85, lr: 1.31e-04\n",
      "Fold 1, Epoch 191, Train Loss: 0.80, Validation Loss: 0.84, lr: 1.31e-04\n",
      "Fold 1, Epoch 201, Train Loss: 0.81, Validation Loss: 0.85, lr: 1.31e-04\n",
      "Fold 1, Epoch 211, Train Loss: 0.80, Validation Loss: 0.84, lr: 1.05e-04\n",
      "Fold 1, Epoch 221, Train Loss: 0.81, Validation Loss: 0.81, lr: 1.05e-04\n",
      "Fold 1, Epoch 231, Train Loss: 0.80, Validation Loss: 0.81, lr: 1.05e-04\n",
      "Fold 1, Epoch 241, Train Loss: 0.79, Validation Loss: 0.81, lr: 8.39e-05\n",
      "Fold 1, Epoch 251, Train Loss: 0.81, Validation Loss: 0.83, lr: 8.39e-05\n",
      "Fold 1, Epoch 261, Train Loss: 0.80, Validation Loss: 0.83, lr: 8.39e-05\n",
      "Fold 1, Epoch 271, Train Loss: 0.81, Validation Loss: 0.83, lr: 6.71e-05\n",
      "       --> Early stopping at epoch 275\n"
     ]
    }
   ],
   "source": [
    "# Initialize lists to store the results\n",
    "all_train_losses = []\n",
    "all_val_losses = []\n",
    "all_last_indexes = []\n",
    "\n",
    "for fold, (train_idx, val_idx) in enumerate(kf.split(dataset)):\n",
    "    tqdm.write(f\"Fold {fold + 1}\")\n",
    "    \n",
    "    train_subset = Subset(dataset, train_idx)\n",
    "    val_subset = Subset(dataset, val_idx)\n",
    "\n",
    "    # print sizes\n",
    "    tqdm.write(f\"   - Train size: {len(train_subset)}\")\n",
    "    tqdm.write(f\"   - Validation size: {len(val_subset)}\")\n",
    "    \n",
    "    train_dataloader = DataLoader(train_subset, batch_size=64, shuffle=True)\n",
    "    val_dataloader = DataLoader(val_subset, batch_size=64, shuffle=False)\n",
    "\n",
    "    model = TennisMatchPredictor(input_shapes)\n",
    "    criterion = nn.MSELoss()\n",
    "    optimizer = optim.Adam(model.parameters(), lr=LEARNING_RATE, weight_decay=WEIGHT_DECAY)\n",
    "    lr_scheduler = optim.lr_scheduler.StepLR(optimizer, step_size=STEP_SIZE, gamma=GAMMA)\n",
    "\n",
    "    fold_train_losses = []\n",
    "    fold_val_losses = []\n",
    "\n",
    "    patience_counter = 0\n",
    "    MIN_VAL_LOSS = np.inf\n",
    "    BEST_MODEL = None\n",
    "    INDEX_EPOCH = 0\n",
    "    \n",
    "    for epoch in tqdm(range(N_EPOCHS)):\n",
    "        train_loss = 0.0\n",
    "        val_loss = 0.0\n",
    "        model.train()\n",
    "        for data in train_dataloader:\n",
    "            (tournament_features, tournament_mask, player1_features, player1_mask,\n",
    "             player2_features, player2_mask, h2h_overall, h2h_overall_mask, \n",
    "             h2h_surface, h2h_surface_mask, shape_overall_player1, shape_overall_player1_mask, \n",
    "             shape_overall_player2, shape_overall_player2_mask, labels) = data\n",
    "            optimizer.zero_grad()\n",
    "            outputs = model(tournament_features, player1_features, player2_features, \n",
    "                            h2h_overall, h2h_surface, shape_overall_player1, shape_overall_player2,\n",
    "                            tournament_mask, player1_mask, player2_mask, h2h_overall_mask, \n",
    "                            h2h_surface_mask, shape_overall_player1_mask, shape_overall_player2_mask)\n",
    "            loss = criterion(outputs, labels.unsqueeze(1).float())\n",
    "            loss.backward()\n",
    "            optimizer.step()\n",
    "            train_loss += loss.item()\n",
    "        lr_scheduler.step()\n",
    "        \n",
    "        model.eval()\n",
    "        with torch.no_grad():\n",
    "            for data in val_dataloader:\n",
    "                (tournament_features, tournament_mask, player1_features, player1_mask,\n",
    "                 player2_features, player2_mask, h2h_overall, h2h_overall_mask, \n",
    "                 h2h_surface, h2h_surface_mask, shape_overall_player1, shape_overall_player1_mask, \n",
    "                 shape_overall_player2, shape_overall_player2_mask, labels) = data\n",
    "                outputs = model(tournament_features, player1_features, player2_features, \n",
    "                                h2h_overall, h2h_surface, shape_overall_player1, shape_overall_player2,\n",
    "                                tournament_mask, player1_mask, player2_mask, h2h_overall_mask, \n",
    "                                h2h_surface_mask, shape_overall_player1_mask, shape_overall_player2_mask)\n",
    "                loss = criterion(outputs, labels.unsqueeze(1).float())\n",
    "                val_loss += loss.item()\n",
    "        \n",
    "        fold_train_losses.append(train_loss / len(train_dataloader))\n",
    "        fold_val_losses.append(val_loss / len(val_dataloader))\n",
    "        if epoch % 10 == 0:\n",
    "            tqdm.write(f'Fold {fold + 1}, Epoch {epoch + 1}, Train Loss: {train_loss / len(train_dataloader):.2f}, Validation Loss: {val_loss / len(val_dataloader):.2f}, lr: {lr_scheduler.get_last_lr()[0]:.2e}')\n",
    "        \n",
    "        if val_loss < MIN_VAL_LOSS:\n",
    "            MIN_VAL_LOSS = val_loss\n",
    "            patience_counter = 0\n",
    "            BEST_MODEL = model.state_dict()\n",
    "            INDEX_EPOCH = epoch\n",
    "        else:\n",
    "            patience_counter += 1\n",
    "        if patience_counter == PATIENCE:\n",
    "            tqdm.write(f'       --> Early stopping at epoch {epoch + 1}')\n",
    "            break\n",
    "    \n",
    "    all_train_losses.append(fold_train_losses)\n",
    "    all_val_losses.append(fold_val_losses)\n",
    "    all_last_indexes.append(INDEX_EPOCH)\n",
    "    \n",
    "    # Save the best model for each fold\n",
    "    torch.save(BEST_MODEL, f'{c2.REPO_PATH}/tennis/models/best_model_fold_{fold + 1}.pth')\n",
    "\n"
   ]
  },
  {
   "cell_type": "code",
   "execution_count": 47,
   "metadata": {},
   "outputs": [
    {
     "ename": "IndexError",
     "evalue": "list index out of range",
     "output_type": "error",
     "traceback": [
      "\u001b[0;31m---------------------------------------------------------------------------\u001b[0m",
      "\u001b[0;31mIndexError\u001b[0m                                Traceback (most recent call last)",
      "Cell \u001b[0;32mIn[47], line 5\u001b[0m\n\u001b[1;32m      3\u001b[0m \u001b[38;5;28;01mfor\u001b[39;00m i \u001b[38;5;129;01min\u001b[39;00m \u001b[38;5;28mrange\u001b[39m(N_FOLDS):\n\u001b[1;32m      4\u001b[0m     plt\u001b[38;5;241m.\u001b[39msubplot(\u001b[38;5;241m2\u001b[39m, \u001b[38;5;241m3\u001b[39m, i \u001b[38;5;241m+\u001b[39m \u001b[38;5;241m1\u001b[39m)\n\u001b[0;32m----> 5\u001b[0m     plt\u001b[38;5;241m.\u001b[39mplot(\u001b[43mall_train_losses\u001b[49m\u001b[43m[\u001b[49m\u001b[43mi\u001b[49m\u001b[43m]\u001b[49m, label\u001b[38;5;241m=\u001b[39m\u001b[38;5;124m'\u001b[39m\u001b[38;5;124mTrain Loss\u001b[39m\u001b[38;5;124m'\u001b[39m)\n\u001b[1;32m      6\u001b[0m     plt\u001b[38;5;241m.\u001b[39mplot(all_val_losses[i], label\u001b[38;5;241m=\u001b[39m\u001b[38;5;124m'\u001b[39m\u001b[38;5;124mValidation Loss\u001b[39m\u001b[38;5;124m'\u001b[39m)\n\u001b[1;32m      7\u001b[0m     plt\u001b[38;5;241m.\u001b[39mtitle(\u001b[38;5;124mf\u001b[39m\u001b[38;5;124m'\u001b[39m\u001b[38;5;124mFold \u001b[39m\u001b[38;5;132;01m{\u001b[39;00mi\u001b[38;5;250m \u001b[39m\u001b[38;5;241m+\u001b[39m\u001b[38;5;250m \u001b[39m\u001b[38;5;241m1\u001b[39m\u001b[38;5;132;01m}\u001b[39;00m\u001b[38;5;124m'\u001b[39m)\n",
      "\u001b[0;31mIndexError\u001b[0m: list index out of range"
     ]
    },
    {
     "data": {
      "image/png": "[encoded data removed]",
      "text/plain": [
       "<Figure size 1200x600 with 2 Axes>"
      ]
     },
     "metadata": {},
     "output_type": "display_data"
    }
   ],
   "source": [
    "# print all losses for each fold on different subplots\n",
    "plt.figure(figsize=(12, 6))\n",
    "for i in range(N_FOLDS):\n",
    "    plt.subplot(2, 3, i + 1)\n",
    "    plt.plot(all_train_losses[i], label='Train Loss')\n",
    "    plt.plot(all_val_losses[i], label='Validation Loss')\n",
    "    plt.title(f'Fold {i + 1}')\n",
    "    plt.xlabel('Epoch')\n",
    "    plt.ylabel('Loss')\n",
    "    plt.legend()\n",
    "plt.tight_layout()\n",
    "plt.show()\n"
   ]
  },
  {
   "cell_type": "markdown",
   "metadata": {},
   "source": [
    "## Testing"
   ]
  },
  {
   "cell_type": "code",
   "execution_count": null,
   "metadata": {},
   "outputs": [
    {
     "name": "stdout",
     "output_type": "stream",
     "text": [
      "Loading data for tournaments {'past-hertogenbosch-atp-singles', 'past-stuttgart-atp-singles'} ...\n",
      "... loaded 78 matches\n",
      "Updating id table ...\n",
      "... id table updated\n"
     ]
    },
    {
     "name": "stderr",
     "output_type": "stream",
     "text": [
      "100%|██████████| 2/2 [00:00<00:00, 51.11it/s]"
     ]
    },
    {
     "name": "stdout",
     "output_type": "stream",
     "text": [
      "Error 'g0a0' for match Oh6c4ESH in tournament past-hertogenbosch-atp-singles\n",
      "Error 'g0a0' for match WYuCTZFk in tournament past-hertogenbosch-atp-singles\n",
      "Error 'c0jt' for match Am1pF1lS in tournament past-hertogenbosch-atp-singles\n",
      "Error 'h0eq' for match hEehX6PO in tournament past-hertogenbosch-atp-singles\n",
      "Error 'g0a0' for match IJwypHBE in tournament past-hertogenbosch-atp-singles\n",
      "Error 'n0dd' for match reW1aBTi in tournament past-stuttgart-atp-singles\n",
      "Error 'g0gz' for match Q14yykQa in tournament past-stuttgart-atp-singles\n",
      "Number of errors : 7 over 78 matches\n",
      "Number of vectors : 71\n",
      "Input shapes : [2, 40, 40, 4, 4, 15, 15]\n"
     ]
    },
    {
     "name": "stderr",
     "output_type": "stream",
     "text": [
      "\n"
     ]
    },
    {
     "data": {
      "application/vnd.jupyter.widget-view+json": {
       "model_id": "b3e1bb6e08284c5585a25048ec79b533",
       "version_major": 2,
       "version_minor": 0
      },
      "text/plain": [
       "  0%|          | 0/71 [00:00<?, ?it/s]"
      ]
     },
     "metadata": {},
     "output_type": "display_data"
    },
    {
     "name": "stdout",
     "output_type": "stream",
     "text": [
      "Number of vectors after removing vectors with too much missing values : 66\n",
      "Test Loss: for 1 : 0.69\n",
      "Test Loss: for 2 : 0.47\n",
      "Test Loss: for 3 : 0.75\n",
      "Test Loss: for 4 : 0.63\n",
      "Test Loss: for 5 : 0.93\n"
     ]
    },
    {
     "name": "stderr",
     "output_type": "stream",
     "text": [
      "/users/eleves-b/2021/mathias.grau/.local/lib/python3.9/site-packages/torch/nn/modules/rnn.py:83: UserWarning: dropout option adds dropout after all but last recurrent layer, so non-zero dropout expects num_layers greater than 1, but got dropout=0.5 and num_layers=1\n",
      "  warnings.warn(\"dropout option adds dropout after all but last \"\n"
     ]
    }
   ],
   "source": [
    "tennis_test_dataset = TennisMatchDataset([\n",
    "                                            'past-stuttgart-atp-singles',\n",
    "                                            'past-hertogenbosch-atp-singles',\n",
    "                                          ])\n",
    "nb_errors = 0\n",
    "list_vectors_test = []\n",
    "list_labels_test = []\n",
    "list_matches_ids_test = []\n",
    "\n",
    "list_vectors_test, list_labels_test, list_matches_ids_test, nb_errors = tennis_test_dataset.get_past_vectors()\n",
    "\n",
    "\n",
    "print(f'Number of errors : {nb_errors} over {len(tennis_test_dataset.get_matches_ids())} matches')\n",
    "\n",
    "print(f'Number of vectors : {len(list_vectors_test)}')\n",
    "input_shapes = []\n",
    "for i in range(len(list_vectors_test[0])):\n",
    "    input_shapes.append(len(list_vectors_test[0][i]))\n",
    "print(f'Input shapes : {input_shapes}')\n",
    "\n",
    "# remove vectors where there is too much missing values ie too much c.PADDING values in all the vectors\n",
    "new_list_vectors_test = []\n",
    "new_list_labels_test = []\n",
    "new_list_matches_ids_test = []\n",
    "\n",
    "for i in tqdm(range(len(list_vectors_test))) :\n",
    "    vector = list_vectors_test[i]\n",
    "    num_padding = 0\n",
    "    for spe_vec in vector :\n",
    "        num_padding += spe_vec.count(c.PADDING)\n",
    "    if num_padding < MAX_PADDED and list_labels_test[i] != c.PADDING:\n",
    "        new_list_vectors_test.append(vector)\n",
    "        new_list_labels_test.append(list_labels_test[i])\n",
    "        new_list_matches_ids_test.append(list_matches_ids_test[i])\n",
    "print(f'Number of vectors after removing vectors with too much missing values : {len(new_list_vectors_test)}')\n",
    "\n",
    "tournament_features_vector_test = []\n",
    "player1_features_vector_test = []\n",
    "player2_features_vector_test = []\n",
    "h2h_overall_vector_test = []\n",
    "h2h_surface_vector_test = []\n",
    "shape_overall_player1_vector_test = []\n",
    "shape_overall_player2_vector_test = []\n",
    "\n",
    "for vector in new_list_vectors_test:\n",
    "    tournament_features_vector_test.append(vector[0])\n",
    "    player1_features_vector_test.append(vector[1])\n",
    "    player2_features_vector_test.append(vector[2])\n",
    "    h2h_overall_vector_test.append(vector[3])\n",
    "    h2h_surface_vector_test.append(vector[4])\n",
    "    shape_overall_player1_vector_test.append(vector[5])\n",
    "    shape_overall_player2_vector_test.append(vector[6])\n",
    "\n",
    "# convert to pytorch tensor\n",
    "tournament_features_tensor_test = torch.tensor(tournament_features_vector_test, dtype=torch.float)\n",
    "tournament_features_mask_test = torch.zeros_like(tournament_features_tensor_test)\n",
    "tournament_features_mask_test[tournament_features_tensor_test != c.PADDING] = 1.\n",
    "player1_features_tensor_test = torch.tensor(player1_features_vector_test, dtype=torch.float)\n",
    "player1_features_mask_test = torch.zeros_like(player1_features_tensor_test)\n",
    "player1_features_mask_test[player1_features_tensor_test != c.PADDING] = 1.\n",
    "player2_features_tensor_test = torch.tensor(player2_features_vector_test, dtype=torch.float)\n",
    "player2_features_mask_test = torch.zeros_like(player2_features_tensor_test)\n",
    "player2_features_mask_test[player2_features_tensor_test != c.PADDING] = 1.\n",
    "h2h_overall_tensor_test = torch.tensor(h2h_overall_vector_test, dtype=torch.float)\n",
    "h2h_overall_mask_test = torch.zeros_like(h2h_overall_tensor_test)\n",
    "h2h_overall_mask_test[h2h_overall_tensor_test != c.PADDING] = 1.\n",
    "h2h_surface_tensor_test = torch.tensor(h2h_surface_vector_test, dtype=torch.float)\n",
    "h2h_surface_mask_test = torch.zeros_like(h2h_surface_tensor_test)\n",
    "h2h_surface_mask_test[h2h_surface_tensor_test != c.PADDING] = 1.\n",
    "shape_overall_player1_tensor_test = torch.tensor(shape_overall_player1_vector_test, dtype=torch.float)\n",
    "shape_overall_player1_mask_test = torch.zeros_like(shape_overall_player1_tensor_test)\n",
    "shape_overall_player1_mask_test[shape_overall_player1_tensor_test != c.PADDING] = 1.\n",
    "shape_overall_player2_tensor_test = torch.tensor(shape_overall_player2_vector_test, dtype=torch.float)\n",
    "shape_overall_player2_mask_test = torch.zeros_like(shape_overall_player2_tensor_test)\n",
    "shape_overall_player2_mask_test[shape_overall_player2_tensor_test != c.PADDING] = 1.\n",
    "\n",
    "label_vector = []\n",
    "for label in new_list_labels_test:\n",
    "    label_vector.append(label)\n",
    "\n",
    "label_tensor_test = torch.tensor(label_vector)\n",
    "\n",
    "test_dataset = TensorDataset(tournament_features_tensor_test, \n",
    "                             tournament_features_mask_test, \n",
    "                             player1_features_tensor_test, \n",
    "                             player1_features_mask_test, \n",
    "                             player2_features_tensor_test, \n",
    "                             player2_features_mask_test,\n",
    "                             h2h_overall_tensor_test, \n",
    "                             h2h_overall_mask_test, \n",
    "                             h2h_surface_tensor_test, \n",
    "                             h2h_surface_mask_test, \n",
    "                             shape_overall_player1_tensor_test, \n",
    "                             shape_overall_player1_mask_test, \n",
    "                             shape_overall_player2_tensor_test, \n",
    "                             shape_overall_player2_mask_test, \n",
    "                             label_tensor_test)\n",
    "\n",
    "test_dataloader = DataLoader(test_dataset, batch_size=64, shuffle=False)\n",
    "\n",
    "all_predictions = []\n",
    "for j in range(N_FOLDS):\n",
    "    model = TennisMatchPredictor(input_shapes)\n",
    "    model.load_state_dict(torch.load(f'{c2.REPO_PATH}/tennis/models/best_model_fold_{j + 1}.pth'))\n",
    "    model.eval()\n",
    "    predictions = []\n",
    "    with torch.no_grad():\n",
    "        test_loss = 0.0\n",
    "        for i, data in enumerate(test_dataloader):\n",
    "            tournament_features, tournament_mask, player1_features, player1_mask, player2_features, player2_mask, h2h_overall, h2h_overall_mask, h2h_surface, h2h_surface_mask, shape_overall_player1, shape_overall_player1_mask, shape_overall_player2, shape_overall_player2_mask, labels = data\n",
    "            outputs = model(tournament_features = tournament_features, \n",
    "                            player1_features = player1_features, \n",
    "                            player2_features = player2_features, \n",
    "                            h2h_overall = h2h_overall, \n",
    "                            h2h_surface = h2h_surface, \n",
    "                            shape_overall_player1 = shape_overall_player1, \n",
    "                            shape_overall_player2 = shape_overall_player2,\n",
    "                            tournament_mask = tournament_mask, \n",
    "                            player1_mask = player1_mask, \n",
    "                            player2_mask = player2_mask, \n",
    "                            h2h_overall_mask = h2h_overall_mask,\n",
    "                            h2h_surface_mask = h2h_surface_mask,\n",
    "                            shape_overall_player1_mask = shape_overall_player1_mask,\n",
    "                            shape_overall_player2_mask = shape_overall_player2_mask\n",
    "                            )    \n",
    "            predictions.append(outputs)        \n",
    "            loss = criterion(outputs, labels.unsqueeze(1).float())\n",
    "            test_loss += loss.item()\n",
    "        print(f'Test Loss: for {j+1} : {test_loss/len(test_dataloader):.2f}')\n",
    "    # find the matches where the model is the most confident and was right\n",
    "    predictions = torch.cat(predictions).flatten()\n",
    "    all_predictions.append(predictions)\n",
    "\n",
    "all_predictions = torch.stack(all_predictions)\n",
    "predictions = all_predictions.mean(dim=0)\n",
    "\n",
    "# get the indexes of the matches where the model was right\n",
    "# create data frame with the predictions and the labels and the match ids\n",
    "df = pd.DataFrame(columns=['match_id', 'predictions', 'labels'])\n",
    "df['predictions'] = predictions\n",
    "df['labels'] = label_tensor_test\n",
    "df['match_id'] = new_list_matches_ids_test\n",
    "# order the data frame by predictions values\n",
    "df = df.sort_values(by='predictions', ascending=False)\n",
    "\n",
    "# fetch the odds of betclic for the matches\n",
    "odds_1_list = []\n",
    "odds_2_list = []\n",
    "prob_list = []\n",
    "for match_id in df['match_id']:\n",
    "    match_odds =tennis_test_dataset.get_match(match_id).get_odds()\n",
    "    odds_found = False\n",
    "    for match_odd in match_odds:\n",
    "        if match_odd['bookmaker'] == 'Betclic.fr':\n",
    "            odds_found = True\n",
    "            odds_1_list.append(float(match_odd['odds'][0]))\n",
    "            odds_2_list.append(float(match_odd['odds'][1]))\n",
    "            player1odd = float(match_odd['odds'][0])\n",
    "            player2odd = float(match_odd['odds'][1])\n",
    "            prob_win_player1 = 1/player1odd\n",
    "            prob_win_player2 = 1/player2odd\n",
    "            # normalize the probabilities\n",
    "            prob_sum = prob_win_player1 + prob_win_player2\n",
    "            prob_win_player1 = prob_win_player1/prob_sum\n",
    "            prob_win_player2 = prob_win_player2/prob_sum\n",
    "            prob_list.append(2*prob_win_player1-1)\n",
    "            break\n",
    "    if not odds_found:\n",
    "        odds_1_list.append(None)\n",
    "        odds_2_list.append(None)\n",
    "        prob_list.append(None) \n",
    "\n",
    "df['odds_1'] = odds_1_list\n",
    "df['odds_2'] = odds_2_list\n",
    "df['bookmaker_pred'] = prob_list\n",
    "df = df.loc[df['odds_1'].notnull()]"
   ]
  },
  {
   "cell_type": "markdown",
   "metadata": {},
   "source": [
    "## Betting"
   ]
  },
  {
   "cell_type": "code",
   "execution_count": null,
   "metadata": {},
   "outputs": [
    {
     "name": "stdout",
     "output_type": "stream",
     "text": [
      "\u001b[92mMatch : xjDq4CcK Griekspoor T. - McDonald M., bet on player 1, (0.80) amount to bet : 6.49, odds : 1.33, label : 1.00, total amount : 102.14\u001b[0m\n",
      "\u001b[92mMatch : COBghUGb De Minaur A. - Bergs Z., bet on player 1, (0.79) amount to bet : 6.18, odds : 1.12, label : 1.00, total amount : 102.88\u001b[0m\n",
      "\u001b[92mMatch : j5cd4pTq Humbert U. - Brouwer G., bet on player 1, (0.79) amount to bet : 6.40, odds : 1.29, label : 1.00, total amount : 104.74\u001b[0m\n",
      "\u001b[92mMatch : On3pYZan Berrettini M. - Duckworth J., bet on player 1, (0.77) amount to bet : 5.98, odds : 1.17, label : 1.00, total amount : 105.76\u001b[0m\n",
      "\u001b[92mMatch : nctXlgGr De Minaur A. - Raonic M., bet on player 1, (0.75) amount to bet : 6.01, odds : 1.31, label : 1.00, total amount : 107.62\u001b[0m\n",
      "\n",
      "Total amount after betting : 107.62\n",
      "\u001b[92mRelative won 7.62%\u001b[0m\n"
     ]
    }
   ],
   "source": [
    "CONFIDENCE_THRESHLOLD = 0.5\n",
    "\n",
    "\n",
    "# Kelly criterion\n",
    "def kelly_criterion(odds, prob, safe=0.1):\n",
    "    return (prob - (1- prob)/(odds))*safe\n",
    "\n",
    "bet_on_player_1_df = df.loc[df['predictions'] > CONFIDENCE_THRESHLOLD].copy()\n",
    "bet_on_player_1_df['prediction_prob']= bet_on_player_1_df['predictions'].apply(lambda x : (1+x)/2)\n",
    "bet_on_player_1_df['kelly_criterion'] = bet_on_player_1_df.apply(lambda row : kelly_criterion(row['odds_1'], row['prediction_prob']), axis=1)\n",
    "bet_on_player_2_df = df.loc[df['predictions'] < -CONFIDENCE_THRESHLOLD].copy()\n",
    "bet_on_player_2_df['prediction_prob']= bet_on_player_2_df['predictions'].apply(lambda x : (1-x)/2)\n",
    "bet_on_player_2_df['kelly_criterion'] = bet_on_player_2_df.apply(lambda row : kelly_criterion(row['odds_2'], row['prediction_prob']), axis=1)\n",
    "bet_on_player_2_df = bet_on_player_2_df.sort_values(by='predictions', ascending=True)\n",
    "\n",
    "# Strategy results : bet the proportion given by the kelly criterion on each match\n",
    "INIT_AMOUNT = 100 # euros\n",
    "GREEN = '\\033[92m'\n",
    "RED = '\\033[91m'\n",
    "RESET = '\\033[0m'\n",
    "# bet on player 1\n",
    "total_amount = INIT_AMOUNT\n",
    "for i, row in bet_on_player_1_df.iterrows():\n",
    "    player1 = tennis_test_dataset.get_match(row['match_id']).get_players()[0]\n",
    "    player2 = tennis_test_dataset.get_match(row['match_id']).get_players()[1]\n",
    "    amout_to_bet = row['kelly_criterion']*total_amount\n",
    "    if row['labels'] == 1:\n",
    "        total_amount += amout_to_bet*(row['odds_1']-1)\n",
    "        print(f\"{GREEN}Match : {row['match_id']} {player1} - {player2}, bet on player 1, ({row['prediction_prob']:.2f}) amount to bet : {amout_to_bet:.2f}, odds : {row['odds_1']:.2f}, label : {row['labels']:.2f}, total amount : {total_amount:.2f}{RESET}\")\n",
    "    else:\n",
    "        total_amount -= amout_to_bet\n",
    "        print(f\"{RED}Match : {row['match_id']} {player1} - {player2}, bet on player 1, ({row['prediction_prob']:.2f}) amount to bet : {amout_to_bet:.2f}, odds : {row['odds_1']:.2f}, label : {row['labels']:.2f}, total amount : {total_amount:.2f}{RESET}\")\n",
    "\n",
    "    \n",
    "\n",
    "# bet on player 2\n",
    "for i, row in bet_on_player_2_df.iterrows():\n",
    "    player1 = tennis_test_dataset.get_match(row['match_id']).get_players()[0]\n",
    "    player2 = tennis_test_dataset.get_match(row['match_id']).get_players()[1]\n",
    "    amout_to_bet = row['kelly_criterion']*total_amount\n",
    "    if row['labels'] == -1:\n",
    "        total_amount += amout_to_bet*(row['odds_2']-1)\n",
    "        print(f\"{GREEN}Match : {row['match_id']} {player1} - {player2}, bet on player 2, ({row['prediction_prob']:.2f}) amount to bet : {amout_to_bet:.2f}, odds : {row['odds_2']:.2f}, label : {row['labels']:.2f}, total amount : {total_amount:.2f}{RESET}\")\n",
    "\n",
    "    else:\n",
    "        total_amount -= amout_to_bet\n",
    "        print(f\"{RED}Match : {row['match_id']} {player1} - {player2}, bet on player 2, ({row['prediction_prob']:.2f}) amount to bet : {amout_to_bet:.2f}, odds : {row['odds_2']:.2f}, label : {row['labels']:.2f}, total amount : {total_amount:.2f}{RESET}\")\n",
    "\n",
    "\n",
    "\n",
    "print(f\"\\nTotal amount after betting : {total_amount:.2f}\")\n",
    "if total_amount > INIT_AMOUNT:\n",
    "    print(f\"{GREEN}Relative won {(total_amount-INIT_AMOUNT)/INIT_AMOUNT*100:.2f}%{RESET}\")\n",
    "else:\n",
    "    print(f\"{RED}Relative lost {(INIT_AMOUNT-total_amount)/INIT_AMOUNT*100:.2f}%{RESET}\")"
   ]
  }
 ],
 "metadata": {
  "kernelspec": {
   "display_name": "Python 3",
   "language": "python",
   "name": "python3"
  },
  "language_info": {
   "codemirror_mode": {
    "name": "ipython",
    "version": 3
   },
   "file_extension": ".py",
   "mimetype": "text/x-python",
   "name": "python",
   "nbconvert_exporter": "python",
   "pygments_lexer": "ipython3",
   "version": "3.9.18"
  }
 },
 "nbformat": 4,
 "nbformat_minor": 2
}
