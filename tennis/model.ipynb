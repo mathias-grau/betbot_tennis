{
 "cells": [
  {
   "cell_type": "code",
   "execution_count": 1,
   "metadata": {},
   "outputs": [],
   "source": [
    "# change dir to root\n",
    "import os\n",
    "import sys\n",
    "from utils.classes import TennisMatchDataset\n",
    "import numpy as np\n",
    "import pandas as pd\n",
    "import json\n",
    "import os \n",
    "import torch.nn as nn\n",
    "import torch.nn.functional as F\n",
    "from torch.utils.data import DataLoader, Subset, TensorDataset\n",
    "import torch.optim as optim\n",
    "from tqdm.notebook import tqdm\n",
    "import torch \n",
    "from torch.utils.data import random_split\n",
    "import utils.constants as c\n",
    "import data.utils.constants as c2\n",
    "from sklearn.model_selection import KFold\n",
    "import matplotlib.pyplot as plt\n",
    "\n",
    "MAX_PADDED = 45\n"
   ]
  },
  {
   "cell_type": "code",
   "execution_count": 20,
   "metadata": {},
   "outputs": [
    {
     "name": "stdout",
     "output_type": "stream",
     "text": [
      "Loading data for tournaments {'past-dubai-atp-singles', 'past-marrakech-atp-singles', 'past-monte-carlo-atp-singles', 'past-estoril-atp-singles', 'past-rome-atp-singles', 'past-doha-atp-singles', 'past-indian-wells-atp-singles', 'past-geneva-atp-singles', 'past-madrid-atp-singles', 'past-australian-open-atp-singles', 'past-barcelona-atp-singles', 'past-santiago-atp-singles', 'past-munich-atp-singles', 'past-miami-atp-singles', 'past-brisbane-atp-singles', 'past-houston-atp-singles', 'past-bucharest-atp-singles', 'past-acapulco-atp-singles', 'past-rio-de-janeiro-atp-singles', 'past-french-open-atp-singles', 'past-lyon-atp-singles'} ...\n",
      "... loaded 1664 matches\n",
      "Updating id table ...\n",
      "... id table updated\n"
     ]
    }
   ],
   "source": [
    "\n",
    "\n",
    "tennis_dataset = TennisMatchDataset([   \n",
    "                                        'past-french-open-atp-singles', \n",
    "                                        'past-australian-open-atp-singles',\n",
    "                                        'past-rome-atp-singles', \n",
    "                                        'past-madrid-atp-singles',\n",
    "                                        'past-monte-carlo-atp-singles',\n",
    "                                        'past-lyon-atp-singles',\n",
    "                                        'past-barcelona-atp-singles',\n",
    "                                        'past-munich-atp-singles',\n",
    "                                        'past-geneva-atp-singles',\n",
    "                                        'past-estoril-atp-singles',\n",
    "                                        'past-houston-atp-singles',\n",
    "                                        'past-marrakech-atp-singles',\n",
    "                                        'past-bucharest-atp-singles',\n",
    "                                        'past-doha-atp-singles',\n",
    "                                        'past-dubai-atp-singles',\n",
    "                                        'past-indian-wells-atp-singles',\n",
    "                                        'past-miami-atp-singles',\n",
    "                                        'past-acapulco-atp-singles',\n",
    "                                        'past-rio-de-janeiro-atp-singles',\n",
    "                                        'past-santiago-atp-singles',\n",
    "                                        'past-brisbane-atp-singles',\n",
    "                                        'past-hong-kong-atp-singles',\n",
    "                                        'past-auckland-atp-singles',\n",
    "                                        'past-adelaide-atp-singles',\n",
    "                                        'past-montpellier-atp-singles',\n",
    "                                        'past-marseille-atp-singles',\n",
    "                                        'past-cordoba-atp-singles',\n",
    "                                        'past-dallas-atp-singles',\n",
    "                                        'past-french-open-2023-atp-singles',\n",
    "                                        'past-australian-open-2023-atp-singles',\n",
    "                                        'past-rome-2023-atp-singles',\n",
    "                                        'past-madrid-2023-atp-singles',\n",
    "                                        'past-monte-carlo-2023-atp-singles',\n",
    "                                        'past-lyon-2023-atp-singles',\n",
    "                                        'past-barcelona-2023-atp-singles',\n",
    "                                        'past-munich-2023-atp-singles',\n",
    "                                        'past-geneva-2023-atp-singles',\n",
    "                                        'past-estoril-2023-atp-singles',\n",
    "                                        'past-houston-2023-atp-singles',\n",
    "                                        'past-marrakech-2023-atp-singles', \n",
    "                                        'past-bucharest-2023-atp-singles', ###\n",
    "                                        'past-doha-2023-atp-singles',\n",
    "                                        'past-dubai-2023-atp-singles',\n",
    "                                        # 'past-indian-wells-2023-atp-singles',\n",
    "                                        # 'past-miami-2023-atp-singles',\n",
    "                                        # 'past-acapulco-2023-atp-singles',\n",
    "                                        # 'past-rio-de-janeiro-2023-atp-singles',\n",
    "                                        # 'past-santiago-2023-atp-singles',\n",
    "                                        # 'past-auckland-2023-atp-singles',\n",
    "                                        # 'past-adelaide-2023-atp-singles',\n",
    "                                        # 'past-montpellier-2023-atp-singles',\n",
    "                                        # 'past-marseille-2023-atp-singles',\n",
    "                                        # 'past-cordoba-2023-atp-singles',\n",
    "                                        # 'past-dallas-2023-atp-singles',\n",
    "                                        # 'past-stuttgart-2023-atp-singles',\n",
    "                                        # 'past-hertogenbosch-2023-atp-singles',\n",
    "                                        # 'past-halle-2023-atp-singles',\n",
    "                                        # 'past-london-2023-atp-singles',\n",
    "                                        # 'past-mallorca-2023-atp-singles',\n",
    "                                        # 'past-eastbourne-2023-atp-singles',\n",
    "                                        # 'past-wimbledon-2023-atp-singles',\n",
    "                                        # 'past-hamburg-2023-atp-singles',\n",
    "                                        #   'past-bastad-2023-atp-singles',\n",
    "                                        #   'past-gstaad-2023-atp-singles', ###\n",
    "                                        #   'past-newport-2023-atp-singles',\n",
    "                                        #   'past-umag-2023-atp-singles',\n",
    "                                        #   'past-atlanta-2023-atp-singles',\n",
    "                                        #   'past-washington-2023-atp-singles',\n",
    "                                        #   # 'past-montreal-2023-atp-singles', ###\n",
    "                                        #   'past-cincinnati-2023-atp-singles',\n",
    "                                        #   'past-winston-salem-2023-atp-singles',\n",
    "                                        #   'past-us-open-2023-atp-singles', ###\n",
    "                                        #   'past-chengdu-2023-atp-singles',\n",
    "                                        #   'past-zhuhai-2023-atp-singles', ###\n",
    "                                        #   'past-tokyo-2023-atp-singles',\n",
    "                                        #   'past-beijing-2023-atp-singles', ###\n",
    "                                        #   'past-shanghai-2023-atp-singles',\n",
    "                                        #   'past-stockholm-2023-atp-singles',\n",
    "                                        #   'past-antwerp-2023-atp-singles', ###\n",
    "                                        #   # 'past-almaty-2023-atp-singles', ###\n",
    "                                        #   'past-vienna-2023-atp-singles',\n",
    "                                        #   'past-basel-2023-atp-singles',\n",
    "                                        #   'past-paris-2023-atp-singles',\n",
    "                                        #   'past-metz-2023-atp-singles',\n",
    "                                        #   'past-finals-turin-2023-atp-singles',\n",
    "                                     ])"
   ]
  },
  {
   "cell_type": "code",
   "execution_count": 21,
   "metadata": {},
   "outputs": [
    {
     "name": "stderr",
     "output_type": "stream",
     "text": [
      "  0%|          | 0/21 [00:00<?, ?it/s]"
     ]
    },
    {
     "name": "stdout",
     "output_type": "stream",
     "text": [
      "Error 'pd07' for match hlpsiC1T in tournament past-dubai-atp-singles\n",
      "Error 'bt68' for match nLKD84k8 in tournament past-marrakech-atp-singles\n",
      "Error 'mo55' for match 2grE6fA7 in tournament past-marrakech-atp-singles\n",
      "Error 'm0gy' for match 0GMWK2FB in tournament past-marrakech-atp-singles\n",
      "Error 'i0b3' for match EazBPQ0t in tournament past-marrakech-atp-singles\n",
      "Error 'mo55' for match UilHvdTJ in tournament past-marrakech-atp-singles\n",
      "Error 'cn78' for match t6WtxZHD in tournament past-monte-carlo-atp-singles\n",
      "Error 'm0cj' for match bs1RqoyK in tournament past-monte-carlo-atp-singles\n"
     ]
    },
    {
     "name": "stderr",
     "output_type": "stream",
     "text": [
      " 24%|██▍       | 5/21 [00:00<00:00, 32.79it/s]"
     ]
    },
    {
     "name": "stdout",
     "output_type": "stream",
     "text": [
      "Error 'va15' for match xMJrhbNH in tournament past-estoril-atp-singles\n",
      "Error 'r0f6' for match rDLWwOsH in tournament past-estoril-atp-singles\n",
      "Error 'j09f' for match veVJjfDN in tournament past-estoril-atp-singles\n",
      "Error 'a0es' for match 4MMSv4SA in tournament past-estoril-atp-singles\n",
      "Error 'm0tb' for match b5BkvQFl in tournament past-rome-atp-singles\n",
      "Error 'pf36' for match 2iqJAo3i in tournament past-doha-atp-singles\n",
      "Error 'd0c3' for match 48uC8Mw2 in tournament past-indian-wells-atp-singles\n"
     ]
    },
    {
     "name": "stderr",
     "output_type": "stream",
     "text": [
      " 24%|██▍       | 5/21 [00:00<00:00, 32.79it/s]"
     ]
    },
    {
     "name": "stdout",
     "output_type": "stream",
     "text": [
      "Error 'd0c3' for match MR8lpva5 in tournament past-indian-wells-atp-singles\n",
      "Error 'w0dw' for match KvQx7AK1 in tournament past-indian-wells-atp-singles\n",
      "Error 'd0c3' for match xdSllRqe in tournament past-indian-wells-atp-singles\n",
      "Error 'd0d4' for match nVT0FYCL in tournament past-indian-wells-atp-singles\n",
      "Error 't0hs' for match rmhbGCmf in tournament past-geneva-atp-singles\n",
      "Error 'j09f' for match MiOtsy3e in tournament past-geneva-atp-singles\n",
      "Error 't0hs' for match Odtfjut9 in tournament past-geneva-atp-singles\n",
      "Error 'b0no' for match 02V9ZiLk in tournament past-madrid-atp-singles\n"
     ]
    },
    {
     "name": "stderr",
     "output_type": "stream",
     "text": [
      " 43%|████▎     | 9/21 [00:00<00:00, 29.16it/s]"
     ]
    },
    {
     "name": "stdout",
     "output_type": "stream",
     "text": [
      "Error 'm0tb' for match GzFn1bFN in tournament past-madrid-atp-singles\n",
      "Error 'o09a' for match ImVCD7bf in tournament past-madrid-atp-singles\n",
      "Error 'm0tb' for match zogxwqq3 in tournament past-madrid-atp-singles\n",
      "Error 'c977' for match prLzS6cc in tournament past-australian-open-atp-singles\n",
      "Error 'mh30' for match zu4mFqQS in tournament past-australian-open-atp-singles\n",
      "Error 'g0a0' for match KrMuGvTC in tournament past-australian-open-atp-singles\n",
      "Error 'w0c4' for match C0eFA3Yq in tournament past-australian-open-atp-singles\n",
      "Error 'g0a0' for match 8ld0Azzr in tournament past-australian-open-atp-singles\n",
      "Error 'kc29' for match IqDiVGfA in tournament past-australian-open-atp-singles\n",
      "Error 'w0c4' for match Sh9PXUX5 in tournament past-australian-open-atp-singles\n",
      "Error 'mh30' for match WngktgQP in tournament past-australian-open-atp-singles\n",
      "Error 'j0d4' for match W2aH0K79 in tournament past-australian-open-atp-singles\n",
      "Error 'j0d5' for match GKrH6hZ6 in tournament past-australian-open-atp-singles\n",
      "Error 'm0te' for match 2kAwMCHd in tournament past-australian-open-atp-singles\n",
      "Error 'j0dg' for match ba4Nvwoj in tournament past-australian-open-atp-singles\n",
      "Error 'm0tb' for match AymobRoB in tournament past-australian-open-atp-singles\n",
      "Error 'c882' for match SIvLzXmm in tournament past-australian-open-atp-singles\n"
     ]
    },
    {
     "name": "stderr",
     "output_type": "stream",
     "text": [
      " 43%|████▎     | 9/21 [00:00<00:00, 29.16it/s]"
     ]
    },
    {
     "name": "stdout",
     "output_type": "stream",
     "text": [
      "Error 'a09u' for match ILzioZ34 in tournament past-barcelona-atp-singles\n",
      "Error 'a0ea' for match ULVWyVQj in tournament past-barcelona-atp-singles\n"
     ]
    },
    {
     "name": "stderr",
     "output_type": "stream",
     "text": [
      " 57%|█████▋    | 12/21 [00:00<00:00, 19.07it/s]"
     ]
    },
    {
     "name": "stdout",
     "output_type": "stream",
     "text": [
      "Error 'j0dg' for match 0xh6ulma in tournament past-santiago-atp-singles\n",
      "Error 'm0tb' for match 8GEs4cjC in tournament past-santiago-atp-singles\n",
      "Error 'm0tb' for match t8cUabps in tournament past-santiago-atp-singles\n",
      "Error 'j0dg' for match ALp2rs7O in tournament past-santiago-atp-singles\n",
      "Error 'j0dg' for match W08dk8WL in tournament past-santiago-atp-singles\n",
      "Error 'm0tu' for match 8lUkVXMa in tournament past-santiago-atp-singles\n",
      "Error 'j0dg' for match 0bNYMEjs in tournament past-santiago-atp-singles\n",
      "Error 'm0tu' for match Iw2r2ZsR in tournament past-santiago-atp-singles\n",
      "Error 'g0a0' for match A3g6WOwI in tournament past-munich-atp-singles\n",
      "Error 'g0a0' for match 0xEJkR1M in tournament past-munich-atp-singles\n",
      "Error 'g0a0' for match 8U7EQIkT in tournament past-munich-atp-singles\n",
      "Error 'g0a0' for match AJVLbO2N in tournament past-munich-atp-singles\n",
      "Error 'g0a0' for match 44qARdQc in tournament past-munich-atp-singles\n",
      "Error 'k0j9' for match WKCcIhmp in tournament past-munich-atp-singles\n",
      "Error 'm0c2' for match ELRtTeAj in tournament past-miami-atp-singles\n",
      "Error 'm0c2' for match ELwp144T in tournament past-miami-atp-singles\n",
      "Error 'm0c2' for match AmHMYpQ3 in tournament past-miami-atp-singles\n",
      "Error 'b0no' for match O8W0ZHGE in tournament past-miami-atp-singles\n",
      "Error 's0ja' for match GpzmREzh in tournament past-miami-atp-singles\n",
      "Error 's0uv' for match A9CnbG65 in tournament past-miami-atp-singles\n"
     ]
    },
    {
     "name": "stderr",
     "output_type": "stream",
     "text": [
      " 76%|███████▌  | 16/21 [00:00<00:00, 23.27it/s]"
     ]
    },
    {
     "name": "stdout",
     "output_type": "stream",
     "text": [
      "Error 'kb54' for match beGbbuUM in tournament past-brisbane-atp-singles\n",
      "Error 'b0ot' for match GWnPE0E3 in tournament past-brisbane-atp-singles\n",
      "Error 'm0c2' for match KCqKfsbD in tournament past-houston-atp-singles\n",
      "Error 'rg42' for match dUS2JQzE in tournament past-houston-atp-singles\n",
      "Error 'pl80' for match 6VCWfDCi in tournament past-bucharest-atp-singles\n",
      "Error 'rh88' for match foC1GUZO in tournament past-acapulco-atp-singles\n",
      "Error 'j0dg' for match KjEMxzH3 in tournament past-rio-de-janeiro-atp-singles\n",
      "Error 'j0dg' for match hCxWoCBg in tournament past-rio-de-janeiro-atp-singles\n",
      "Error 'v09t' for match SUUrqAeC in tournament past-rio-de-janeiro-atp-singles\n",
      "Error 'm0tb' for match ERQvpjt6 in tournament past-rio-de-janeiro-atp-singles\n"
     ]
    },
    {
     "name": "stderr",
     "output_type": "stream",
     "text": [
      " 95%|█████████▌| 20/21 [00:00<00:00, 23.77it/s]"
     ]
    },
    {
     "name": "stdout",
     "output_type": "stream",
     "text": [
      "Error 'cd85' for match SM4YT5as in tournament past-french-open-atp-singles\n",
      "Error 'm0tb' for match p2JTgv1D in tournament past-french-open-atp-singles\n",
      "Error 'j0dg' for match 4tJwZg1k in tournament past-french-open-atp-singles\n",
      "Error 'kb05' for match dp3msuhI in tournament past-french-open-atp-singles\n",
      "Error 'm0tu' for match MkH6A105 in tournament past-french-open-atp-singles\n",
      "Error 'f0ho' for match K0mZFWeR in tournament past-french-open-atp-singles\n",
      "Error 'g0a0' for match ShNOapnm in tournament past-french-open-atp-singles\n",
      "Error 'p0k5' for match SO3p61R9 in tournament past-french-open-atp-singles\n",
      "Error 'm0to' for match bD56yV4L in tournament past-french-open-atp-singles\n",
      "Error 'm0c2' for match 2aFNcXZr in tournament past-french-open-atp-singles\n",
      "Error 'j0dg' for match 00SuQeIr in tournament past-french-open-atp-singles\n",
      "Error 'd0c3' for match ziKjvnwg in tournament past-french-open-atp-singles\n"
     ]
    },
    {
     "name": "stderr",
     "output_type": "stream",
     "text": [
      "100%|██████████| 21/21 [00:00<00:00, 24.59it/s]\n"
     ]
    },
    {
     "name": "stdout",
     "output_type": "stream",
     "text": [
      "Error 'm0tb' for match YH8SYOuH in tournament past-lyon-atp-singles\n",
      "Number of errors : 85\n"
     ]
    }
   ],
   "source": [
    "# nb_errors = 0\n",
    "# list_vectors = []\n",
    "# list_labels = []\n",
    "# for match_id in tqdm(tennis_dataset.get_matches_ids()):\n",
    "#     nb_try = 0\n",
    "#     while nb_try < 3:\n",
    "#         try :\n",
    "#             vector = tennis_dataset.get_match(match_id).get_feature_vector()\n",
    "#             list_vectors.append(vector)\n",
    "#             label = tennis_dataset.get_match(match_id).get_label()\n",
    "#             list_labels.append(label)\n",
    "#             break\n",
    "#         except Exception as e:\n",
    "#             nb_try += 1\n",
    "#             if nb_try == 3 :\n",
    "#                 tqdm.write(f\"error : {e} for match_id : {match_id} opposing {tennis_dataset.get_match(match_id).get_players()[0]} to {tennis_dataset.get_match(match_id).get_players()[1]}\")\n",
    "#                 nb_errors += 1\n",
    "    \n",
    "    \n",
    "# tqdm.write(f'Number of errors : {nb_errors} over {len(tennis_dataset.get_matches_ids())} matches')\n",
    "list_vectors, list_labels, lst_match_id, nb_errors = tennis_dataset.get_past_vectors()\n",
    "\n",
    "tqdm.write(f'Number of errors : {nb_errors}')\n"
   ]
  },
  {
   "cell_type": "code",
   "execution_count": 22,
   "metadata": {},
   "outputs": [
    {
     "name": "stdout",
     "output_type": "stream",
     "text": [
      "Number of vectors : 1579\n",
      "Input number 0 is shape : 2\n",
      "Input number 1 is shape : 40\n",
      "Input number 2 is shape : 40\n",
      "Input number 3 is shape : 4\n",
      "Input number 4 is shape : 4\n",
      "Input number 5 is shape : 15\n",
      "Input number 6 is shape : 15\n",
      "Input shapes : [2, 40, 40, 4, 4, 15, 15]\n"
     ]
    }
   ],
   "source": [
    "tqdm.write(f'Number of vectors : {len(list_vectors)}')\n",
    "input_shapes = []\n",
    "for i in range(len(list_vectors[0])):\n",
    "    tqdm.write(f'Input number {i} is shape : {len(list_vectors[0][i])}')\n",
    "    input_shapes.append(len(list_vectors[0][i]))\n",
    "tqdm.write(f'Input shapes : {input_shapes}')"
   ]
  },
  {
   "cell_type": "code",
   "execution_count": 23,
   "metadata": {},
   "outputs": [
    {
     "data": {
      "application/vnd.jupyter.widget-view+json": {
       "model_id": "dd1b05afa4ad4170829f4ec188c3c51c",
       "version_major": 2,
       "version_minor": 0
      },
      "text/plain": [
       "  0%|          | 0/1579 [00:00<?, ?it/s]"
      ]
     },
     "metadata": {},
     "output_type": "display_data"
    },
    {
     "name": "stdout",
     "output_type": "stream",
     "text": [
      "Number of vectors after removing vectors with too much missing values : 1323 over 1579\n"
     ]
    }
   ],
   "source": [
    "# remove vectors where there is too much missing values ie too much c.PADDING values in all the vectors \n",
    "new_list_vectors = []\n",
    "new_list_labels = []\n",
    "for i in tqdm(range(len(list_vectors))) :\n",
    "    vector = list_vectors[i]\n",
    "    num_padding = 0\n",
    "    for spe_vec in vector :\n",
    "        num_padding += spe_vec.count(c.PADDING)\n",
    "    if num_padding < MAX_PADDED and list_labels[i] != c.PADDING:\n",
    "        new_list_vectors.append(vector)\n",
    "        new_list_labels.append(list_labels[i])\n",
    "tqdm.write(f'Number of vectors after removing vectors with too much missing values : {len(new_list_vectors)} over {len(list_vectors)}')\n"
   ]
  },
  {
   "cell_type": "code",
   "execution_count": 24,
   "metadata": {},
   "outputs": [],
   "source": [
    "# create 7 tensors : [tournament_features_vector, player1_features_vector, player2_features_vector, h2h_overall_vector, h2h_surface_vector, shape_overall_player1, shape_overall_player2]\n",
    "tournament_features_vector = []\n",
    "player1_features_vector = []\n",
    "player2_features_vector = []\n",
    "h2h_overall_vector = []\n",
    "h2h_surface_vector = []\n",
    "shape_overall_player1_vector = []\n",
    "shape_overall_player2_vector = []\n",
    "\n",
    "for vector in new_list_vectors:\n",
    "    tournament_features_vector.append(vector[0])\n",
    "    player1_features_vector.append(vector[1])\n",
    "    player2_features_vector.append(vector[2])\n",
    "    h2h_overall_vector.append(vector[3])\n",
    "    h2h_surface_vector.append(vector[4])\n",
    "    shape_overall_player1_vector.append(vector[5])\n",
    "    shape_overall_player2_vector.append(vector[6])\n",
    "\n",
    "# convert to pytorch tensor\n",
    "tournament_features_tensor = torch.tensor(tournament_features_vector, dtype=torch.float)\n",
    "tournament_features_mask = torch.zeros_like(tournament_features_tensor)\n",
    "tournament_features_mask[tournament_features_tensor != c.PADDING] = 1.\n",
    "player1_features_tensor = torch.tensor(player1_features_vector, dtype=torch.float)\n",
    "player1_features_mask = torch.zeros_like(player1_features_tensor)\n",
    "player1_features_mask[player1_features_tensor != c.PADDING] = 1.\n",
    "player2_features_tensor = torch.tensor(player2_features_vector, dtype=torch.float)\n",
    "player2_features_mask = torch.zeros_like(player2_features_tensor)\n",
    "player2_features_mask[player2_features_tensor != c.PADDING] = 1.\n",
    "h2h_overall_tensor = torch.tensor(h2h_overall_vector, dtype=torch.float)\n",
    "h2h_overall_mask = torch.zeros_like(h2h_overall_tensor)\n",
    "h2h_overall_mask[h2h_overall_tensor != c.PADDING] = 1.\n",
    "h2h_surface_tensor = torch.tensor(h2h_surface_vector, dtype=torch.float)\n",
    "h2h_surface_mask = torch.zeros_like(h2h_surface_tensor)\n",
    "h2h_surface_mask[h2h_surface_tensor != c.PADDING] = 1.\n",
    "shape_overall_player1_tensor = torch.tensor(shape_overall_player1_vector, dtype=torch.float)\n",
    "shape_overall_player1_mask = torch.zeros_like(shape_overall_player1_tensor)\n",
    "shape_overall_player1_mask[shape_overall_player1_tensor != c.PADDING] = 1.\n",
    "shape_overall_player2_tensor = torch.tensor(shape_overall_player2_vector, dtype=torch.float)\n",
    "shape_overall_player2_mask = torch.zeros_like(shape_overall_player2_tensor)\n",
    "shape_overall_player2_mask[shape_overall_player2_tensor != c.PADDING] = 1.\n",
    "\n",
    "label_vector = []\n",
    "for label in new_list_labels:\n",
    "    label_vector.append(label)\n",
    "\n",
    "label_tensor = torch.tensor(label_vector)\n",
    "\n",
    "dataset = TensorDataset(tournament_features_tensor, \n",
    "                        tournament_features_mask, \n",
    "                        player1_features_tensor, \n",
    "                        player1_features_mask, \n",
    "                        player2_features_tensor, \n",
    "                        player2_features_mask,\n",
    "                        h2h_overall_tensor, \n",
    "                        h2h_overall_mask, \n",
    "                        h2h_surface_tensor, \n",
    "                        h2h_surface_mask, \n",
    "                        shape_overall_player1_tensor, \n",
    "                        shape_overall_player1_mask, \n",
    "                        shape_overall_player2_tensor, \n",
    "                        shape_overall_player2_mask, \n",
    "                        label_tensor)\n",
    "\n",
    "# split the dataset into train and validation \n",
    "# train_size = int(0.85 * len(dataset))\n",
    "# val_size = len(dataset) - train_size\n",
    "# train_dataset, val_dataset = random_split(dataset, [train_size, val_size])\n",
    "\n",
    "N_FOLDS = 5\n",
    "kf = KFold(n_splits=N_FOLDS, shuffle=True, random_state=42)\n"
   ]
  },
  {
   "cell_type": "markdown",
   "metadata": {},
   "source": [
    "## Model"
   ]
  },
  {
   "cell_type": "code",
   "execution_count": 25,
   "metadata": {},
   "outputs": [],
   "source": [
    "#  create a model with 1 dense layer for all parts of inputs, then concatenate them, 1 dense layer and eventually atanh activation function\n",
    "\n",
    "\n",
    "PATIENCE = 70\n",
    "N_EPOCHS = 2000\n",
    "LEARNING_RATE = 5e-4\n",
    "WEIGHT_DECAY = 1e-4\n",
    "DROPOUT = 0.6\n",
    "N_UNITS = 16\n",
    "N_UNITS_OVERALL = 4\n",
    "N_UNITS_SURFACE = 4\n",
    "STEP_SIZE = 30\n",
    "GAMMA = 0.8\n",
    "\n",
    "class TennisMatchPredictor(nn.Module):\n",
    "    def __init__(self, input_shapes):\n",
    "        super(TennisMatchPredictor, self).__init__()\n",
    "        self.fctournament = nn.Linear(input_shapes[0], 2)\n",
    "        self.fcplayer1 = nn.Linear(input_shapes[1], 20)\n",
    "        self.fcplayer2 = nn.Linear(input_shapes[2], 20)\n",
    "        self.gru_h2h_overall = nn.GRU(1, N_UNITS_OVERALL, batch_first=True, dropout=DROPOUT)\n",
    "        self.gru_h2h_surface = nn.GRU(1, N_UNITS_SURFACE, batch_first=True, dropout=DROPOUT)\n",
    "        \n",
    "        self.gru_shape_overall_player1 = nn.GRU(1, N_UNITS, batch_first=True, dropout=DROPOUT)\n",
    "        self.gru_shape_overall_player2 = nn.GRU(1, N_UNITS, batch_first=True, dropout=DROPOUT)\n",
    "\n",
    "        self.fc1 = nn.Linear(2+20+20+N_UNITS_OVERALL+N_UNITS_SURFACE+N_UNITS+N_UNITS, 32)\n",
    "        self.fc2 = nn.Linear(32, 1)\n",
    "\n",
    "    def forward(self, \n",
    "                tournament_features, \n",
    "                player1_features, \n",
    "                player2_features, \n",
    "                h2h_overall, \n",
    "                h2h_surface, \n",
    "                shape_overall_player1, \n",
    "                shape_overall_player2,\n",
    "                tournament_mask=None,\n",
    "                player1_mask=None, \n",
    "                player2_mask=None, \n",
    "                h2h_overall_mask=None, \n",
    "                h2h_surface_mask=None, \n",
    "                shape_overall_player1_mask=None, \n",
    "                shape_overall_player2_mask=None):\n",
    "        \n",
    "        x1 = F.tanh(self.fctournament(tournament_features))\n",
    "        x2 = F.tanh(self.fcplayer1(player1_features))\n",
    "        x3 = F.tanh(self.fcplayer2(player2_features))\n",
    "\n",
    "        # Reverse the sequence for GRU processing  flip to put last match at the end + current [batch, legth_shape] but need [batch, legth_shape, 1]\n",
    "        h2h_overall = torch.flip(h2h_overall, dims=[1]).unsqueeze(-1)\n",
    "        h2h_surface = torch.flip(h2h_surface, dims=[1]).unsqueeze(-1)\n",
    "        shape_overall_player1 = torch.flip(shape_overall_player1, dims=[1]).unsqueeze(-1)\n",
    "        shape_overall_player2 = torch.flip(shape_overall_player2, dims=[1]).unsqueeze(-1)\n",
    "        _, x4 = self.gru_h2h_overall(h2h_overall)\n",
    "        x4 = x4.squeeze(0)\n",
    "        x4 = F.tanh(x4)\n",
    "        _, x5 = self.gru_h2h_surface(h2h_surface)\n",
    "        x5 = x5.squeeze(0)\n",
    "        x5 = F.tanh(x5)\n",
    "        _, x6 = self.gru_shape_overall_player1(shape_overall_player1)\n",
    "        x6 = x6.squeeze(0)\n",
    "        x6 = F.tanh(x6)\n",
    "        _, x7 = self.gru_shape_overall_player2(shape_overall_player2)\n",
    "        x7 = x7.squeeze(0)\n",
    "        x7 = F.tanh(x7)\n",
    "\n",
    "        # Apply masks if provided\n",
    "        # if tournament_mask is not None:\n",
    "        #     x1 = x1 * tournament_mask\n",
    "        # if player1_mask is not None:\n",
    "        #     x2 = x2 * player1_mask\n",
    "        # if player2_mask is not None:\n",
    "        #     x3 = x3 * player2_mask\n",
    "        # if h2h_overall_mask is not None:\n",
    "        #     x4 = x4 * h2h_overall_mask\n",
    "        # if h2h_surface_mask is not None:\n",
    "        #     x5 = x5 * h2h_surface_mask\n",
    "        # if shape_overall_player1_mask is not None:\n",
    "        #     x6 = x6 * shape_overall_player1_mask\n",
    "        # if shape_overall_player2_mask is not None:\n",
    "        #     x7 = x7 * shape_overall_player2_mask\n",
    "\n",
    "        x = torch.cat((x1, x2, x3, x4, x5, x6, x7), 1)\n",
    "        # dropout\n",
    "        x = F.dropout(x, p=DROPOUT)\n",
    "        x = F.tanh(self.fc1(x))\n",
    "        x = torch.tanh(self.fc2(x))\n",
    "        return x\n"
   ]
  },
  {
   "cell_type": "markdown",
   "metadata": {},
   "source": [
    "## Training"
   ]
  },
  {
   "cell_type": "code",
   "execution_count": 26,
   "metadata": {},
   "outputs": [
    {
     "name": "stdout",
     "output_type": "stream",
     "text": [
      "Fold 1\n",
      "   - Train size: 1058\n",
      "   - Validation size: 265\n"
     ]
    },
    {
     "data": {
      "application/vnd.jupyter.widget-view+json": {
       "model_id": "656e2a69ef9b4a49a803775010bff28c",
       "version_major": 2,
       "version_minor": 0
      },
      "text/plain": [
       "  0%|          | 0/2000 [00:00<?, ?it/s]"
      ]
     },
     "metadata": {},
     "output_type": "display_data"
    },
    {
     "name": "stdout",
     "output_type": "stream",
     "text": [
      "Fold 1, Epoch 1, Train Loss: 1.01, Validation Loss: 1.01, lr: 5.00e-04\n",
      "Fold 1, Epoch 11, Train Loss: 0.86, Validation Loss: 0.92, lr: 5.00e-04\n",
      "Fold 1, Epoch 21, Train Loss: 0.80, Validation Loss: 0.86, lr: 5.00e-04\n",
      "Fold 1, Epoch 31, Train Loss: 0.79, Validation Loss: 0.87, lr: 4.00e-04\n",
      "Fold 1, Epoch 41, Train Loss: 0.78, Validation Loss: 0.82, lr: 4.00e-04\n",
      "Fold 1, Epoch 51, Train Loss: 0.77, Validation Loss: 0.95, lr: 4.00e-04\n",
      "Fold 1, Epoch 61, Train Loss: 0.78, Validation Loss: 0.82, lr: 3.20e-04\n",
      "Fold 1, Epoch 71, Train Loss: 0.76, Validation Loss: 0.81, lr: 3.20e-04\n",
      "Fold 1, Epoch 81, Train Loss: 0.77, Validation Loss: 0.84, lr: 3.20e-04\n",
      "       --> Early stopping at epoch 89\n",
      "Fold 2\n",
      "   - Train size: 1058\n",
      "   - Validation size: 265\n"
     ]
    },
    {
     "data": {
      "application/vnd.jupyter.widget-view+json": {
       "model_id": "1dd92d3a4eb04ea9a03e060209e0e5d8",
       "version_major": 2,
       "version_minor": 0
      },
      "text/plain": [
       "  0%|          | 0/2000 [00:00<?, ?it/s]"
      ]
     },
     "metadata": {},
     "output_type": "display_data"
    },
    {
     "name": "stdout",
     "output_type": "stream",
     "text": [
      "Fold 2, Epoch 1, Train Loss: 1.00, Validation Loss: 1.00, lr: 5.00e-04\n",
      "Fold 2, Epoch 11, Train Loss: 0.86, Validation Loss: 0.88, lr: 5.00e-04\n",
      "Fold 2, Epoch 21, Train Loss: 0.81, Validation Loss: 0.88, lr: 5.00e-04\n",
      "Fold 2, Epoch 31, Train Loss: 0.80, Validation Loss: 0.88, lr: 4.00e-04\n",
      "Fold 2, Epoch 41, Train Loss: 0.78, Validation Loss: 0.93, lr: 4.00e-04\n",
      "Fold 2, Epoch 51, Train Loss: 0.78, Validation Loss: 0.91, lr: 4.00e-04\n",
      "Fold 2, Epoch 61, Train Loss: 0.78, Validation Loss: 0.93, lr: 3.20e-04\n",
      "Fold 2, Epoch 71, Train Loss: 0.78, Validation Loss: 0.85, lr: 3.20e-04\n",
      "Fold 2, Epoch 81, Train Loss: 0.77, Validation Loss: 0.92, lr: 3.20e-04\n",
      "       --> Early stopping at epoch 83\n",
      "Fold 3\n",
      "   - Train size: 1058\n",
      "   - Validation size: 265\n"
     ]
    },
    {
     "data": {
      "application/vnd.jupyter.widget-view+json": {
       "model_id": "102dcd9254b9435aa8644f95c96e448d",
       "version_major": 2,
       "version_minor": 0
      },
      "text/plain": [
       "  0%|          | 0/2000 [00:00<?, ?it/s]"
      ]
     },
     "metadata": {},
     "output_type": "display_data"
    },
    {
     "name": "stdout",
     "output_type": "stream",
     "text": [
      "Fold 3, Epoch 1, Train Loss: 1.00, Validation Loss: 1.00, lr: 5.00e-04\n",
      "Fold 3, Epoch 11, Train Loss: 0.85, Validation Loss: 0.94, lr: 5.00e-04\n",
      "Fold 3, Epoch 21, Train Loss: 0.81, Validation Loss: 0.97, lr: 5.00e-04\n",
      "Fold 3, Epoch 31, Train Loss: 0.77, Validation Loss: 0.92, lr: 4.00e-04\n",
      "Fold 3, Epoch 41, Train Loss: 0.77, Validation Loss: 0.86, lr: 4.00e-04\n",
      "Fold 3, Epoch 51, Train Loss: 0.78, Validation Loss: 0.88, lr: 4.00e-04\n",
      "Fold 3, Epoch 61, Train Loss: 0.75, Validation Loss: 0.92, lr: 3.20e-04\n",
      "Fold 3, Epoch 71, Train Loss: 0.78, Validation Loss: 0.95, lr: 3.20e-04\n",
      "Fold 3, Epoch 81, Train Loss: 0.76, Validation Loss: 0.90, lr: 3.20e-04\n",
      "Fold 3, Epoch 91, Train Loss: 0.76, Validation Loss: 0.97, lr: 2.56e-04\n",
      "Fold 3, Epoch 101, Train Loss: 0.76, Validation Loss: 0.91, lr: 2.56e-04\n",
      "Fold 3, Epoch 111, Train Loss: 0.75, Validation Loss: 0.91, lr: 2.56e-04\n",
      "Fold 3, Epoch 121, Train Loss: 0.78, Validation Loss: 0.92, lr: 2.05e-04\n",
      "Fold 3, Epoch 131, Train Loss: 0.76, Validation Loss: 0.94, lr: 2.05e-04\n",
      "Fold 3, Epoch 141, Train Loss: 0.75, Validation Loss: 0.92, lr: 2.05e-04\n",
      "Fold 3, Epoch 151, Train Loss: 0.76, Validation Loss: 0.90, lr: 1.64e-04\n",
      "Fold 3, Epoch 161, Train Loss: 0.75, Validation Loss: 0.95, lr: 1.64e-04\n",
      "       --> Early stopping at epoch 164\n",
      "Fold 4\n",
      "   - Train size: 1059\n",
      "   - Validation size: 264\n"
     ]
    },
    {
     "data": {
      "application/vnd.jupyter.widget-view+json": {
       "model_id": "6f97c0d07bfb4ae0a3ee7ab62e0c5ba6",
       "version_major": 2,
       "version_minor": 0
      },
      "text/plain": [
       "  0%|          | 0/2000 [00:00<?, ?it/s]"
      ]
     },
     "metadata": {},
     "output_type": "display_data"
    },
    {
     "name": "stdout",
     "output_type": "stream",
     "text": [
      "Fold 4, Epoch 1, Train Loss: 1.02, Validation Loss: 1.00, lr: 5.00e-04\n",
      "Fold 4, Epoch 11, Train Loss: 0.88, Validation Loss: 0.86, lr: 5.00e-04\n",
      "Fold 4, Epoch 21, Train Loss: 0.83, Validation Loss: 0.77, lr: 5.00e-04\n",
      "Fold 4, Epoch 31, Train Loss: 0.82, Validation Loss: 0.80, lr: 4.00e-04\n",
      "Fold 4, Epoch 41, Train Loss: 0.79, Validation Loss: 0.77, lr: 4.00e-04\n",
      "Fold 4, Epoch 51, Train Loss: 0.77, Validation Loss: 0.78, lr: 4.00e-04\n",
      "Fold 4, Epoch 61, Train Loss: 0.79, Validation Loss: 0.75, lr: 3.20e-04\n",
      "Fold 4, Epoch 71, Train Loss: 0.79, Validation Loss: 0.77, lr: 3.20e-04\n",
      "Fold 4, Epoch 81, Train Loss: 0.78, Validation Loss: 0.77, lr: 3.20e-04\n",
      "Fold 4, Epoch 91, Train Loss: 0.77, Validation Loss: 0.69, lr: 2.56e-04\n",
      "Fold 4, Epoch 101, Train Loss: 0.79, Validation Loss: 0.76, lr: 2.56e-04\n",
      "Fold 4, Epoch 111, Train Loss: 0.77, Validation Loss: 0.72, lr: 2.56e-04\n",
      "Fold 4, Epoch 121, Train Loss: 0.79, Validation Loss: 0.80, lr: 2.05e-04\n",
      "Fold 4, Epoch 131, Train Loss: 0.78, Validation Loss: 0.82, lr: 2.05e-04\n",
      "Fold 4, Epoch 141, Train Loss: 0.75, Validation Loss: 0.80, lr: 2.05e-04\n",
      "Fold 4, Epoch 151, Train Loss: 0.78, Validation Loss: 0.71, lr: 1.64e-04\n",
      "Fold 4, Epoch 161, Train Loss: 0.76, Validation Loss: 0.73, lr: 1.64e-04\n",
      "       --> Early stopping at epoch 168\n",
      "Fold 5\n",
      "   - Train size: 1059\n",
      "   - Validation size: 264\n"
     ]
    },
    {
     "data": {
      "application/vnd.jupyter.widget-view+json": {
       "model_id": "99c405c324334880aa1f5d3891fd2b28",
       "version_major": 2,
       "version_minor": 0
      },
      "text/plain": [
       "  0%|          | 0/2000 [00:00<?, ?it/s]"
      ]
     },
     "metadata": {},
     "output_type": "display_data"
    },
    {
     "name": "stdout",
     "output_type": "stream",
     "text": [
      "Fold 5, Epoch 1, Train Loss: 1.01, Validation Loss: 0.98, lr: 5.00e-04\n",
      "Fold 5, Epoch 11, Train Loss: 0.87, Validation Loss: 0.84, lr: 5.00e-04\n",
      "Fold 5, Epoch 21, Train Loss: 0.82, Validation Loss: 0.75, lr: 5.00e-04\n",
      "Fold 5, Epoch 31, Train Loss: 0.81, Validation Loss: 0.74, lr: 4.00e-04\n",
      "Fold 5, Epoch 41, Train Loss: 0.81, Validation Loss: 0.75, lr: 4.00e-04\n",
      "Fold 5, Epoch 51, Train Loss: 0.80, Validation Loss: 0.70, lr: 4.00e-04\n",
      "Fold 5, Epoch 61, Train Loss: 0.80, Validation Loss: 0.73, lr: 3.20e-04\n",
      "Fold 5, Epoch 71, Train Loss: 0.80, Validation Loss: 0.70, lr: 3.20e-04\n",
      "Fold 5, Epoch 81, Train Loss: 0.79, Validation Loss: 0.73, lr: 3.20e-04\n",
      "Fold 5, Epoch 91, Train Loss: 0.76, Validation Loss: 0.71, lr: 2.56e-04\n",
      "Fold 5, Epoch 101, Train Loss: 0.79, Validation Loss: 0.73, lr: 2.56e-04\n",
      "Fold 5, Epoch 111, Train Loss: 0.78, Validation Loss: 0.71, lr: 2.56e-04\n",
      "Fold 5, Epoch 121, Train Loss: 0.79, Validation Loss: 0.73, lr: 2.05e-04\n",
      "Fold 5, Epoch 131, Train Loss: 0.78, Validation Loss: 0.73, lr: 2.05e-04\n",
      "Fold 5, Epoch 141, Train Loss: 0.77, Validation Loss: 0.67, lr: 2.05e-04\n",
      "Fold 5, Epoch 151, Train Loss: 0.77, Validation Loss: 0.75, lr: 1.64e-04\n",
      "Fold 5, Epoch 161, Train Loss: 0.79, Validation Loss: 0.75, lr: 1.64e-04\n",
      "Fold 5, Epoch 171, Train Loss: 0.79, Validation Loss: 0.68, lr: 1.64e-04\n",
      "Fold 5, Epoch 181, Train Loss: 0.77, Validation Loss: 0.75, lr: 1.31e-04\n",
      "       --> Early stopping at epoch 182\n"
     ]
    }
   ],
   "source": [
    "# Initialize lists to store the results\n",
    "all_train_losses = []\n",
    "all_val_losses = []\n",
    "all_last_indexes = []\n",
    "\n",
    "for fold, (train_idx, val_idx) in enumerate(kf.split(dataset)):\n",
    "    tqdm.write(f\"Fold {fold + 1}\")\n",
    "    \n",
    "    train_subset = Subset(dataset, train_idx)\n",
    "    val_subset = Subset(dataset, val_idx)\n",
    "\n",
    "    # print sizes\n",
    "    tqdm.write(f\"   - Train size: {len(train_subset)}\")\n",
    "    tqdm.write(f\"   - Validation size: {len(val_subset)}\")\n",
    "    \n",
    "    train_dataloader = DataLoader(train_subset, batch_size=64, shuffle=True)\n",
    "    val_dataloader = DataLoader(val_subset, batch_size=64, shuffle=False)\n",
    "\n",
    "    model = TennisMatchPredictor(input_shapes)\n",
    "    criterion = nn.MSELoss()\n",
    "    optimizer = optim.Adam(model.parameters(), lr=LEARNING_RATE, weight_decay=WEIGHT_DECAY)\n",
    "    lr_scheduler = optim.lr_scheduler.StepLR(optimizer, step_size=STEP_SIZE, gamma=GAMMA)\n",
    "\n",
    "    fold_train_losses = []\n",
    "    fold_val_losses = []\n",
    "\n",
    "    patience_counter = 0\n",
    "    MIN_VAL_LOSS = np.inf\n",
    "    BEST_MODEL = None\n",
    "    INDEX_EPOCH = 0\n",
    "    \n",
    "    for epoch in tqdm(range(N_EPOCHS)):\n",
    "        train_loss = 0.0\n",
    "        val_loss = 0.0\n",
    "        model.train()\n",
    "        for data in train_dataloader:\n",
    "            (tournament_features, tournament_mask, player1_features, player1_mask,\n",
    "             player2_features, player2_mask, h2h_overall, h2h_overall_mask, \n",
    "             h2h_surface, h2h_surface_mask, shape_overall_player1, shape_overall_player1_mask, \n",
    "             shape_overall_player2, shape_overall_player2_mask, labels) = data\n",
    "            optimizer.zero_grad()\n",
    "            outputs = model(tournament_features, player1_features, player2_features, \n",
    "                            h2h_overall, h2h_surface, shape_overall_player1, shape_overall_player2,\n",
    "                            tournament_mask, player1_mask, player2_mask, h2h_overall_mask, \n",
    "                            h2h_surface_mask, shape_overall_player1_mask, shape_overall_player2_mask)\n",
    "            loss = criterion(outputs, labels.unsqueeze(1).float())\n",
    "            loss.backward()\n",
    "            optimizer.step()\n",
    "            train_loss += loss.item()\n",
    "        lr_scheduler.step()\n",
    "        \n",
    "        model.eval()\n",
    "        with torch.no_grad():\n",
    "            for data in val_dataloader:\n",
    "                (tournament_features, tournament_mask, player1_features, player1_mask,\n",
    "                 player2_features, player2_mask, h2h_overall, h2h_overall_mask, \n",
    "                 h2h_surface, h2h_surface_mask, shape_overall_player1, shape_overall_player1_mask, \n",
    "                 shape_overall_player2, shape_overall_player2_mask, labels) = data\n",
    "                outputs = model(tournament_features, player1_features, player2_features, \n",
    "                                h2h_overall, h2h_surface, shape_overall_player1, shape_overall_player2,\n",
    "                                tournament_mask, player1_mask, player2_mask, h2h_overall_mask, \n",
    "                                h2h_surface_mask, shape_overall_player1_mask, shape_overall_player2_mask)\n",
    "                loss = criterion(outputs, labels.unsqueeze(1).float())\n",
    "                val_loss += loss.item()\n",
    "        \n",
    "        fold_train_losses.append(train_loss / len(train_dataloader))\n",
    "        fold_val_losses.append(val_loss / len(val_dataloader))\n",
    "        if epoch % 10 == 0:\n",
    "            tqdm.write(f'Fold {fold + 1}, Epoch {epoch + 1}, Train Loss: {train_loss / len(train_dataloader):.2f}, Validation Loss: {val_loss / len(val_dataloader):.2f}, lr: {lr_scheduler.get_last_lr()[0]:.2e}')\n",
    "        \n",
    "        if val_loss < MIN_VAL_LOSS:\n",
    "            MIN_VAL_LOSS = val_loss\n",
    "            patience_counter = 0\n",
    "            BEST_MODEL = model.state_dict()\n",
    "            INDEX_EPOCH = epoch\n",
    "        else:\n",
    "            patience_counter += 1\n",
    "        if patience_counter == PATIENCE:\n",
    "            tqdm.write(f'       --> Early stopping at epoch {epoch + 1}')\n",
    "            break\n",
    "    \n",
    "    all_train_losses.append(fold_train_losses)\n",
    "    all_val_losses.append(fold_val_losses)\n",
    "    all_last_indexes.append(INDEX_EPOCH)\n",
    "    \n",
    "    # Save the best model for each fold\n",
    "    torch.save(BEST_MODEL, f'{c2.REPO_PATH}/tennis/models/best_model_fold_{fold + 1}.pth')\n",
    "\n"
   ]
  },
  {
   "cell_type": "code",
   "execution_count": 27,
   "metadata": {},
   "outputs": [
    {
     "data": {
      "image/png": "[encoded data removed]",
      "text/plain": [
       "<Figure size 1200x600 with 5 Axes>"
      ]
     },
     "metadata": {},
     "output_type": "display_data"
    }
   ],
   "source": [
    "# print all losses for each fold on different subplots\n",
    "plt.figure(figsize=(12, 6))\n",
    "for i in range(N_FOLDS):\n",
    "    plt.subplot(2, 3, i + 1)\n",
    "    plt.plot(all_train_losses[i], label='Train Loss')\n",
    "    plt.plot(all_val_losses[i], label='Validation Loss')\n",
    "    plt.title(f'Fold {i + 1}')\n",
    "    plt.xlabel('Epoch')\n",
    "    plt.ylabel('Loss')\n",
    "    plt.legend(loc='upper right')\n",
    "plt.tight_layout()\n",
    "plt.show()\n"
   ]
  },
  {
   "cell_type": "markdown",
   "metadata": {},
   "source": [
    "## Testing"
   ]
  },
  {
   "cell_type": "code",
   "execution_count": 28,
   "metadata": {},
   "outputs": [
    {
     "name": "stdout",
     "output_type": "stream",
     "text": [
      "Loading data for tournaments {'past-hertogenbosch-atp-singles', 'past-stuttgart-atp-singles'} ...\n"
     ]
    },
    {
     "ename": "FileNotFoundError",
     "evalue": "[Errno 2] No such file or directory: '/users/eleves-b/2021/mathias.grau/betbot_tennis/tennis/data/files/matches/past-stuttgart-atp-singles.json'",
     "output_type": "error",
     "traceback": [
      "\u001b[0;31m---------------------------------------------------------------------------\u001b[0m",
      "\u001b[0;31mFileNotFoundError\u001b[0m                         Traceback (most recent call last)",
      "Cell \u001b[0;32mIn[28], line 1\u001b[0m\n\u001b[0;32m----> 1\u001b[0m tennis_test_dataset \u001b[38;5;241m=\u001b[39m \u001b[43mTennisMatchDataset\u001b[49m\u001b[43m(\u001b[49m\u001b[43m[\u001b[49m\n\u001b[1;32m      2\u001b[0m \u001b[43m                                            \u001b[49m\u001b[38;5;124;43m'\u001b[39;49m\u001b[38;5;124;43mpast-stuttgart-atp-singles\u001b[39;49m\u001b[38;5;124;43m'\u001b[39;49m\u001b[43m,\u001b[49m\n\u001b[1;32m      3\u001b[0m \u001b[43m                                            \u001b[49m\u001b[38;5;124;43m'\u001b[39;49m\u001b[38;5;124;43mpast-hertogenbosch-atp-singles\u001b[39;49m\u001b[38;5;124;43m'\u001b[39;49m\u001b[43m,\u001b[49m\n\u001b[1;32m      4\u001b[0m \u001b[43m                                          \u001b[49m\u001b[43m]\u001b[49m\u001b[43m)\u001b[49m\n\u001b[1;32m      5\u001b[0m nb_errors \u001b[38;5;241m=\u001b[39m \u001b[38;5;241m0\u001b[39m\n\u001b[1;32m      6\u001b[0m list_vectors_test \u001b[38;5;241m=\u001b[39m []\n",
      "File \u001b[0;32m~/betbot_tennis/tennis/utils/classes.py:314\u001b[0m, in \u001b[0;36mTennisMatchDataset.__init__\u001b[0;34m(self, tournaments)\u001b[0m\n\u001b[1;32m    311\u001b[0m \u001b[38;5;28;01mfor\u001b[39;00m tournament \u001b[38;5;129;01min\u001b[39;00m tournaments:\n\u001b[1;32m    312\u001b[0m     \u001b[38;5;66;03m# read .json file\u001b[39;00m\n\u001b[1;32m    313\u001b[0m     tournament_path \u001b[38;5;241m=\u001b[39m os\u001b[38;5;241m.\u001b[39mpath\u001b[38;5;241m.\u001b[39mjoin(c\u001b[38;5;241m.\u001b[39mTENNIS_DATA_PATH, \u001b[38;5;124mf\u001b[39m\u001b[38;5;124m\"\u001b[39m\u001b[38;5;132;01m{\u001b[39;00mtournament\u001b[38;5;132;01m}\u001b[39;00m\u001b[38;5;124m.json\u001b[39m\u001b[38;5;124m\"\u001b[39m)\n\u001b[0;32m--> 314\u001b[0m     \u001b[38;5;28;01mwith\u001b[39;00m \u001b[38;5;28;43mopen\u001b[39;49m\u001b[43m(\u001b[49m\u001b[43mtournament_path\u001b[49m\u001b[43m,\u001b[49m\u001b[43m \u001b[49m\u001b[38;5;124;43m\"\u001b[39;49m\u001b[38;5;124;43mr\u001b[39;49m\u001b[38;5;124;43m\"\u001b[39;49m\u001b[43m)\u001b[49m \u001b[38;5;28;01mas\u001b[39;00m f:\n\u001b[1;32m    315\u001b[0m         tournament_data \u001b[38;5;241m=\u001b[39m json\u001b[38;5;241m.\u001b[39mload(f)\n\u001b[1;32m    316\u001b[0m     \u001b[38;5;66;03m# update matches to self.matches\u001b[39;00m\n",
      "\u001b[0;31mFileNotFoundError\u001b[0m: [Errno 2] No such file or directory: '/users/eleves-b/2021/mathias.grau/betbot_tennis/tennis/data/files/matches/past-stuttgart-atp-singles.json'"
     ]
    }
   ],
   "source": [
    "tennis_test_dataset = TennisMatchDataset([\n",
    "                                            'past-stuttgart-atp-singles',\n",
    "                                            'past-hertogenbosch-atp-singles',\n",
    "                                          ])\n",
    "nb_errors = 0\n",
    "list_vectors_test = []\n",
    "list_labels_test = []\n",
    "list_matches_ids_test = []\n",
    "\n",
    "list_vectors_test, list_labels_test, list_matches_ids_test, nb_errors = tennis_test_dataset.get_past_vectors()\n",
    "\n",
    "\n",
    "print(f'Number of errors : {nb_errors} over {len(tennis_test_dataset.get_matches_ids())} matches')\n",
    "\n",
    "print(f'Number of vectors : {len(list_vectors_test)}')\n",
    "input_shapes = []\n",
    "for i in range(len(list_vectors_test[0])):\n",
    "    input_shapes.append(len(list_vectors_test[0][i]))\n",
    "print(f'Input shapes : {input_shapes}')\n",
    "\n",
    "# remove vectors where there is too much missing values ie too much c.PADDING values in all the vectors\n",
    "new_list_vectors_test = []\n",
    "new_list_labels_test = []\n",
    "new_list_matches_ids_test = []\n",
    "\n",
    "for i in tqdm(range(len(list_vectors_test))) :\n",
    "    vector = list_vectors_test[i]\n",
    "    num_padding = 0\n",
    "    for spe_vec in vector :\n",
    "        num_padding += spe_vec.count(c.PADDING)\n",
    "    if num_padding < MAX_PADDED and list_labels_test[i] != c.PADDING:\n",
    "        new_list_vectors_test.append(vector)\n",
    "        new_list_labels_test.append(list_labels_test[i])\n",
    "        new_list_matches_ids_test.append(list_matches_ids_test[i])\n",
    "print(f'Number of vectors after removing vectors with too much missing values : {len(new_list_vectors_test)}')\n",
    "\n",
    "tournament_features_vector_test = []\n",
    "player1_features_vector_test = []\n",
    "player2_features_vector_test = []\n",
    "h2h_overall_vector_test = []\n",
    "h2h_surface_vector_test = []\n",
    "shape_overall_player1_vector_test = []\n",
    "shape_overall_player2_vector_test = []\n",
    "\n",
    "for vector in new_list_vectors_test:\n",
    "    tournament_features_vector_test.append(vector[0])\n",
    "    player1_features_vector_test.append(vector[1])\n",
    "    player2_features_vector_test.append(vector[2])\n",
    "    h2h_overall_vector_test.append(vector[3])\n",
    "    h2h_surface_vector_test.append(vector[4])\n",
    "    shape_overall_player1_vector_test.append(vector[5])\n",
    "    shape_overall_player2_vector_test.append(vector[6])\n",
    "\n",
    "# convert to pytorch tensor\n",
    "tournament_features_tensor_test = torch.tensor(tournament_features_vector_test, dtype=torch.float)\n",
    "tournament_features_mask_test = torch.zeros_like(tournament_features_tensor_test)\n",
    "tournament_features_mask_test[tournament_features_tensor_test != c.PADDING] = 1.\n",
    "player1_features_tensor_test = torch.tensor(player1_features_vector_test, dtype=torch.float)\n",
    "player1_features_mask_test = torch.zeros_like(player1_features_tensor_test)\n",
    "player1_features_mask_test[player1_features_tensor_test != c.PADDING] = 1.\n",
    "player2_features_tensor_test = torch.tensor(player2_features_vector_test, dtype=torch.float)\n",
    "player2_features_mask_test = torch.zeros_like(player2_features_tensor_test)\n",
    "player2_features_mask_test[player2_features_tensor_test != c.PADDING] = 1.\n",
    "h2h_overall_tensor_test = torch.tensor(h2h_overall_vector_test, dtype=torch.float)\n",
    "h2h_overall_mask_test = torch.zeros_like(h2h_overall_tensor_test)\n",
    "h2h_overall_mask_test[h2h_overall_tensor_test != c.PADDING] = 1.\n",
    "h2h_surface_tensor_test = torch.tensor(h2h_surface_vector_test, dtype=torch.float)\n",
    "h2h_surface_mask_test = torch.zeros_like(h2h_surface_tensor_test)\n",
    "h2h_surface_mask_test[h2h_surface_tensor_test != c.PADDING] = 1.\n",
    "shape_overall_player1_tensor_test = torch.tensor(shape_overall_player1_vector_test, dtype=torch.float)\n",
    "shape_overall_player1_mask_test = torch.zeros_like(shape_overall_player1_tensor_test)\n",
    "shape_overall_player1_mask_test[shape_overall_player1_tensor_test != c.PADDING] = 1.\n",
    "shape_overall_player2_tensor_test = torch.tensor(shape_overall_player2_vector_test, dtype=torch.float)\n",
    "shape_overall_player2_mask_test = torch.zeros_like(shape_overall_player2_tensor_test)\n",
    "shape_overall_player2_mask_test[shape_overall_player2_tensor_test != c.PADDING] = 1.\n",
    "\n",
    "label_vector = []\n",
    "for label in new_list_labels_test:\n",
    "    label_vector.append(label)\n",
    "\n",
    "label_tensor_test = torch.tensor(label_vector)\n",
    "\n",
    "test_dataset = TensorDataset(tournament_features_tensor_test, \n",
    "                             tournament_features_mask_test, \n",
    "                             player1_features_tensor_test, \n",
    "                             player1_features_mask_test, \n",
    "                             player2_features_tensor_test, \n",
    "                             player2_features_mask_test,\n",
    "                             h2h_overall_tensor_test, \n",
    "                             h2h_overall_mask_test, \n",
    "                             h2h_surface_tensor_test, \n",
    "                             h2h_surface_mask_test, \n",
    "                             shape_overall_player1_tensor_test, \n",
    "                             shape_overall_player1_mask_test, \n",
    "                             shape_overall_player2_tensor_test, \n",
    "                             shape_overall_player2_mask_test, \n",
    "                             label_tensor_test)\n",
    "\n",
    "test_dataloader = DataLoader(test_dataset, batch_size=64, shuffle=False)\n",
    "\n",
    "all_predictions = []\n",
    "for j in range(N_FOLDS):\n",
    "    model = TennisMatchPredictor(input_shapes)\n",
    "    model.load_state_dict(torch.load(f'{c2.REPO_PATH}/tennis/models/best_model_fold_{j + 1}.pth'))\n",
    "    model.eval()\n",
    "    predictions = []\n",
    "    with torch.no_grad():\n",
    "        test_loss = 0.0\n",
    "        for i, data in enumerate(test_dataloader):\n",
    "            tournament_features, tournament_mask, player1_features, player1_mask, player2_features, player2_mask, h2h_overall, h2h_overall_mask, h2h_surface, h2h_surface_mask, shape_overall_player1, shape_overall_player1_mask, shape_overall_player2, shape_overall_player2_mask, labels = data\n",
    "            outputs = model(tournament_features = tournament_features, \n",
    "                            player1_features = player1_features, \n",
    "                            player2_features = player2_features, \n",
    "                            h2h_overall = h2h_overall, \n",
    "                            h2h_surface = h2h_surface, \n",
    "                            shape_overall_player1 = shape_overall_player1, \n",
    "                            shape_overall_player2 = shape_overall_player2,\n",
    "                            tournament_mask = tournament_mask, \n",
    "                            player1_mask = player1_mask, \n",
    "                            player2_mask = player2_mask, \n",
    "                            h2h_overall_mask = h2h_overall_mask,\n",
    "                            h2h_surface_mask = h2h_surface_mask,\n",
    "                            shape_overall_player1_mask = shape_overall_player1_mask,\n",
    "                            shape_overall_player2_mask = shape_overall_player2_mask\n",
    "                            )    \n",
    "            predictions.append(outputs)        \n",
    "            loss = criterion(outputs, labels.unsqueeze(1).float())\n",
    "            test_loss += loss.item()\n",
    "        print(f'Test Loss: for {j+1} : {test_loss/len(test_dataloader):.2f}')\n",
    "    # find the matches where the model is the most confident and was right\n",
    "    predictions = torch.cat(predictions).flatten()\n",
    "    all_predictions.append(predictions)\n",
    "\n",
    "all_predictions = torch.stack(all_predictions)\n",
    "predictions = all_predictions.mean(dim=0)\n",
    "\n",
    "# get the indexes of the matches where the model was right\n",
    "# create data frame with the predictions and the labels and the match ids\n",
    "df = pd.DataFrame(columns=['match_id', 'predictions', 'labels'])\n",
    "df['predictions'] = predictions\n",
    "df['labels'] = label_tensor_test\n",
    "df['match_id'] = new_list_matches_ids_test\n",
    "# order the data frame by predictions values\n",
    "df = df.sort_values(by='predictions', ascending=False)\n",
    "\n",
    "# fetch the odds of betclic for the matches\n",
    "odds_1_list = []\n",
    "odds_2_list = []\n",
    "prob_list = []\n",
    "for match_id in df['match_id']:\n",
    "    match_odds =tennis_test_dataset.get_match(match_id).get_odds()\n",
    "    odds_found = False\n",
    "    for match_odd in match_odds:\n",
    "        if match_odd['bookmaker'] == 'Betclic.fr':\n",
    "            odds_found = True\n",
    "            odds_1_list.append(float(match_odd['odds'][0]))\n",
    "            odds_2_list.append(float(match_odd['odds'][1]))\n",
    "            player1odd = float(match_odd['odds'][0])\n",
    "            player2odd = float(match_odd['odds'][1])\n",
    "            prob_win_player1 = 1/player1odd\n",
    "            prob_win_player2 = 1/player2odd\n",
    "            # normalize the probabilities\n",
    "            prob_sum = prob_win_player1 + prob_win_player2\n",
    "            prob_win_player1 = prob_win_player1/prob_sum\n",
    "            prob_win_player2 = prob_win_player2/prob_sum\n",
    "            prob_list.append(2*prob_win_player1-1)\n",
    "            break\n",
    "    if not odds_found:\n",
    "        odds_1_list.append(None)\n",
    "        odds_2_list.append(None)\n",
    "        prob_list.append(None) \n",
    "\n",
    "df['odds_1'] = odds_1_list\n",
    "df['odds_2'] = odds_2_list\n",
    "df['bookmaker_pred'] = prob_list\n",
    "df = df.loc[df['odds_1'].notnull()]"
   ]
  },
  {
   "cell_type": "markdown",
   "metadata": {},
   "source": [
    "## Betting"
   ]
  },
  {
   "cell_type": "code",
   "execution_count": null,
   "metadata": {},
   "outputs": [
    {
     "name": "stdout",
     "output_type": "stream",
     "text": [
      "\u001b[92mMatch : 0IDqU7O7 De Minaur A. - Korda S., bet on player 1, (0.77) amount to bet : 6.19, odds : 1.49, label : 1.00, total amount : 103.03\u001b[0m\n",
      "\u001b[92mMatch : nctXlgGr De Minaur A. - Raonic M., bet on player 1, (0.76) amount to bet : 5.86, odds : 1.31, label : 1.00, total amount : 104.85\u001b[0m\n",
      "\n",
      "Total amount after betting : 104.85\n",
      "\u001b[92mRelative won 4.85%\u001b[0m\n"
     ]
    }
   ],
   "source": [
    "CONFIDENCE_THRESHLOLD = 0.5\n",
    "\n",
    "\n",
    "# Kelly criterion\n",
    "def kelly_criterion(odds, prob, safe=0.1):\n",
    "    return (prob - (1- prob)/(odds))*safe\n",
    "\n",
    "bet_on_player_1_df = df.loc[df['predictions'] > CONFIDENCE_THRESHLOLD].copy()\n",
    "bet_on_player_1_df['prediction_prob']= bet_on_player_1_df['predictions'].apply(lambda x : (1+x)/2)\n",
    "bet_on_player_1_df['kelly_criterion'] = bet_on_player_1_df.apply(lambda row : kelly_criterion(row['odds_1'], row['prediction_prob']), axis=1)\n",
    "bet_on_player_2_df = df.loc[df['predictions'] < -CONFIDENCE_THRESHLOLD].copy()\n",
    "bet_on_player_2_df['prediction_prob']= bet_on_player_2_df['predictions'].apply(lambda x : (1-x)/2)\n",
    "bet_on_player_2_df['kelly_criterion'] = bet_on_player_2_df.apply(lambda row : kelly_criterion(row['odds_2'], row['prediction_prob']), axis=1)\n",
    "bet_on_player_2_df = bet_on_player_2_df.sort_values(by='predictions', ascending=True)\n",
    "\n",
    "# Strategy results : bet the proportion given by the kelly criterion on each match\n",
    "INIT_AMOUNT = 100 # euros\n",
    "GREEN = '\\033[92m'\n",
    "RED = '\\033[91m'\n",
    "RESET = '\\033[0m'\n",
    "# bet on player 1\n",
    "total_amount = INIT_AMOUNT\n",
    "for i, row in bet_on_player_1_df.iterrows():\n",
    "    player1 = tennis_test_dataset.get_match(row['match_id']).get_players()[0]\n",
    "    player2 = tennis_test_dataset.get_match(row['match_id']).get_players()[1]\n",
    "    amout_to_bet = row['kelly_criterion']*total_amount\n",
    "    if row['labels'] == 1:\n",
    "        total_amount += amout_to_bet*(row['odds_1']-1)\n",
    "        print(f\"{GREEN}Match : {row['match_id']} {player1} - {player2}, bet on player 1, ({row['prediction_prob']:.2f}) amount to bet : {amout_to_bet:.2f}, odds : {row['odds_1']:.2f}, label : {row['labels']:.2f}, total amount : {total_amount:.2f}{RESET}\")\n",
    "    else:\n",
    "        total_amount -= amout_to_bet\n",
    "        print(f\"{RED}Match : {row['match_id']} {player1} - {player2}, bet on player 1, ({row['prediction_prob']:.2f}) amount to bet : {amout_to_bet:.2f}, odds : {row['odds_1']:.2f}, label : {row['labels']:.2f}, total amount : {total_amount:.2f}{RESET}\")\n",
    "\n",
    "    \n",
    "\n",
    "# bet on player 2\n",
    "for i, row in bet_on_player_2_df.iterrows():\n",
    "    player1 = tennis_test_dataset.get_match(row['match_id']).get_players()[0]\n",
    "    player2 = tennis_test_dataset.get_match(row['match_id']).get_players()[1]\n",
    "    amout_to_bet = row['kelly_criterion']*total_amount\n",
    "    if row['labels'] == -1:\n",
    "        total_amount += amout_to_bet*(row['odds_2']-1)\n",
    "        print(f\"{GREEN}Match : {row['match_id']} {player1} - {player2}, bet on player 2, ({row['prediction_prob']:.2f}) amount to bet : {amout_to_bet:.2f}, odds : {row['odds_2']:.2f}, label : {row['labels']:.2f}, total amount : {total_amount:.2f}{RESET}\")\n",
    "\n",
    "    else:\n",
    "        total_amount -= amout_to_bet\n",
    "        print(f\"{RED}Match : {row['match_id']} {player1} - {player2}, bet on player 2, ({row['prediction_prob']:.2f}) amount to bet : {amout_to_bet:.2f}, odds : {row['odds_2']:.2f}, label : {row['labels']:.2f}, total amount : {total_amount:.2f}{RESET}\")\n",
    "\n",
    "\n",
    "\n",
    "print(f\"\\nTotal amount after betting : {total_amount:.2f}\")\n",
    "if total_amount > INIT_AMOUNT:\n",
    "    print(f\"{GREEN}Relative won {(total_amount-INIT_AMOUNT)/INIT_AMOUNT*100:.2f}%{RESET}\")\n",
    "else:\n",
    "    print(f\"{RED}Relative lost {(INIT_AMOUNT-total_amount)/INIT_AMOUNT*100:.2f}%{RESET}\")"
   ]
  }
 ],
 "metadata": {
  "kernelspec": {
   "display_name": "Python 3",
   "language": "python",
   "name": "python3"
  },
  "language_info": {
   "codemirror_mode": {
    "name": "ipython",
    "version": 3
   },
   "file_extension": ".py",
   "mimetype": "text/x-python",
   "name": "python",
   "nbconvert_exporter": "python",
   "pygments_lexer": "ipython3",
   "version": "3.9.18"
  }
 },
 "nbformat": 4,
 "nbformat_minor": 2
}
