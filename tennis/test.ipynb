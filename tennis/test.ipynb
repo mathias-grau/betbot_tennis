{
 "cells": [
  {
   "cell_type": "code",
   "execution_count": 4,
   "metadata": {},
   "outputs": [],
   "source": [
    "\n",
    "import json\n",
    "\n",
    "\n",
    "\n",
    "with open('matches.json') as f:\n",
    "    data = json.load(f)    \n",
    "\n",
    "with open(\"/users/eleves-b/2021/mathias.grau/betbot/FlashscoreScraping/src/data/tennis/past-french-open-atp-singles.json\") as f:\n",
    "    data2 = json.load(f)\n",
    "\n",
    "# compare the two json files and print the matches that are in both files\n",
    "for match_id, match_data in data.items():\n",
    "    print(match_id)\n",
    "    print(match_data)\n",
    "    print(data2[match_id])\n"
   ]
  }
 ],
 "metadata": {
  "kernelspec": {
   "display_name": "Python 3",
   "language": "python",
   "name": "python3"
  },
  "language_info": {
   "codemirror_mode": {
    "name": "ipython",
    "version": 3
   },
   "file_extension": ".py",
   "mimetype": "text/x-python",
   "name": "python",
   "nbconvert_exporter": "python",
   "pygments_lexer": "ipython3",
   "version": "3.9.18"
  }
 },
 "nbformat": 4,
 "nbformat_minor": 2
}
